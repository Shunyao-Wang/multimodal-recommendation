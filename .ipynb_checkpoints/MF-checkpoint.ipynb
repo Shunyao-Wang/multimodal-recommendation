{
 "cells": [
  {
   "cell_type": "code",
   "execution_count": 7,
   "metadata": {
    "collapsed": true,
    "pycharm": {
     "is_executing": false
    }
   },
   "outputs": [],
   "source": [
    "import pandas as pd\n",
    "import numpy as np\n",
    "rating = pd.read_csv(\"./data/rating.tsv\",sep=\"\\t\")"
   ]
  },
  {
   "cell_type": "code",
   "execution_count": 9,
   "metadata": {
    "pycharm": {
     "is_executing": false,
     "name": "#%%\n"
    }
   },
   "outputs": [
    {
     "name": "stdout",
     "output_type": "stream",
     "text": [
      "1507 3712 35494\n"
     ]
    }
   ],
   "source": [
    "num_user = np.max(rating[\"userId\"])\n",
    "num_movie = np.max(rating[\"movieId\"])\n",
    "print(num_user,num_movie,len(rating))"
   ]
  },
  {
   "cell_type": "code",
   "execution_count": 10,
   "metadata": {
    "pycharm": {
     "is_executing": false,
     "name": "#%%\n"
    }
   },
   "outputs": [
    {
     "name": "stderr",
     "output_type": "stream",
     "text": [
      "Using TensorFlow backend.\n"
     ]
    }
   ],
   "source": [
    "from keras import Model\n",
    "import keras.backend as K\n",
    "from keras.layers import Embedding,Reshape,Input,Dot\n",
    "K.clear_session()\n",
    "def Recmand_model(num_user,num_movie,k):\n",
    "    input_uer = Input(shape=[None,],dtype=\"int32\")\n",
    "    model_uer = Embedding(num_user+1,k,input_length = 1)(input_uer)\n",
    "    model_uer = Reshape((k,))(model_uer)\n",
    "    \n",
    "    input_movie = Input(shape=[None,],dtype=\"int32\")\n",
    "    model_movie  = Embedding(num_movie+1,k,input_length = 1)(input_movie)\n",
    "    model_movie = Reshape((k,))(model_movie)\n",
    "    \n",
    "    out = Dot(1)([model_uer,model_movie])\n",
    "    model = Model(inputs=[input_uer,input_movie], outputs=out)\n",
    "    model.compile(loss='mse', optimizer='Adam')\n",
    "    model.summary()\n",
    "    return model"
   ]
  },
  {
   "cell_type": "code",
   "execution_count": 11,
   "metadata": {
    "pycharm": {
     "is_executing": false,
     "name": "#%%\n"
    }
   },
   "outputs": [
    {
     "name": "stdout",
     "output_type": "stream",
     "text": [
      "Model: \"model_1\"\n",
      "__________________________________________________________________________________________________\n",
      "Layer (type)                    Output Shape         Param #     Connected to                     \n",
      "==================================================================================================\n",
      "input_1 (InputLayer)            (None, None)         0                                            \n",
      "__________________________________________________________________________________________________\n",
      "input_2 (InputLayer)            (None, None)         0                                            \n",
      "__________________________________________________________________________________________________\n",
      "embedding_1 (Embedding)         (None, 1, 100)       150800      input_1[0][0]                    \n",
      "__________________________________________________________________________________________________\n",
      "embedding_2 (Embedding)         (None, 1, 100)       371300      input_2[0][0]                    \n",
      "__________________________________________________________________________________________________\n",
      "reshape_1 (Reshape)             (None, 100)          0           embedding_1[0][0]                \n",
      "__________________________________________________________________________________________________\n",
      "reshape_2 (Reshape)             (None, 100)          0           embedding_2[0][0]                \n",
      "__________________________________________________________________________________________________\n",
      "dot_1 (Dot)                     (None, 1)            0           reshape_1[0][0]                  \n",
      "                                                                 reshape_2[0][0]                  \n",
      "==================================================================================================\n",
      "Total params: 522,100\n",
      "Trainable params: 522,100\n",
      "Non-trainable params: 0\n",
      "__________________________________________________________________________________________________\n"
     ]
    }
   ],
   "source": [
    "model = Recmand_model(num_user,num_movie,100)"
   ]
  },
  {
   "cell_type": "code",
   "execution_count": 12,
   "metadata": {
    "pycharm": {
     "name": "#%%\n"
    }
   },
   "outputs": [],
   "source": [
    "train_user = rating[\"userId\"].values\n",
    "train_movie = rating[\"movieId\"].values\n",
    "train_x = [train_user,train_movie]\n",
    "train_y = rating[\"rating\"].values\n"
   ]
  },
  {
   "cell_type": "code",
   "execution_count": 13,
   "metadata": {},
   "outputs": [
    {
     "name": "stderr",
     "output_type": "stream",
     "text": [
      "c:\\users\\wang\\appdata\\local\\programs\\python\\python37\\lib\\site-packages\\tensorflow_core\\python\\framework\\indexed_slices.py:424: UserWarning: Converting sparse IndexedSlices to a dense Tensor of unknown shape. This may consume a large amount of memory.\n",
      "  \"Converting sparse IndexedSlices to a dense Tensor of unknown shape. \"\n"
     ]
    },
    {
     "name": "stdout",
     "output_type": "stream",
     "text": [
      "Epoch 1/10\n",
      "35494/35494 [==============================] - 7s 190us/step - loss: 8.6387 4s\n",
      "Epoch 2/10\n",
      "35494/35494 [==============================] - 7s 183us/step - loss: 2.5279\n",
      "Epoch 3/10\n",
      "35494/35494 [==============================] - 6s 172us/step - loss: 1.4538 0s - ETA: 0s - loss: 1.4\n",
      "Epoch 4/10\n",
      "35494/35494 [==============================] - 7s 198us/step - loss: 1.0510\n",
      "Epoch 5/10\n",
      "35494/35494 [==============================] - 7s 197us/step - loss: 0.8185 0s - loss: 0.\n",
      "Epoch 6/10\n",
      "35494/35494 [==============================] - 6s 170us/step - loss: 0.6643 0s - loss: 0. - ETA: 0s - loss:  - ETA: 0s - loss: 0.66 - ETA: 0s - loss: 0.66\n",
      "Epoch 7/10\n",
      "35494/35494 [==============================] - 6s 169us/step - loss: 0.5593\n",
      "Epoch 8/10\n",
      "35494/35494 [==============================] - 7s 205us/step - loss: 0.4814\n",
      "Epoch 9/10\n",
      "35494/35494 [==============================] - 9s 247us/step - loss: 0.4201\n",
      "Epoch 10/10\n",
      "35494/35494 [==============================] - 8s 232us/step - loss: 0.3667 0s - loss: 0.367 - ETA: 0s - loss: 0.\n"
     ]
    },
    {
     "data": {
      "text/plain": [
       "<keras.callbacks.callbacks.History at 0x1f5dfc23eb8>"
      ]
     },
     "execution_count": 13,
     "metadata": {},
     "output_type": "execute_result"
    }
   ],
   "source": [
    "model.fit(train_x,train_y,batch_size = 100,epochs =10)"
   ]
  },
  {
   "cell_type": "code",
   "execution_count": 14,
   "metadata": {},
   "outputs": [
    {
     "data": {
      "text/plain": [
       "array([[0.0374357]], dtype=float32)"
      ]
     },
     "execution_count": 14,
     "metadata": {},
     "output_type": "execute_result"
    }
   ],
   "source": [
    "model.predict([[1],[2]])"
   ]
  },
  {
   "cell_type": "code",
   "execution_count": null,
   "metadata": {},
   "outputs": [],
   "source": []
  }
 ],
 "metadata": {
  "kernelspec": {
   "display_name": "Python 3",
   "language": "python",
   "name": "python3"
  },
  "language_info": {
   "codemirror_mode": {
    "name": "ipython",
    "version": 3
   },
   "file_extension": ".py",
   "mimetype": "text/x-python",
   "name": "python",
   "nbconvert_exporter": "python",
   "pygments_lexer": "ipython3",
   "version": "3.7.1"
  },
  "pycharm": {
   "stem_cell": {
    "cell_type": "raw",
    "metadata": {
     "collapsed": false
    },
    "source": []
   }
  }
 },
 "nbformat": 4,
 "nbformat_minor": 1
}
