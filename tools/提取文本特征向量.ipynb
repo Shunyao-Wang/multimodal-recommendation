{
 "cells": [
  {
   "cell_type": "code",
   "execution_count": 1,
   "metadata": {
    "collapsed": true,
    "pycharm": {
     "is_executing": false
    }
   },
   "outputs": [],
   "source": [
    "import numpy as np\n",
    "import pandas as pd\n",
    "hetrec_path = \"F:\\data\\hetrec2011-movielens-2k-v2\\\\\""
   ]
  },
  {
   "cell_type": "code",
   "execution_count": 2,
   "outputs": [],
   "source": [
    "# file=open('../data/testMovieID.txt', 'r')\n",
    "file=open('../data/movieID.txt', 'r')\n",
    "movieID = [int(x.strip()) for x in file]\n",
    "file.close()"
   ],
   "metadata": {
    "collapsed": false,
    "pycharm": {
     "name": "#%%\n",
     "is_executing": false
    }
   }
  },
  {
   "cell_type": "code",
   "execution_count": 3,
   "outputs": [],
   "source": [
    "df_country = pd.read_table(hetrec_path+\"movie_countries.dat\",index_col=\"movieID\")\n",
    "df_country = df_country.fillna(\"UNKNOWN\")"
   ],
   "metadata": {
    "collapsed": false,
    "pycharm": {
     "name": "#%%\n",
     "is_executing": false
    }
   }
  },
  {
   "cell_type": "code",
   "execution_count": 4,
   "outputs": [
    {
     "name": "stdout",
     "text": [
      "['USA', 'USA', 'USA', 'USA', 'USA', 'Iran', 'USA', 'Netherlands', 'USA', 'USA', 'USA', 'USA', 'USA', 'New Zealand', 'USA', 'USA', 'USA', 'USA', 'USA', 'USA', 'UK', 'France', 'USA', 'UK', 'USA', 'USA', 'USA', 'USA', 'Argentina', 'Hungary', 'USA', 'USA', 'USA', 'New Zealand', 'USA', 'USA', 'USA', 'UK', 'USA', 'USA', 'UK', 'France', 'Canada', 'USA', 'USA', 'USA', 'USA', 'USA', 'USA', 'France', 'USA', 'France', 'West Germany', 'Portugal', 'UK', 'USA', 'USA', 'UK', 'USA', 'USA', 'USA', 'USA', 'USA', 'USA', 'UK', 'USA', 'USA', 'France', 'USA', 'China', 'Hong Kong', 'USA', 'USA', 'USA', 'USA', 'Vietnam', 'USA', 'USA', 'Australia', 'USA', 'Germany', 'Hong Kong', 'USA', 'USA', 'UK', 'USA', 'USA', 'Australia', 'France', 'USA', 'USA', 'Hong Kong', 'USA', 'USA', 'USA', 'USA', 'USA', 'USA', 'USA', 'USA', 'USA', 'USA', 'USA', 'UK', 'USA', 'France', 'USA', 'USA', 'USA', 'USA', 'USA', 'USA', 'USA', 'USA', 'USA', 'USA', 'USA', 'USA', 'USA', 'USA', 'USA', 'USA', 'USA', 'USA', 'USA', 'USA', 'USA', 'USA', 'USA', 'USA', 'USA', 'USA', 'USA', 'UK', 'USA', 'USA', 'USA', 'USA', 'USA', 'USA', 'USA', 'USA', 'USA', 'USA', 'USA', 'USA', 'USA', 'USA', 'USA', 'USA', 'USA', 'USA', 'USA', 'USA', 'USA', 'USA', 'USA', 'USA', 'USA', 'USA', 'USA', 'USA', 'USA', 'USA', 'USA', 'USA', 'USA', 'USA', 'USA', 'USA', 'USA', 'USA', 'UK', 'USA', 'UK', 'USA', 'UK', 'UK', 'USA', 'USA', 'USA', 'Italy', 'USA', 'Hong Kong', 'USA', 'USA', 'UK', 'France', 'UNKNOWN', 'USA', 'USA', 'USA', 'Germany', 'USA', 'UK', 'USA', 'USA', 'USA', 'USA', 'USA', 'USA', 'USA', 'Germany', 'Hong Kong', 'USA', 'USA', 'Canada', 'UK', 'UK', 'USA', 'UK', 'USA', 'Canada', 'UK', 'UK', 'USA', 'USA', 'USA', 'USA', 'Italy', 'Japan', 'Japan', 'Italy', 'USA', 'USA', 'USA', 'Taiwan', 'UK', 'USA', 'Canada', 'Italy', 'Germany', 'Japan', 'USA', 'USA', 'USA', 'Japan', 'USA', 'USA', 'France', 'USA', 'Japan', 'Japan', 'Japan', 'Sweden', 'USA', 'USA', 'USA', 'USA', 'USA', 'Sweden', 'Sweden', 'Sweden', 'Sweden', 'Sweden', 'Sweden', 'Sweden', 'Sweden', 'USA', 'USA', 'USA', 'USA', 'USA', 'USA', 'USA', 'USA', 'USA', 'Italy', 'West Germany', 'USA', 'USA', 'USA', 'USA', 'USA', 'Hong Kong', 'South Korea', 'USA', 'UK', 'USA', 'USA', 'Japan', 'UK', 'USA', 'USA', 'USA', 'USA', 'USA', 'USA', 'USA', 'USA', 'Spain', 'USA', 'USA', 'USA', 'Australia', 'USA', 'Japan', 'USA', 'South Korea', 'USA', 'USA', 'UK', 'Japan', 'USA', 'Russia', 'USA', 'Italy', 'Japan', 'USA', 'USA', 'USA', 'USA', 'USA', 'USA', 'USA', 'USA', 'USA', 'USA', 'Canada', 'USA', 'USA', 'South Korea', 'USA', 'Denmark', 'USA', 'USA', 'USA', 'Canada', 'USA', 'UK', 'USA', 'USA', 'USA', 'USA', 'France', 'USA', 'USA', 'USA', 'Denmark', 'South Korea', 'USA', 'USA', 'Canada', 'UK', 'Japan', 'France', 'USA', 'USA', 'USA', 'USA', 'Italy', 'Japan', 'USA', 'USA', 'Netherlands', 'USA', 'UK', 'USA', 'Japan', 'France', 'USA', 'UK', 'USA', 'Italy', 'USA', 'France', 'France', 'Japan', 'USA', 'France', 'USA', 'UK', 'USA', 'Italy', 'UK', 'USA', 'USA', 'USA', 'USA', 'USA', 'USA', 'USA', 'USA', 'Spain', 'USA', 'USA', 'USA', 'Japan', 'USA', 'Japan', 'USA', 'USA', 'USA', 'USA', 'Romania', 'USA', 'USA', 'USA', 'USA', 'USA', 'USA', 'West Germany', 'USA', 'USA', 'France', 'UK', 'Spain', 'USA', 'USA', 'UK', 'Japan', 'USA', 'USA', 'USA', 'Japan', 'UK', 'USA', 'UK', 'USA', 'USA', 'USA', 'UK', 'USA', 'UK', 'USA', 'USA', 'USA', 'USA', 'USA', 'UK', 'USA', 'France', 'UK', 'USA', 'Japan', 'USA', 'USA', 'USA', 'Japan', 'USA', 'USA', 'France', 'USA', 'UK', 'USA', 'USA', 'USA', 'UK', 'USA', 'USA', 'USA', 'UK', 'USA', 'USA', 'UK', 'USA', 'USA', 'USA', 'USA', 'Spain', 'USA', 'USA', 'UK', 'Sweden', 'USA', 'USA', 'UK', 'Spain', 'USA', 'USA', 'USA', 'USA', 'Japan', 'USA', 'USA', 'USA', 'USA', 'USA', 'USA', 'USA', 'Germany', 'France', 'Italy', 'USA', 'France', 'USA', 'USA', 'USA', 'USA', 'USA', 'USA', 'France', 'UK', 'USA', 'USA', 'USA', 'USA', 'Italy', 'USA', 'USA', 'USA', 'USA', 'UK', 'UK', 'USA', 'USA', 'USA', 'USA', 'USA', 'USA', 'USA', 'Japan', 'Denmark', 'USA', 'USA', 'USA', 'UK', 'USA', 'USA', 'USA', 'Canada', 'USA', 'USA', 'USA', 'USA', 'UK', 'USA', 'USA', 'UK', 'USA', 'USA', 'USA', 'France', 'USA', 'France', 'USA', 'USA', 'USA', 'USA', 'USA', 'USA', 'USA', 'USA', 'Denmark', 'France', 'Sweden', 'USA', 'Australia', 'UNKNOWN', 'USA', 'USA', 'Australia', 'USA', 'USA', 'USA', 'USA', 'USA', 'USA', 'Finland', 'USA', 'USA', 'USA', 'USA', 'USA', 'UK', 'New Zealand', 'Sweden', 'UK', 'USA', 'France', 'Republic of Macedonia', 'East Germany', 'USA', 'France', 'Japan', 'France', 'Canada', 'USA', 'USA', 'USA', 'USA', 'USA', 'USA', 'USA', 'USA', 'UK', 'Mexico', 'UK', 'USA', 'USA', 'USA', 'UK', 'USA', 'France', 'UK', 'USA', 'UK', 'USA', 'USA', 'Italy', 'USA', 'USA', 'USA', 'USA', 'USA', 'USA', 'USA', 'USA', 'Colombia', 'USA', 'Spain', 'USA', 'USA', 'Italy', 'USA', 'UK', 'USA', 'USA', 'Poland', 'USA', 'USA', 'Poland', 'USA', 'France', 'UK', 'France', 'USA', 'USA', 'USA', 'USA', 'USA', 'Germany', 'Netherlands', 'USA', 'USA', 'Ireland', 'USA', 'USA', 'USA', 'USA', 'USA', 'Spain', 'France', 'UK', 'USA', 'France', 'Spain', 'USA', 'UK', 'Canada', 'USA', 'USA', 'USA', 'USA', 'USA', 'USA', 'Spain', 'USA', 'USA', 'USA', 'UK', 'USA', 'Spain', 'UK', 'USA', 'USA', 'USA', 'USA', 'Australia', 'USA', 'USA', 'Sweden', 'USA', 'USA', 'USA', 'USA', 'USA', 'USA', 'USA', 'USA', 'USA', 'Italy', 'USA', 'USA', 'UK', 'France', 'USA', 'USA', 'UK', 'France', 'USA', 'USA', 'Canada', 'UK', 'France', 'Italy', 'Japan', 'USA', 'USA', 'UK', 'USA', 'UK', 'USA', 'USA', 'Italy', 'France', 'USA', 'USA', 'USA', 'UK', 'Italy', 'USA', 'USA', 'USA', 'USA', 'USA', 'UK', 'USA', 'USA', 'USA', 'USA', 'USA', 'Austria', 'USA', 'USA', 'UK', 'USA', 'USA', 'USA', 'Canada', 'USA', 'France', 'UK', 'USA', 'UK', 'USA', 'USA', 'France', 'UK', 'UK', 'USA', 'UK', 'Hong Kong', 'UK', 'Hong Kong', 'Soviet Union', 'South Korea', 'USA', 'USA', 'USA', 'USA', 'UK', 'USA', 'Japan', 'France', 'South Korea', 'USA', 'USA', 'USA', 'Australia', 'USA', 'Japan', 'Switzerland', 'USA', 'USA', 'USA', 'USA', 'USA', 'UK', 'USA', 'Japan', 'France', 'USA', 'Canada', 'USA', 'USA', 'USA', 'China', 'UK', 'USA', 'USA', 'USA', 'USA', 'USA', 'USA', 'USA', 'USA', 'USA', 'Poland', 'USA', 'USA', 'USA', 'USA', 'USA', 'UK', 'USA', 'USA', 'UK', 'USA', 'USA', 'Germany', 'USA', 'Germany', 'USA', 'USA', 'USA', 'UK', 'France', 'UK', 'USA', 'USA', 'USA', 'USA', 'Argentina', 'UK', 'USA', 'USA', 'USA', 'UK', 'USA', 'USA', 'USA', 'USA', 'USA', 'USA', 'USA', 'UK', 'USA', 'USA', 'USA', 'USA', 'UK', 'USA', 'UK', 'USA', 'USA', 'USA', 'Canada', 'USA', 'USA', 'France', 'Italy', 'USA', 'USA', 'USA', 'USA', 'USA', 'USA', 'USA', 'USA', 'UK', 'USA', 'USA', 'USA', 'USA', 'USA', 'USA', 'Denmark', 'France', 'USA', 'USA', 'USA', 'USA', 'USA', 'USA', 'Denmark', 'USA', 'USA', 'Canada', 'USA', 'USA', 'France', 'USA', 'USA', 'USA', 'USA', 'USA', 'Canada', 'USA', 'France', 'USA', 'USA', 'UK', 'USA', 'Spain', 'UK', 'Hong Kong', 'USA', 'USA', 'UK', 'USA', 'USA', 'USA', 'USA', 'USA', 'USA', 'Denmark', 'Italy', 'USA', 'USA', 'Romania', 'USA', 'UK', 'USA', 'India', 'USA', 'Spain', 'USA', 'France', 'Germany', 'USA', 'USA', 'France', 'USA', 'USA', 'China', 'USA', 'USA', 'USA', 'USA', 'USA', 'USA', 'USA', 'USA', 'USA', 'USA', 'Australia', 'USA', 'USA', 'USA', 'USA', 'USA', 'USA', 'Germany', 'USA', 'UK', 'USA', 'USA', 'USA', 'UK', 'France', 'USA', 'USA', 'USA', 'USA', 'UK', 'USA', 'USA']\n"
     ],
     "output_type": "stream"
    },
    {
     "name": "stderr",
     "text": [
      "c:\\users\\wang\\appdata\\local\\programs\\python\\python37\\lib\\site-packages\\ipykernel_launcher.py:4: FutureWarning: get_value is deprecated and will be removed in a future release. Please use .at[] or .iat[] accessors instead\n",
      "  after removing the cwd from sys.path.\n"
     ],
     "output_type": "stream"
    }
   ],
   "source": [
    "countries = []\n",
    "for id in movieID:\n",
    "    tmp = df_country.get_value(id, \"country\")\n",
    "    countries.append(tmp)\n",
    "print(countries)"
   ],
   "metadata": {
    "collapsed": false,
    "pycharm": {
     "name": "#%%\n",
     "is_executing": false
    }
   }
  },
  {
   "cell_type": "code",
   "execution_count": 5,
   "outputs": [],
   "source": [
    "countryID = list(set(countries))\n",
    "countryID.sort()"
   ],
   "metadata": {
    "collapsed": false,
    "pycharm": {
     "name": "#%%\n",
     "is_executing": false
    }
   }
  },
  {
   "cell_type": "code",
   "execution_count": 6,
   "outputs": [
    {
     "name": "stdout",
     "text": [
      "{'Argentina': 0, 'Australia': 1, 'Austria': 2, 'Canada': 3, 'China': 4, 'Colombia': 5, 'Denmark': 6, 'East Germany': 7, 'Finland': 8, 'France': 9, 'Germany': 10, 'Hong Kong': 11, 'Hungary': 12, 'India': 13, 'Iran': 14, 'Ireland': 15, 'Italy': 16, 'Japan': 17, 'Mexico': 18, 'Netherlands': 19, 'New Zealand': 20, 'Poland': 21, 'Portugal': 22, 'Republic of Macedonia': 23, 'Romania': 24, 'Russia': 25, 'South Korea': 26, 'Soviet Union': 27, 'Spain': 28, 'Sweden': 29, 'Switzerland': 30, 'Taiwan': 31, 'UK': 32, 'UNKNOWN': 33, 'USA': 34, 'Vietnam': 35, 'West Germany': 36}\n"
     ],
     "output_type": "stream"
    }
   ],
   "source": [
    "id = [i for i in range(len(countryID))]\n",
    "iddict = dict(zip(countryID, id))\n",
    "print(iddict)\n"
   ],
   "metadata": {
    "collapsed": false,
    "pycharm": {
     "name": "#%%\n",
     "is_executing": false
    }
   }
  },
  {
   "cell_type": "code",
   "execution_count": 7,
   "outputs": [],
   "source": [
    "code = np.zeros((len(countries), len(countryID)), dtype=int)\n",
    "tmp = 0\n",
    "for name in countries:\n",
    "    code[tmp][iddict.get(name)] = 1\n",
    "    tmp += 1"
   ],
   "metadata": {
    "collapsed": false,
    "pycharm": {
     "name": "#%%\n",
     "is_executing": false
    }
   }
  },
  {
   "cell_type": "code",
   "execution_count": 8,
   "outputs": [],
   "source": [
    "file = open(\"../data/countryID.txt\", \"w\")\n",
    "tmp = 0\n",
    "for name in countryID:\n",
    "    file.write(str(tmp) + \",\" + name + \"\\n\")\n",
    "    tmp += 1\n",
    "file.close()"
   ],
   "metadata": {
    "collapsed": false,
    "pycharm": {
     "name": "#%%\n",
     "is_executing": false
    }
   }
  },
  {
   "cell_type": "code",
   "execution_count": 9,
   "outputs": [],
   "source": [
    "np.save(\"../data/features/country_feature.npy\", code)"
   ],
   "metadata": {
    "collapsed": false,
    "pycharm": {
     "name": "#%%\n",
     "is_executing": false
    }
   }
  },
  {
   "cell_type": "markdown",
   "source": [
    "上面是国家特征向量，下面如法炮制类别特征<br>\n",
    "国家是一对一，类别是多对一，需要修改"
   ],
   "metadata": {
    "collapsed": false
   }
  },
  {
   "cell_type": "code",
   "execution_count": 46,
   "outputs": [],
   "source": [
    "df_genre = pd.read_table(hetrec_path+\"movie_genres.dat\")\n",
    "df_genre = df_genre.fillna(\"UNKNOWN\")"
   ],
   "metadata": {
    "collapsed": false,
    "pycharm": {
     "name": "#%%\n",
     "is_executing": false
    }
   }
  },
  {
   "cell_type": "code",
   "execution_count": 49,
   "outputs": [
    {
     "name": "stdout",
     "text": [
      "['Action', 'Adventure', 'Animation', 'Children', 'Comedy', 'Crime', 'Documentary', 'Drama', 'Fantasy', 'Film-Noir', 'Horror', 'IMAX', 'Musical', 'Mystery', 'Romance', 'Sci-Fi', 'Thriller', 'War', 'Western']\n",
      "[['Comedy', 'Romance'], ['Adventure', 'Children'], ['Action'], ['Drama'], ['Drama', 'Thriller'], ['Children', 'Drama'], ['Crime', 'Drama', 'Romance'], ['Comedy', 'Drama'], ['Drama'], ['Comedy', 'Drama'], ['Drama', 'Romance'], ['Adventure', 'Drama'], ['Children', 'Comedy'], ['Comedy'], ['Action', 'Thriller'], ['Drama'], ['Drama', 'Horror', 'Thriller'], ['Comedy', 'Romance'], ['Comedy', 'Drama', 'Romance'], ['Action', 'Adventure', 'Thriller'], ['Comedy', 'Drama'], ['Drama'], ['Action', 'Thriller'], ['Documentary'], ['Comedy', 'Thriller'], ['Comedy'], ['Action', 'Drama', 'Thriller'], ['Comedy', 'Fantasy', 'Romance', 'Sci-Fi'], ['Drama'], ['Fantasy'], ['Drama'], ['Drama'], ['Action', 'Adventure', 'Drama', 'Thriller'], ['Comedy', 'Horror', 'Thriller'], ['Drama'], ['Children', 'Comedy'], ['Drama', 'Romance'], ['Comedy', 'Drama', 'Romance'], ['Comedy', 'Romance'], ['Drama', 'Thriller'], ['Crime', 'Drama'], ['Comedy', 'Romance'], ['Adventure', 'Children'], ['Action', 'Adventure'], ['Children', 'Comedy', 'Fantasy'], ['Comedy'], ['Drama'], ['Action', 'Mystery', 'Thriller'], ['Comedy'], ['Drama'], ['Romance'], ['Drama'], ['Drama'], ['Drama'], ['Adventure', 'Children'], ['Comedy', 'Fantasy', 'Musical'], ['Comedy'], ['Drama'], ['Action', 'Crime', 'Drama', 'Thriller'], ['Comedy'], ['Comedy'], ['Drama'], ['Action', 'Adventure', 'Thriller'], ['Children', 'Comedy', 'Fantasy'], ['Comedy', 'Drama', 'Romance'], ['Action', 'Thriller'], ['Children', 'Comedy'], ['Horror'], ['Comedy', 'Horror'], ['Drama'], ['Drama'], ['Drama'], ['Comedy', 'Drama'], ['Drama'], ['Action', 'Adventure', 'Sci-Fi', 'Thriller'], ['Crime', 'Drama'], ['Drama'], ['Comedy', 'Drama', 'Romance'], ['Drama'], ['Crime', 'Drama'], ['Comedy'], ['Action', 'Comedy', 'Crime', 'Thriller'], ['Drama'], ['Comedy', 'Drama'], ['Drama'], ['Crime', 'Drama', 'Romance', 'Thriller'], ['Comedy', 'Crime'], ['Comedy'], ['Crime'], ['Comedy'], ['Drama'], ['Action', 'Comedy', 'Crime', 'Thriller'], ['Drama'], ['Horror', 'Thriller'], ['Sci-Fi', 'Thriller'], ['Children', 'Comedy'], ['Drama', 'Thriller'], ['Drama'], ['Children', 'Drama', 'Fantasy'], ['Action'], ['Drama'], ['Adventure', 'Animation', 'Children', 'Drama', 'Musical'], ['Horror', 'Thriller'], ['Comedy', 'Drama', 'Romance'], ['Drama'], ['Drama'], ['Adventure', 'Drama', 'Romance', 'War'], ['Comedy', 'Romance'], ['Comedy', 'Musical', 'Romance'], ['Musical', 'Romance'], ['Comedy', 'Musical'], ['Drama', 'Romance'], ['Drama', 'Mystery', 'Romance', 'Thriller'], ['Mystery', 'Thriller'], ['Comedy', 'Romance'], ['Drama', 'Thriller'], ['Comedy', 'Musical', 'Romance'], ['Adventure', 'Mystery', 'Thriller'], ['Comedy', 'Drama', 'Romance'], ['Comedy', 'Crime'], ['Comedy', 'Crime', 'Mystery', 'Romance', 'Thriller'], ['Drama', 'Romance'], ['Film-Noir', 'Mystery'], ['Comedy', 'Drama', 'Musical', 'Romance'], ['Comedy', 'Romance'], ['Comedy', 'Romance'], ['Children', 'Drama'], ['Musical'], ['Adventure', 'Children', 'Fantasy', 'Musical'], ['Drama', 'Romance', 'War'], ['Comedy'], ['Drama', 'Film-Noir', 'Romance'], ['Drama', 'Mystery'], ['Adventure', 'Sci-Fi'], ['Adventure', 'Romance'], ['Drama'], ['Comedy'], ['Drama', 'Mystery', 'Romance', 'Thriller'], ['Drama', 'Film-Noir', 'Mystery', 'Thriller'], ['Film-Noir', 'Romance', 'Thriller'], ['Mystery', 'Romance', 'Thriller'], ['Romance'], ['Crime', 'Mystery', 'Romance', 'Thriller'], ['Comedy'], ['Comedy', 'Musical'], ['Comedy', 'Romance'], ['Comedy', 'Romance'], ['Musical'], ['Action', 'Adventure', 'Romance'], ['Adventure'], ['Crime', 'Film-Noir', 'Mystery'], ['Drama', 'Fantasy', 'Romance'], ['Drama'], ['Comedy', 'Musical', 'Romance'], ['Comedy', 'Drama', 'War'], ['Comedy'], ['Drama'], ['Drama'], ['Comedy', 'Mystery'], ['Comedy', 'Romance'], ['Adventure', 'Comedy'], ['Drama', 'Fantasy', 'Romance'], ['Drama'], ['Comedy'], ['Drama', 'Romance'], ['Drama'], ['Comedy', 'Mystery'], ['Drama'], ['Crime', 'Drama'], ['Drama'], ['Musical'], ['Romance', 'Western'], ['Drama', 'Mystery', 'Thriller'], ['War'], ['Western'], ['Horror', 'Sci-Fi', 'Thriller'], ['Adventure', 'Comedy', 'Romance', 'War'], ['Adventure', 'Comedy', 'Crime', 'Drama', 'Romance'], ['Drama'], ['Drama'], ['Comedy', 'Drama'], ['Drama', 'Romance'], ['Romance', 'War'], ['Action'], ['Drama'], ['Drama'], ['Romance'], ['Comedy', 'Drama'], ['Documentary'], ['Adventure', 'Children'], ['Drama', 'Romance'], ['Comedy', 'Drama'], ['Drama'], ['Action', 'Adventure', 'Thriller'], ['Drama'], ['Thriller'], ['Drama'], ['Comedy', 'Drama'], ['Action', 'Crime', 'Drama', 'Thriller'], ['Drama', 'Thriller'], ['Action', 'Crime'], ['Crime', 'Film-Noir'], ['Comedy'], ['Action', 'Comedy'], ['Comedy', 'Horror', 'Sci-Fi'], ['Comedy', 'Horror', 'Sci-Fi'], ['Children', 'Fantasy'], ['Comedy', 'Drama'], ['Comedy', 'Crime', 'Western'], ['Horror'], ['Horror'], ['Drama', 'Horror'], ['Comedy'], ['Horror'], ['Horror'], ['Comedy'], ['Comedy', 'Musical'], ['Western'], ['Western'], ['Drama', 'Horror', 'Sci-Fi'], ['Action'], ['Action', 'Crime', 'Drama'], ['Action', 'Adventure', 'War', 'Western'], ['Crime', 'Drama', 'Thriller'], ['Comedy', 'Western'], ['Comedy', 'Drama', 'Western'], ['Action'], ['Drama', 'Horror', 'Sci-Fi'], ['Horror'], ['Drama', 'Thriller'], ['Horror'], ['Documentary'], ['Action', 'Adventure', 'Comedy'], ['Comedy'], ['Drama', 'Horror', 'Sci-Fi'], ['Drama'], ['Drama', 'Film-Noir'], ['Comedy', 'Crime'], ['Horror'], ['Crime', 'Drama'], ['Action', 'Drama'], ['Drama', 'Film-Noir', 'Thriller'], ['Action', 'Adventure'], ['Crime', 'Drama', 'Film-Noir', 'Thriller'], ['Drama'], ['Horror'], ['Comedy'], ['Documentary'], ['Comedy'], ['Comedy'], ['Drama', 'Fantasy', 'Horror', 'Mystery'], ['Drama', 'War'], ['Drama'], ['Drama'], ['Drama'], ['Drama'], ['Comedy', 'Romance'], ['Drama', 'Romance'], ['Crime', 'Film-Noir'], ['Drama', 'Thriller'], ['Drama'], ['Drama'], ['Drama'], ['Drama'], ['Drama'], ['Fantasy', 'Horror'], ['Horror'], ['Drama', 'Thriller'], ['Horror'], ['Crime', 'Drama'], ['Drama'], ['Drama'], ['Documentary', 'Musical'], ['Action', 'Drama', 'War'], ['Crime', 'Drama', 'Thriller'], ['Drama', 'Horror', 'Mystery', 'Thriller'], ['Comedy'], ['Horror', 'Sci-Fi'], ['Children', 'Comedy', 'Fantasy'], ['Sci-Fi'], ['Horror'], ['Comedy', 'Sci-Fi'], ['Sci-Fi'], ['Comedy', 'Musical'], ['Action', 'Sci-Fi'], ['Drama'], ['Comedy', 'Horror'], ['Horror'], ['Action', 'Drama'], ['Drama', 'Horror'], ['Horror', 'Sci-Fi'], ['Drama', 'Musical', 'Romance'], ['Fantasy', 'Musical', 'Romance'], ['Drama'], ['Drama'], ['Documentary'], ['Comedy', 'Drama'], ['Comedy', 'Romance'], ['Drama'], ['Adventure', 'Animation', 'Children', 'Fantasy'], ['Action', 'Crime', 'Drama', 'Thriller'], ['Crime', 'Drama', 'Thriller'], ['Drama', 'Horror', 'Mystery', 'Thriller'], ['Comedy', 'Drama', 'Romance'], ['Drama'], ['Comedy', 'Crime', 'Romance'], ['Crime', 'Horror', 'Thriller'], ['Action', 'Comedy', 'Crime'], ['Comedy', 'Western'], ['Comedy'], ['Comedy'], ['Crime', 'Drama'], ['Comedy', 'Drama'], ['Crime', 'Drama', 'Film-Noir'], ['Action', 'Drama', 'War'], ['Crime', 'Drama', 'Mystery'], ['Drama'], ['Drama', 'Horror', 'Thriller'], ['Drama'], ['Drama', 'Romance', 'Western'], ['Drama', 'Fantasy', 'Horror', 'Sci-Fi'], ['Action', 'Drama', 'Romance', 'Thriller'], ['Drama', 'Thriller', 'Western'], ['Action', 'Comedy'], ['Action'], ['Drama'], ['Comedy'], ['Comedy'], ['Action', 'Sci-Fi'], ['Comedy', 'Drama'], ['Comedy', 'Drama'], ['Drama', 'Romance'], ['Drama'], ['Comedy'], ['Drama'], ['Documentary'], ['Romance'], ['Action', 'Drama'], ['Drama'], ['Animation', 'Sci-Fi'], ['Crime', 'Horror', 'Sci-Fi'], ['Horror', 'Sci-Fi'], ['Horror', 'Thriller'], ['Drama', 'War'], ['Action', 'Crime'], ['Drama'], ['Drama', 'Sci-Fi'], ['Animation', 'Fantasy'], ['Adventure', 'Sci-Fi'], ['Drama'], ['Drama'], ['Animation', 'Fantasy', 'Thriller'], ['Crime', 'Drama'], ['Action', 'Adventure', 'Romance'], ['Horror', 'Thriller'], ['Children', 'Comedy', 'Fantasy', 'Sci-Fi'], ['Comedy', 'Drama'], ['Comedy', 'Musical'], ['Drama'], ['Comedy'], ['Comedy', 'Drama', 'War'], ['Drama'], ['Drama'], ['Drama', 'Mystery', 'Romance'], ['Comedy', 'Horror', 'Musical'], ['Drama', 'Romance', 'War'], ['Crime', 'Horror', 'Mystery', 'Thriller'], ['Drama', 'Thriller'], ['Drama'], ['Drama'], ['Horror'], ['Crime', 'Thriller'], ['Drama'], ['Crime', 'Horror', 'Sci-Fi'], ['Adventure', 'Children', 'Drama'], ['Drama', 'Horror', 'Mystery'], ['Horror'], ['Adventure', 'War', 'Western'], ['Action', 'Crime', 'Drama', 'Film-Noir', 'Mystery'], ['Comedy', 'Drama'], ['Action', 'Comedy', 'Romance'], ['Drama', 'Film-Noir'], ['Comedy'], ['Comedy', 'Drama'], ['Drama'], ['Action', 'Comedy', 'Thriller'], ['Comedy', 'Drama'], ['Action', 'Adventure', 'Animation', 'Mystery', 'Romance'], ['Comedy', 'Drama', 'Fantasy', 'Romance'], ['Crime', 'Mystery', 'Thriller'], ['Drama', 'Romance'], ['Action', 'Drama', 'War'], ['Action', 'Comedy', 'Horror'], ['Comedy'], ['Comedy', 'Drama'], ['Drama'], ['Drama'], ['Comedy', 'Musical'], ['Documentary'], ['Drama', 'Horror', 'Mystery', 'Thriller'], ['Drama', 'Musical'], ['Drama'], ['Action', 'Thriller'], ['Comedy'], ['Comedy', 'Drama', 'Romance'], ['Drama'], ['Comedy', 'Drama', 'Romance'], ['Comedy'], ['Action', 'Crime'], ['Mystery'], ['Crime', 'Drama', 'Romance'], ['Comedy', 'Drama'], ['Adventure', 'Mystery', 'Thriller'], ['Comedy', 'Drama', 'Romance'], ['Drama', 'Romance'], ['Comedy', 'Drama', 'Thriller'], ['Comedy'], ['Drama'], ['Western'], ['Comedy', 'Romance'], ['Drama', 'War'], ['Drama'], ['Drama', 'Thriller'], ['Adventure', 'Crime', 'Drama'], ['Adventure', 'Animation', 'Children', 'Comedy', 'Musical', 'Romance'], ['Action', 'Adventure', 'Drama', 'Sci-Fi', 'Thriller'], ['Comedy', 'Drama'], ['Comedy'], ['Drama'], ['Drama'], ['Comedy', 'Drama'], ['Drama'], ['Adventure', 'Children', 'Fantasy'], ['Action', 'Crime', 'Horror', 'Mystery', 'Thriller'], ['Action', 'Comedy', 'Crime', 'Drama'], ['Action', 'Adventure', 'Sci-Fi', 'Thriller'], ['Animation', 'Children', 'Comedy'], ['Comedy', 'Drama', 'Thriller'], ['Drama'], ['Documentary'], ['Comedy'], ['Drama'], ['Drama'], ['Drama'], ['Comedy'], ['Drama', 'Musical', 'Romance'], ['Comedy'], ['Comedy', 'Romance'], ['Comedy', 'Romance'], ['Comedy', 'Romance'], ['Comedy', 'Crime'], ['Comedy', 'Drama'], ['Comedy', 'Drama'], ['Drama'], ['Drama', 'Musical'], ['Crime', 'Mystery', 'Thriller'], ['Drama', 'Romance'], ['Musical'], ['Comedy', 'Romance'], ['Comedy', 'Drama'], ['Crime', 'Mystery', 'Thriller'], ['Comedy', 'Romance'], ['Crime', 'Mystery', 'Thriller'], ['Drama', 'Horror'], ['Drama'], ['Crime', 'Drama', 'Film-Noir'], ['Drama'], ['Comedy'], ['Drama', 'Romance'], ['Children', 'Comedy', 'Romance'], ['Drama', 'Romance'], ['Comedy'], ['Animation', 'Comedy', 'Drama', 'Fantasy', 'Sci-Fi'], ['Comedy', 'Sci-Fi'], ['Action', 'Drama', 'Romance', 'War'], ['Sci-Fi'], ['Adventure', 'Romance'], ['Drama'], ['Drama', 'Romance'], ['Comedy', 'Romance'], ['Comedy', 'Drama', 'Fantasy'], ['Documentary'], ['Crime', 'Drama', 'Thriller'], ['Comedy'], ['Drama'], ['Drama', 'Romance'], ['Drama'], ['Drama'], ['Drama'], ['Documentary'], ['Crime', 'Drama', 'Film-Noir', 'Romance'], ['Sci-Fi'], ['Drama'], ['Drama'], ['Action', 'Adventure', 'Drama', 'Romance', 'Thriller', 'Western'], ['Drama', 'Fantasy', 'Horror'], ['Action', 'Drama', 'Thriller'], ['Drama', 'Romance'], ['Comedy', 'Romance'], ['Children', 'Comedy', 'Musical'], ['Drama'], ['Crime', 'Drama', 'Film-Noir'], ['Drama', 'Fantasy'], ['Action', 'Drama', 'War'], ['Drama'], ['Crime', 'Drama'], ['Drama', 'Romance'], ['Drama'], ['Action', 'Horror', 'Thriller'], ['Adventure', 'Drama', 'Romance'], ['Comedy', 'Drama'], ['Drama', 'Romance'], ['Mystery', 'Thriller'], ['Crime', 'Drama', 'Horror'], ['Comedy'], ['Comedy'], ['Comedy', 'Fantasy', 'Romance'], ['Drama'], ['Comedy', 'Drama', 'Horror', 'Sci-Fi'], ['Action', 'Crime', 'Thriller'], ['Drama', 'Horror'], ['Comedy', 'Western'], ['Adventure', 'Drama'], ['Children', 'Comedy'], ['Adventure', 'Comedy'], ['Crime', 'Drama'], ['Comedy'], ['Comedy', 'Drama', 'Romance', 'War'], ['Drama'], ['Action', 'Comedy', 'Crime'], ['Drama'], ['Drama', 'Romance', 'War'], ['Adventure', 'Children', 'Drama'], ['Drama', 'Musical'], ['Action', 'Adventure', 'Animation', 'Children', 'Sci-Fi'], ['Drama', 'War'], ['Comedy', 'Drama'], ['Comedy', 'Musical'], ['Action', 'Drama', 'War'], ['Comedy', 'Sci-Fi'], ['Drama', 'Romance'], ['Comedy', 'Drama'], ['Children', 'Drama'], ['Drama', 'Romance'], ['Comedy', 'Drama'], ['Action', 'Comedy'], ['Documentary'], ['Horror', 'Sci-Fi'], ['Drama', 'War'], ['Adventure', 'Comedy', 'Fantasy', 'Musical'], ['Documentary', 'Drama'], ['Documentary', 'War'], ['Adventure', 'Drama', 'Romance'], ['Drama', 'Film-Noir'], ['Action', 'Adventure', 'Drama', 'Romance'], ['Comedy'], ['Documentary'], ['Drama', 'Mystery', 'Romance', 'Thriller'], ['Drama', 'War'], ['Adventure', 'Drama', 'Sci-Fi'], ['Comedy'], ['Action', 'Crime', 'Drama', 'Thriller'], ['Comedy'], ['Action', 'Adventure', 'Comedy'], ['Comedy', 'Crime'], ['Action', 'Crime', 'Thriller'], ['Crime', 'Drama', 'Mystery', 'Romance'], ['Thriller'], ['Crime', 'Drama'], ['Comedy', 'Drama'], ['Drama'], ['Drama'], ['Action', 'Comedy'], ['Action', 'Comedy'], ['Adventure', 'Animation', 'Drama'], ['Drama', 'Thriller'], ['Comedy', 'Fantasy'], ['Comedy'], ['Adventure', 'Children', 'Drama'], ['Comedy', 'Drama'], ['Comedy', 'Romance'], ['Adventure', 'Horror', 'Sci-Fi'], ['Children', 'Musical', 'Romance'], ['Drama'], ['Western'], ['Drama'], ['Comedy', 'Drama', 'Fantasy', 'Mystery'], ['Drama'], ['Documentary'], ['Comedy', 'Romance'], ['Adventure', 'Documentary'], ['Horror', 'Sci-Fi'], ['Comedy', 'Drama'], ['Comedy'], ['Drama', 'War'], ['Action', 'Drama'], ['Comedy'], ['Action', 'Adventure', 'Comedy', 'Sci-Fi'], ['Action', 'Comedy', 'Drama'], ['Adventure', 'Horror'], ['Action', 'Adventure', 'Sci-Fi'], ['Documentary'], ['Drama', 'Romance'], ['Drama', 'Thriller'], ['Action', 'Adventure', 'Drama', 'War'], ['Comedy'], ['Comedy', 'Romance'], ['Action', 'Adventure', 'Sci-Fi', 'Thriller'], ['Crime', 'Drama', 'Thriller'], ['Musical'], ['Comedy', 'Drama'], ['Drama', 'Thriller'], ['Drama'], ['Adventure', 'Comedy', 'Musical'], ['Crime', 'Drama'], ['Western'], ['Adventure'], ['Comedy', 'Western'], ['Crime', 'Drama'], ['Western'], ['Drama', 'Thriller'], ['Adventure', 'War'], ['Adventure', 'Drama', 'Western'], ['Action', 'Drama'], ['Comedy', 'Documentary'], ['Drama'], ['Action', 'Adventure', 'Drama', 'Mystery', 'Thriller'], ['Action', 'Crime', 'Fantasy'], ['Drama', 'Romance'], ['Comedy', 'Drama'], ['Comedy', 'Drama'], ['Crime', 'Horror', 'Mystery', 'Thriller'], ['Comedy', 'Drama', 'Romance'], ['Drama'], ['Drama', 'Romance', 'War'], ['Drama'], ['Action', 'Drama', 'War'], ['Action', 'Thriller'], ['Action', 'Sci-Fi'], ['Action', 'Adventure', 'Drama', 'Western'], ['Drama', 'War'], ['Drama', 'Horror'], ['Drama', 'War'], ['Adventure'], ['Western'], ['Adventure', 'Drama'], ['Comedy', 'Drama'], ['Horror'], ['Western'], ['Comedy', 'Crime', 'Thriller'], ['Comedy', 'Drama', 'Sci-Fi', 'War'], ['Drama', 'War'], ['Drama', 'War'], ['Comedy', 'Musical', 'Romance'], ['Comedy'], ['Drama', 'Romance'], ['Drama', 'Thriller'], ['Drama'], ['Drama'], ['Adventure', 'War'], ['Comedy', 'Horror'], ['Drama', 'Mystery'], ['Horror'], ['Drama'], ['Comedy', 'Romance'], ['Drama'], ['Drama'], ['Comedy', 'Romance'], ['Drama', 'Romance'], ['Comedy'], ['Comedy', 'Romance'], ['Adventure', 'Children', 'Fantasy', 'Musical'], ['Drama', 'Musical'], ['Western'], ['War', 'Western'], ['Drama'], ['Action', 'Western'], ['Comedy'], ['Adventure'], ['Comedy', 'Romance'], ['Adventure', 'Drama', 'War'], ['Drama', 'War'], ['Comedy', 'Thriller'], ['Drama'], ['Horror', 'Sci-Fi'], ['Drama'], ['Action', 'Drama', 'War'], ['Drama'], ['Drama'], ['Action', 'Crime', 'Thriller'], ['Comedy'], ['Crime', 'Drama'], ['Drama'], ['Thriller'], ['Comedy', 'Drama', 'Musical', 'Romance'], ['Drama'], ['Comedy', 'Drama'], ['Thriller'], ['Comedy'], ['Adventure', 'Fantasy', 'Sci-Fi'], ['Comedy', 'Western'], ['Drama', 'Romance'], ['Crime', 'Horror'], ['Horror'], ['Comedy'], ['Drama'], ['Crime', 'Drama', 'Film-Noir'], ['Drama', 'Film-Noir', 'Romance'], ['Documentary'], ['Drama'], ['Documentary'], ['Action', 'Crime'], ['Comedy'], ['Comedy', 'Drama'], ['Children', 'Drama'], ['Comedy', 'Romance'], ['Children', 'Drama'], ['Children', 'Comedy'], ['Crime', 'Film-Noir', 'Thriller'], ['Drama', 'Film-Noir', 'Mystery'], ['Crime', 'Drama', 'Film-Noir', 'Thriller'], ['Crime', 'Drama', 'Film-Noir'], ['Adventure'], ['Horror', 'Sci-Fi'], ['Crime', 'Mystery', 'Thriller'], ['Drama', 'Thriller'], ['Crime', 'Mystery', 'Sci-Fi', 'Thriller'], ['Crime', 'Drama', 'Horror', 'Mystery'], ['Thriller', 'War'], ['Drama'], ['Crime', 'Horror', 'Mystery', 'Thriller'], ['Comedy', 'Drama'], ['Action', 'Adventure', 'Comedy', 'Crime', 'Sci-Fi'], ['Thriller'], ['Action', 'Adventure', 'Fantasy', 'Sci-Fi'], ['Drama', 'Mystery', 'Thriller'], ['Comedy', 'Drama', 'Romance'], ['Drama'], ['Action', 'Sci-Fi'], ['Action', 'Sci-Fi'], ['Drama', 'War'], ['Comedy', 'Horror'], ['Action', 'Drama', 'Thriller'], ['Horror', 'Thriller'], ['Crime', 'Drama'], ['Drama'], ['Action', 'Adventure', 'Drama', 'War'], ['Comedy', 'Musical'], ['Documentary'], ['Action', 'Crime', 'Drama', 'Thriller'], ['Comedy', 'Romance'], ['Romance', 'Sci-Fi'], ['Comedy', 'Drama'], ['Drama'], ['Drama'], ['Comedy', 'Crime'], ['Thriller'], ['Comedy'], ['Comedy', 'Romance'], ['Comedy', 'Romance'], ['Action', 'Horror', 'Sci-Fi', 'Thriller'], ['Action', 'Adventure', 'Animation', 'Fantasy'], ['Drama'], ['Drama'], ['Comedy'], ['Drama', 'Horror', 'Thriller'], ['Adventure'], ['Comedy', 'Musical'], ['Adventure', 'Comedy', 'Fantasy', 'Sci-Fi'], ['Comedy', 'Crime'], ['Comedy', 'Horror', 'Mystery'], ['Drama'], ['Comedy', 'Documentary'], ['Drama', 'Thriller'], ['Children', 'Drama'], ['Adventure', 'Drama', 'Horror', 'Sci-Fi', 'Thriller'], ['Crime', 'Drama', 'Horror', 'Thriller'], ['Action', 'Adventure', 'Drama'], ['Drama', 'Romance'], ['Comedy'], ['Drama', 'Thriller'], ['Drama', 'Romance', 'Thriller'], ['Comedy', 'Crime'], ['Drama', 'Romance'], ['Horror'], ['Drama'], ['Horror', 'Thriller'], ['Comedy'], ['Drama'], ['Action', 'Crime', 'Thriller'], ['Drama', 'Musical'], ['Comedy', 'Drama', 'Musical', 'Romance'], ['Adventure', 'Children', 'Drama'], ['Comedy'], ['Adventure', 'Drama'], ['Drama'], ['Horror'], ['Horror', 'Mystery', 'Thriller'], ['Drama'], ['Musical', 'Sci-Fi'], ['Comedy'], ['Action', 'Crime', 'Drama', 'Mystery', 'Thriller'], ['Action', 'Horror', 'Sci-Fi', 'Thriller'], ['Comedy', 'Drama'], ['Comedy', 'Drama'], ['Action', 'Adventure', 'Sci-Fi'], ['Comedy', 'Romance'], ['Drama'], ['Drama', 'Romance', 'War'], ['Comedy', 'Romance'], ['Drama', 'Mystery', 'Sci-Fi', 'Thriller'], ['Comedy'], ['Comedy'], ['Drama'], ['Comedy', 'Horror', 'Romance'], ['Drama'], ['Drama'], ['Comedy', 'Horror', 'Sci-Fi'], ['Crime', 'Mystery', 'Thriller'], ['Drama'], ['Drama', 'Musical'], ['Crime', 'Drama', 'Mystery', 'Thriller'], ['Comedy', 'Thriller'], ['Horror'], ['Horror', 'Sci-Fi'], ['Thriller'], ['Horror'], ['Horror'], ['Thriller'], ['Comedy', 'Horror'], ['Action', 'Drama', 'Horror', 'Thriller'], ['Drama'], ['Horror', 'Sci-Fi'], ['Drama'], ['Adventure', 'Drama'], ['Drama'], ['Comedy', 'Drama'], ['Action', 'Adventure', 'Crime', 'Mystery', 'Thriller'], ['Horror', 'Mystery', 'Sci-Fi'], ['Horror', 'Mystery'], ['Adventure', 'Drama'], ['Horror'], ['Animation', 'Children', 'Comedy'], ['Action', 'Drama', 'Thriller'], ['Drama'], ['Comedy', 'Drama'], ['Drama', 'Romance'], ['Action', 'Comedy'], ['Drama'], ['Drama', 'Mystery', 'Sci-Fi', 'Thriller'], ['Drama'], ['Comedy', 'Romance'], ['Action', 'Adventure', 'Animation', 'Comedy', 'Drama'], ['Comedy', 'Crime', 'Drama'], ['Comedy', 'Drama', 'Fantasy', 'Romance'], ['Drama'], ['Drama', 'Romance'], ['Drama', 'Horror', 'Thriller'], ['Drama', 'Romance'], ['Comedy'], ['Comedy', 'Drama'], ['Action', 'Adventure', 'Fantasy', 'Mystery'], ['Action', 'Comedy', 'Drama'], ['Comedy', 'Horror'], ['Children', 'Drama'], ['Documentary'], ['Documentary'], ['Horror'], ['Comedy', 'Drama'], ['Animation', 'Children', 'Comedy'], ['Children', 'Comedy'], ['Drama'], ['Action', 'Drama'], ['Documentary'], ['Sci-Fi', 'Thriller'], ['Horror', 'Thriller'], ['Children', 'Drama'], ['Comedy', 'Drama'], ['Adventure', 'Children', 'Romance'], ['Drama'], ['Comedy'], ['Horror', 'Thriller'], ['Comedy', 'Drama', 'Romance'], ['Adventure', 'Comedy', 'Drama', 'Romance'], ['Drama', 'Mystery', 'Thriller'], ['Drama'], ['Drama'], ['Documentary'], ['Crime', 'Drama', 'Thriller'], ['Drama'], ['Crime', 'Horror', 'Mystery', 'Thriller'], ['Drama', 'Musical'], ['Drama', 'Mystery'], ['Documentary'], ['Action', 'Adventure', 'Animation', 'Children', 'Comedy'], ['Documentary'], ['Drama', 'Romance', 'Sci-Fi', 'Thriller'], ['Drama'], ['Adventure', 'Animation', 'Children', 'Fantasy', 'IMAX'], ['Drama'], ['Comedy', 'Horror'], ['Action', 'Adventure', 'Comedy', 'Crime', 'Thriller'], ['Comedy', 'Drama', 'Romance'], ['Drama'], ['Drama', 'Musical', 'Romance'], ['Action', 'Adventure', 'Drama', 'Mystery', 'Thriller'], ['Drama', 'Thriller'], ['Adventure', 'Animation', 'Children', 'Comedy'], ['Western'], ['Action', 'Adventure', 'Drama', 'War'], ['Children', 'Comedy'], ['Documentary'], ['Drama'], ['Drama', 'Romance'], ['Drama'], ['Action', 'Drama', 'Romance'], ['Action', 'Comedy', 'Crime', 'Thriller'], ['Action', 'Fantasy', 'Horror', 'Thriller'], ['Comedy'], ['Comedy'], ['Comedy', 'Musical'], ['Comedy'], ['Comedy', 'Romance'], ['Comedy'], ['Comedy'], ['Comedy'], ['Comedy'], ['Drama'], ['Comedy'], ['Documentary'], ['Documentary'], ['Documentary'], ['Comedy', 'War'], ['Drama'], ['Sci-Fi'], ['Adventure', 'Children', 'Sci-Fi'], ['Drama', 'Mystery', 'Sci-Fi'], ['Drama'], ['Horror', 'Sci-Fi'], ['Drama', 'Mystery', 'Thriller'], ['Drama', 'Romance'], ['Drama', 'Fantasy', 'Mystery', 'Romance'], ['Drama'], ['Drama'], ['Drama', 'Romance'], ['Drama'], ['Documentary', 'War'], ['Documentary']]\n"
     ],
     "output_type": "stream"
    }
   ],
   "source": [
    "genre_name = set()\n",
    "genres_list = []\n",
    "for id in movieID:\n",
    "    tmp = df_genre[df_genre.movieID == id][\"genre\"]\n",
    "    genres_list.append(list(tmp))\n",
    "    genre_name |= set(tmp)\n",
    "genre_name = list(genre_name)\n",
    "genre_name.sort()\n",
    "print(genre_name)\n",
    "print(genres_list)"
   ],
   "metadata": {
    "collapsed": false,
    "pycharm": {
     "name": "#%%\n",
     "is_executing": false
    }
   }
  },
  {
   "cell_type": "code",
   "execution_count": 48,
   "outputs": [
    {
     "name": "stdout",
     "text": [
      "{'Action': 0, 'Adventure': 1, 'Animation': 2, 'Children': 3, 'Comedy': 4, 'Crime': 5, 'Documentary': 6, 'Drama': 7, 'Fantasy': 8, 'Film-Noir': 9, 'Horror': 10, 'IMAX': 11, 'Musical': 12, 'Mystery': 13, 'Romance': 14, 'Sci-Fi': 15, 'Thriller': 16, 'War': 17, 'Western': 18}\n"
     ],
     "output_type": "stream"
    }
   ],
   "source": [
    "id = [i for i in range(len(genre_name))]\n",
    "iddict = dict(zip(genre_name, id))\n",
    "print(iddict)"
   ],
   "metadata": {
    "collapsed": false,
    "pycharm": {
     "name": "#%%\n",
     "is_executing": false
    }
   }
  },
  {
   "cell_type": "code",
   "execution_count": 51,
   "outputs": [
    {
     "name": "stdout",
     "text": [
      "[[0 0 0 ... 0 0 0]\n",
      " [0 1 0 ... 0 0 0]\n",
      " [1 0 0 ... 0 0 0]\n",
      " ...\n",
      " [0 0 0 ... 0 0 0]\n",
      " [0 0 0 ... 0 1 0]\n",
      " [0 0 0 ... 0 0 0]]\n"
     ],
     "output_type": "stream"
    }
   ],
   "source": [
    "code = np.zeros((len(movieID), len(genre_name)), dtype=int)\n",
    "tmp = 0\n",
    "for names in genres_list:\n",
    "    for name in names:\n",
    "        code[tmp][iddict.get(name)] = 1\n",
    "    tmp += 1\n",
    "print(code)"
   ],
   "metadata": {
    "collapsed": false,
    "pycharm": {
     "name": "#%%\n",
     "is_executing": false
    }
   }
  },
  {
   "cell_type": "code",
   "execution_count": 52,
   "outputs": [],
   "source": [
    "file = open(\"../data/genreID.txt\", \"w\")\n",
    "tmp = 0\n",
    "for name in genre_name:\n",
    "    file.write(str(tmp) + \",\" + name + \"\\n\")\n",
    "    tmp += 1\n",
    "file.close()"
   ],
   "metadata": {
    "collapsed": false,
    "pycharm": {
     "name": "#%%\n",
     "is_executing": false
    }
   }
  },
  {
   "cell_type": "code",
   "execution_count": 54,
   "outputs": [],
   "source": [
    "np.save(\"../data/features/genre_feature.npy\", code)"
   ],
   "metadata": {
    "collapsed": false,
    "pycharm": {
     "name": "#%%\n",
     "is_executing": false
    }
   }
  },
  {
   "cell_type": "code",
   "execution_count": null,
   "outputs": [],
   "source": [
    "\n"
   ],
   "metadata": {
    "collapsed": false,
    "pycharm": {
     "name": "#%%\n"
    }
   }
  }
 ],
 "metadata": {
  "kernelspec": {
   "display_name": "Python 3",
   "language": "python",
   "name": "python3"
  },
  "language_info": {
   "codemirror_mode": {
    "name": "ipython",
    "version": 2
   },
   "file_extension": ".py",
   "mimetype": "text/x-python",
   "name": "python",
   "nbconvert_exporter": "python",
   "pygments_lexer": "ipython2",
   "version": "2.7.6"
  },
  "pycharm": {
   "stem_cell": {
    "cell_type": "raw",
    "source": [],
    "metadata": {
     "collapsed": false
    }
   }
  }
 },
 "nbformat": 4,
 "nbformat_minor": 0
}