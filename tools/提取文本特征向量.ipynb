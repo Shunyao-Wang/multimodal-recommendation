{
 "cells": [
  {
   "cell_type": "code",
   "execution_count": 1,
   "metadata": {
    "collapsed": true,
    "pycharm": {
     "is_executing": false
    }
   },
   "outputs": [],
   "source": [
    "import numpy as np\n",
    "import pandas as pd\n",
    "DATAPATH = \"../data/\"\n",
    "# DATAPATH = \"F:/data/\"\n",
    "hetrec_path = \"F:\\data\\hetrec2011-movielens-2k-v2\\\\\""
   ]
  },
  {
   "cell_type": "code",
   "execution_count": 2,
   "outputs": [],
   "source": [
    "\n",
    "file=open(DATAPATH + 'movieID.txt', 'r')\n",
    "movieID = [int(x.strip()) for x in file]\n",
    "file.close()"
   ],
   "metadata": {
    "collapsed": false,
    "pycharm": {
     "name": "#%%\n",
     "is_executing": false
    }
   }
  },
  {
   "cell_type": "code",
   "execution_count": 3,
   "outputs": [],
   "source": [
    "df_country = pd.read_table(hetrec_path+\"movie_countries.dat\",index_col=\"movieID\")\n",
    "df_country = df_country.fillna(\"UNKNOWN\")"
   ],
   "metadata": {
    "collapsed": false,
    "pycharm": {
     "name": "#%%\n",
     "is_executing": false
    }
   }
  },
  {
   "cell_type": "code",
   "execution_count": 4,
   "outputs": [
    {
     "name": "stdout",
     "text": [
      "['UK', 'USA']\n"
     ],
     "output_type": "stream"
    },
    {
     "name": "stderr",
     "text": [
      "c:\\users\\wang\\appdata\\local\\programs\\python\\python37\\lib\\site-packages\\ipykernel_launcher.py:4: FutureWarning: get_value is deprecated and will be removed in a future release. Please use .at[] or .iat[] accessors instead\n",
      "  after removing the cwd from sys.path.\n"
     ],
     "output_type": "stream"
    }
   ],
   "source": [
    "countries = []\n",
    "for id in movieID:\n",
    "    tmp = df_country.get_value(id, \"country\")\n",
    "    countries.append(tmp)\n",
    "print(countries)"
   ],
   "metadata": {
    "collapsed": false,
    "pycharm": {
     "name": "#%%\n",
     "is_executing": false
    }
   }
  },
  {
   "cell_type": "code",
   "execution_count": 5,
   "outputs": [
    {
     "name": "stdout",
     "text": [
      "['UK', 'USA']\n",
      "['Argentina', 'Australia', 'Austria', 'Canada', 'China', 'Colombia', 'Denmark', 'East Germany', 'Finland', 'France', 'Germany', 'Hong Kong', 'Hungary', 'India', 'Iran', 'Ireland', 'Italy', 'Japan', 'Mexico', 'Netherlands', 'New Zealand', 'Poland', 'Portugal', 'Republic of Macedonia', 'Romania', 'Russia', 'South Korea', 'Soviet Union', 'Spain', 'Sweden', 'Switzerland', 'Taiwan', 'UK', 'UNKNOWN', 'USA', 'Vietnam', 'West Germany']\n"
     ],
     "output_type": "stream"
    }
   ],
   "source": [
    "# 实时计算词典\n",
    "countryID = list(set(countries))\n",
    "countryID.sort()\n",
    "print(countryID)\n",
    "\n",
    "# 获取现成词典\n",
    "file = open('../data/allCountryID.txt', 'r')\n",
    "countryID = [x.strip(\"\\n\").split(\",\")[1] for x in file]\n",
    "file.close()\n",
    "print(countryID)"
   ],
   "metadata": {
    "collapsed": false,
    "pycharm": {
     "name": "#%%\n",
     "is_executing": false
    }
   }
  },
  {
   "cell_type": "code",
   "execution_count": 6,
   "outputs": [
    {
     "name": "stdout",
     "text": [
      "{'Argentina': 0, 'Australia': 1, 'Austria': 2, 'Canada': 3, 'China': 4, 'Colombia': 5, 'Denmark': 6, 'East Germany': 7, 'Finland': 8, 'France': 9, 'Germany': 10, 'Hong Kong': 11, 'Hungary': 12, 'India': 13, 'Iran': 14, 'Ireland': 15, 'Italy': 16, 'Japan': 17, 'Mexico': 18, 'Netherlands': 19, 'New Zealand': 20, 'Poland': 21, 'Portugal': 22, 'Republic of Macedonia': 23, 'Romania': 24, 'Russia': 25, 'South Korea': 26, 'Soviet Union': 27, 'Spain': 28, 'Sweden': 29, 'Switzerland': 30, 'Taiwan': 31, 'UK': 32, 'UNKNOWN': 33, 'USA': 34, 'Vietnam': 35, 'West Germany': 36}\n"
     ],
     "output_type": "stream"
    }
   ],
   "source": [
    "id = [i for i in range(len(countryID))]\n",
    "iddict = dict(zip(countryID, id))\n",
    "print(iddict)\n"
   ],
   "metadata": {
    "collapsed": false,
    "pycharm": {
     "name": "#%%\n",
     "is_executing": false
    }
   }
  },
  {
   "cell_type": "code",
   "execution_count": 7,
   "outputs": [],
   "source": [
    "code = np.zeros((len(countries), len(countryID)), dtype=int)\n",
    "tmp = 0\n",
    "for name in countries:\n",
    "    code[tmp][iddict.get(name)] = 1\n",
    "    tmp += 1"
   ],
   "metadata": {
    "collapsed": false,
    "pycharm": {
     "name": "#%%\n",
     "is_executing": false
    }
   }
  },
  {
   "cell_type": "code",
   "execution_count": 8,
   "outputs": [],
   "source": [
    "file = open(DATAPATH + \"countryID.txt\", \"w\")\n",
    "tmp = 0\n",
    "for name in countryID:\n",
    "    file.write(str(tmp) + \",\" + name + \"\\n\")\n",
    "    tmp += 1\n",
    "file.close()"
   ],
   "metadata": {
    "collapsed": false,
    "pycharm": {
     "name": "#%%\n",
     "is_executing": false
    }
   }
  },
  {
   "cell_type": "code",
   "execution_count": 9,
   "outputs": [],
   "source": [
    "np.save(DATAPATH + \"features/country_feature.npy\", code)"
   ],
   "metadata": {
    "collapsed": false,
    "pycharm": {
     "name": "#%%\n",
     "is_executing": false
    }
   }
  },
  {
   "cell_type": "markdown",
   "source": [
    "上面是国家特征向量，下面如法炮制类别特征<br>\n",
    "国家是一对一，类别是多对一，需要修改"
   ],
   "metadata": {
    "collapsed": false
   }
  },
  {
   "cell_type": "code",
   "execution_count": 10,
   "outputs": [],
   "source": [
    "df_genre = pd.read_table(hetrec_path+\"movie_genres.dat\")\n",
    "df_genre = df_genre.fillna(\"UNKNOWN\")"
   ],
   "metadata": {
    "collapsed": false,
    "pycharm": {
     "name": "#%%\n",
     "is_executing": false
    }
   }
  },
  {
   "cell_type": "code",
   "execution_count": 11,
   "outputs": [
    {
     "name": "stdout",
     "text": [
      "[['Crime', 'Thriller'], ['Comedy']]\n",
      "['Action', 'Adventure', 'Animation', 'Children', 'Comedy', 'Crime', 'Documentary', 'Drama', 'Fantasy', 'Film-Noir', 'Horror', 'IMAX', 'Musical', 'Mystery', 'Romance', 'Sci-Fi', 'Thriller', 'War', 'Western']\n"
     ],
     "output_type": "stream"
    }
   ],
   "source": [
    "genre_name = set()\n",
    "genres_list = []\n",
    "for id in movieID:\n",
    "    tmp = df_genre[df_genre.movieID == id][\"genre\"]\n",
    "    genres_list.append(list(tmp))\n",
    "    genre_name |= set(tmp)\n",
    "genre_name = list(genre_name)\n",
    "genre_name.sort()\n",
    "print(genres_list)\n",
    "\n",
    "# 获取genre字典，上面是实时计算词典\n",
    "file = open('../data/allGenreID.txt', 'r')\n",
    "genre_name = [x.strip(\"\\n\").split(\",\")[1] for x in file]\n",
    "file.close()\n",
    "print(genre_name)"
   ],
   "metadata": {
    "collapsed": false,
    "pycharm": {
     "name": "#%%\n",
     "is_executing": false
    }
   }
  },
  {
   "cell_type": "code",
   "execution_count": 12,
   "outputs": [
    {
     "name": "stdout",
     "text": [
      "{'Action': 0, 'Adventure': 1, 'Animation': 2, 'Children': 3, 'Comedy': 4, 'Crime': 5, 'Documentary': 6, 'Drama': 7, 'Fantasy': 8, 'Film-Noir': 9, 'Horror': 10, 'IMAX': 11, 'Musical': 12, 'Mystery': 13, 'Romance': 14, 'Sci-Fi': 15, 'Thriller': 16, 'War': 17, 'Western': 18}\n"
     ],
     "output_type": "stream"
    }
   ],
   "source": [
    "id = [i for i in range(len(genre_name))]\n",
    "iddict = dict(zip(genre_name, id))\n",
    "print(iddict)"
   ],
   "metadata": {
    "collapsed": false,
    "pycharm": {
     "name": "#%%\n",
     "is_executing": false
    }
   }
  },
  {
   "cell_type": "code",
   "execution_count": 13,
   "outputs": [
    {
     "name": "stdout",
     "text": [
      "[[0 0 0 0 0 1 0 0 0 0 0 0 0 0 0 0 1 0 0]\n",
      " [0 0 0 0 1 0 0 0 0 0 0 0 0 0 0 0 0 0 0]]\n"
     ],
     "output_type": "stream"
    }
   ],
   "source": [
    "code = np.zeros((len(movieID), len(genre_name)), dtype=int)\n",
    "tmp = 0\n",
    "for names in genres_list:\n",
    "    for name in names:\n",
    "        code[tmp][iddict.get(name)] = 1\n",
    "    tmp += 1\n",
    "print(code)"
   ],
   "metadata": {
    "collapsed": false,
    "pycharm": {
     "name": "#%%\n",
     "is_executing": false
    }
   }
  },
  {
   "cell_type": "code",
   "execution_count": 14,
   "outputs": [],
   "source": [
    "file = open(DATAPATH + \"genreID.txt\", \"w\")\n",
    "tmp = 0\n",
    "for name in genre_name:\n",
    "    file.write(str(tmp) + \",\" + name + \"\\n\")\n",
    "    tmp += 1\n",
    "file.close()"
   ],
   "metadata": {
    "collapsed": false,
    "pycharm": {
     "name": "#%%\n",
     "is_executing": false
    }
   }
  },
  {
   "cell_type": "code",
   "execution_count": 15,
   "outputs": [],
   "source": [
    "np.save(DATAPATH + \"features/genre_feature.npy\", code)"
   ],
   "metadata": {
    "collapsed": false,
    "pycharm": {
     "name": "#%%\n",
     "is_executing": false
    }
   }
  },
  {
   "cell_type": "code",
   "execution_count": 15,
   "outputs": [],
   "source": [
    "\n"
   ],
   "metadata": {
    "collapsed": false,
    "pycharm": {
     "name": "#%%\n",
     "is_executing": false
    }
   }
  }
 ],
 "metadata": {
  "kernelspec": {
   "display_name": "Python 3",
   "language": "python",
   "name": "python3"
  },
  "language_info": {
   "codemirror_mode": {
    "name": "ipython",
    "version": 2
   },
   "file_extension": ".py",
   "mimetype": "text/x-python",
   "name": "python",
   "nbconvert_exporter": "python",
   "pygments_lexer": "ipython2",
   "version": "2.7.6"
  },
  "pycharm": {
   "stem_cell": {
    "cell_type": "raw",
    "source": [],
    "metadata": {
     "collapsed": false
    }
   }
  }
 },
 "nbformat": 4,
 "nbformat_minor": 0
}