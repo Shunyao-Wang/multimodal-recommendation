{
 "cells": [
  {
   "cell_type": "code",
   "execution_count": 1,
   "metadata": {
    "collapsed": true,
    "pycharm": {
     "is_executing": false
    }
   },
   "outputs": [],
   "source": [
    "import pandas as pd\n",
    "import numpy as np\n",
    "\n",
    "DATAPATH = \"../data/\"\n",
    "# DATAPATH = \"F:/data/\""
   ]
  },
  {
   "cell_type": "code",
   "execution_count": 2,
   "outputs": [
    {
     "data": {
      "text/plain": "        userID  movieID  rating\n0           75        3     1.0\n1           75       32     4.5\n2           75      110     4.0\n3           75      160     2.0\n4           75      163     4.0\n5           75      165     4.5\n6           75      173     3.5\n7           75      296     5.0\n8           75      353     3.5\n9           75      420     2.0\n10          75      589     4.0\n11          75      653     3.0\n12          75      832     4.5\n13          75      920     0.5\n14          75      996     4.5\n15          75     1036     4.0\n16          75     1127     3.5\n17          75     1215     4.5\n18          75     1233     4.0\n19          75     1304     2.5\n20          75     1370     4.0\n21          75     1374     4.0\n22          75     1485     4.0\n23          75     1527     4.5\n24          75     1917     2.5\n25          75     2011     2.0\n26          75     2054     1.5\n27          75     2058     4.0\n28          75     2490     4.0\n29          75     2571     4.5\n...        ...      ...     ...\n855568   71534     5147     4.0\n855569   71534     5878     4.0\n855570   71534     5995     5.0\n855571   71534     6016     4.0\n855572   71534     6818     4.5\n855573   71534     6874     4.0\n855574   71534     7084     4.5\n855575   71534     7132     4.5\n855576   71534     7238     4.0\n855577   71534     7361     4.0\n855578   71534     7371     2.5\n855579   71534     7438     4.5\n855580   71534     7579     4.0\n855581   71534     7934     3.5\n855582   71534     7983     5.0\n855583   71534     8638     4.5\n855584   71534    27727     3.5\n855585   71534    33166     4.5\n855586   71534    33564     4.0\n855587   71534    35836     0.5\n855588   71534    39869     4.5\n855589   71534    40629     2.0\n855590   71534    40819     4.0\n855591   71534    41285     3.5\n855592   71534    42900     4.0\n855593   71534    44555     4.0\n855594   71534    46578     4.0\n855595   71534    48516     4.5\n855596   71534    61075     5.0\n855597   71534    62049     4.5\n\n[855598 rows x 3 columns]",
      "text/html": "<div>\n<style scoped>\n    .dataframe tbody tr th:only-of-type {\n        vertical-align: middle;\n    }\n\n    .dataframe tbody tr th {\n        vertical-align: top;\n    }\n\n    .dataframe thead th {\n        text-align: right;\n    }\n</style>\n<table border=\"1\" class=\"dataframe\">\n  <thead>\n    <tr style=\"text-align: right;\">\n      <th></th>\n      <th>userID</th>\n      <th>movieID</th>\n      <th>rating</th>\n    </tr>\n  </thead>\n  <tbody>\n    <tr>\n      <th>0</th>\n      <td>75</td>\n      <td>3</td>\n      <td>1.0</td>\n    </tr>\n    <tr>\n      <th>1</th>\n      <td>75</td>\n      <td>32</td>\n      <td>4.5</td>\n    </tr>\n    <tr>\n      <th>2</th>\n      <td>75</td>\n      <td>110</td>\n      <td>4.0</td>\n    </tr>\n    <tr>\n      <th>3</th>\n      <td>75</td>\n      <td>160</td>\n      <td>2.0</td>\n    </tr>\n    <tr>\n      <th>4</th>\n      <td>75</td>\n      <td>163</td>\n      <td>4.0</td>\n    </tr>\n    <tr>\n      <th>5</th>\n      <td>75</td>\n      <td>165</td>\n      <td>4.5</td>\n    </tr>\n    <tr>\n      <th>6</th>\n      <td>75</td>\n      <td>173</td>\n      <td>3.5</td>\n    </tr>\n    <tr>\n      <th>7</th>\n      <td>75</td>\n      <td>296</td>\n      <td>5.0</td>\n    </tr>\n    <tr>\n      <th>8</th>\n      <td>75</td>\n      <td>353</td>\n      <td>3.5</td>\n    </tr>\n    <tr>\n      <th>9</th>\n      <td>75</td>\n      <td>420</td>\n      <td>2.0</td>\n    </tr>\n    <tr>\n      <th>10</th>\n      <td>75</td>\n      <td>589</td>\n      <td>4.0</td>\n    </tr>\n    <tr>\n      <th>11</th>\n      <td>75</td>\n      <td>653</td>\n      <td>3.0</td>\n    </tr>\n    <tr>\n      <th>12</th>\n      <td>75</td>\n      <td>832</td>\n      <td>4.5</td>\n    </tr>\n    <tr>\n      <th>13</th>\n      <td>75</td>\n      <td>920</td>\n      <td>0.5</td>\n    </tr>\n    <tr>\n      <th>14</th>\n      <td>75</td>\n      <td>996</td>\n      <td>4.5</td>\n    </tr>\n    <tr>\n      <th>15</th>\n      <td>75</td>\n      <td>1036</td>\n      <td>4.0</td>\n    </tr>\n    <tr>\n      <th>16</th>\n      <td>75</td>\n      <td>1127</td>\n      <td>3.5</td>\n    </tr>\n    <tr>\n      <th>17</th>\n      <td>75</td>\n      <td>1215</td>\n      <td>4.5</td>\n    </tr>\n    <tr>\n      <th>18</th>\n      <td>75</td>\n      <td>1233</td>\n      <td>4.0</td>\n    </tr>\n    <tr>\n      <th>19</th>\n      <td>75</td>\n      <td>1304</td>\n      <td>2.5</td>\n    </tr>\n    <tr>\n      <th>20</th>\n      <td>75</td>\n      <td>1370</td>\n      <td>4.0</td>\n    </tr>\n    <tr>\n      <th>21</th>\n      <td>75</td>\n      <td>1374</td>\n      <td>4.0</td>\n    </tr>\n    <tr>\n      <th>22</th>\n      <td>75</td>\n      <td>1485</td>\n      <td>4.0</td>\n    </tr>\n    <tr>\n      <th>23</th>\n      <td>75</td>\n      <td>1527</td>\n      <td>4.5</td>\n    </tr>\n    <tr>\n      <th>24</th>\n      <td>75</td>\n      <td>1917</td>\n      <td>2.5</td>\n    </tr>\n    <tr>\n      <th>25</th>\n      <td>75</td>\n      <td>2011</td>\n      <td>2.0</td>\n    </tr>\n    <tr>\n      <th>26</th>\n      <td>75</td>\n      <td>2054</td>\n      <td>1.5</td>\n    </tr>\n    <tr>\n      <th>27</th>\n      <td>75</td>\n      <td>2058</td>\n      <td>4.0</td>\n    </tr>\n    <tr>\n      <th>28</th>\n      <td>75</td>\n      <td>2490</td>\n      <td>4.0</td>\n    </tr>\n    <tr>\n      <th>29</th>\n      <td>75</td>\n      <td>2571</td>\n      <td>4.5</td>\n    </tr>\n    <tr>\n      <th>...</th>\n      <td>...</td>\n      <td>...</td>\n      <td>...</td>\n    </tr>\n    <tr>\n      <th>855568</th>\n      <td>71534</td>\n      <td>5147</td>\n      <td>4.0</td>\n    </tr>\n    <tr>\n      <th>855569</th>\n      <td>71534</td>\n      <td>5878</td>\n      <td>4.0</td>\n    </tr>\n    <tr>\n      <th>855570</th>\n      <td>71534</td>\n      <td>5995</td>\n      <td>5.0</td>\n    </tr>\n    <tr>\n      <th>855571</th>\n      <td>71534</td>\n      <td>6016</td>\n      <td>4.0</td>\n    </tr>\n    <tr>\n      <th>855572</th>\n      <td>71534</td>\n      <td>6818</td>\n      <td>4.5</td>\n    </tr>\n    <tr>\n      <th>855573</th>\n      <td>71534</td>\n      <td>6874</td>\n      <td>4.0</td>\n    </tr>\n    <tr>\n      <th>855574</th>\n      <td>71534</td>\n      <td>7084</td>\n      <td>4.5</td>\n    </tr>\n    <tr>\n      <th>855575</th>\n      <td>71534</td>\n      <td>7132</td>\n      <td>4.5</td>\n    </tr>\n    <tr>\n      <th>855576</th>\n      <td>71534</td>\n      <td>7238</td>\n      <td>4.0</td>\n    </tr>\n    <tr>\n      <th>855577</th>\n      <td>71534</td>\n      <td>7361</td>\n      <td>4.0</td>\n    </tr>\n    <tr>\n      <th>855578</th>\n      <td>71534</td>\n      <td>7371</td>\n      <td>2.5</td>\n    </tr>\n    <tr>\n      <th>855579</th>\n      <td>71534</td>\n      <td>7438</td>\n      <td>4.5</td>\n    </tr>\n    <tr>\n      <th>855580</th>\n      <td>71534</td>\n      <td>7579</td>\n      <td>4.0</td>\n    </tr>\n    <tr>\n      <th>855581</th>\n      <td>71534</td>\n      <td>7934</td>\n      <td>3.5</td>\n    </tr>\n    <tr>\n      <th>855582</th>\n      <td>71534</td>\n      <td>7983</td>\n      <td>5.0</td>\n    </tr>\n    <tr>\n      <th>855583</th>\n      <td>71534</td>\n      <td>8638</td>\n      <td>4.5</td>\n    </tr>\n    <tr>\n      <th>855584</th>\n      <td>71534</td>\n      <td>27727</td>\n      <td>3.5</td>\n    </tr>\n    <tr>\n      <th>855585</th>\n      <td>71534</td>\n      <td>33166</td>\n      <td>4.5</td>\n    </tr>\n    <tr>\n      <th>855586</th>\n      <td>71534</td>\n      <td>33564</td>\n      <td>4.0</td>\n    </tr>\n    <tr>\n      <th>855587</th>\n      <td>71534</td>\n      <td>35836</td>\n      <td>0.5</td>\n    </tr>\n    <tr>\n      <th>855588</th>\n      <td>71534</td>\n      <td>39869</td>\n      <td>4.5</td>\n    </tr>\n    <tr>\n      <th>855589</th>\n      <td>71534</td>\n      <td>40629</td>\n      <td>2.0</td>\n    </tr>\n    <tr>\n      <th>855590</th>\n      <td>71534</td>\n      <td>40819</td>\n      <td>4.0</td>\n    </tr>\n    <tr>\n      <th>855591</th>\n      <td>71534</td>\n      <td>41285</td>\n      <td>3.5</td>\n    </tr>\n    <tr>\n      <th>855592</th>\n      <td>71534</td>\n      <td>42900</td>\n      <td>4.0</td>\n    </tr>\n    <tr>\n      <th>855593</th>\n      <td>71534</td>\n      <td>44555</td>\n      <td>4.0</td>\n    </tr>\n    <tr>\n      <th>855594</th>\n      <td>71534</td>\n      <td>46578</td>\n      <td>4.0</td>\n    </tr>\n    <tr>\n      <th>855595</th>\n      <td>71534</td>\n      <td>48516</td>\n      <td>4.5</td>\n    </tr>\n    <tr>\n      <th>855596</th>\n      <td>71534</td>\n      <td>61075</td>\n      <td>5.0</td>\n    </tr>\n    <tr>\n      <th>855597</th>\n      <td>71534</td>\n      <td>62049</td>\n      <td>4.5</td>\n    </tr>\n  </tbody>\n</table>\n<p>855598 rows × 3 columns</p>\n</div>"
     },
     "metadata": {},
     "output_type": "execute_result",
     "execution_count": 2
    }
   ],
   "source": [
    "df_rate = pd.read_table(\"F:/data/hetrec2011-movielens-2k-v2/user_ratedmovies-timestamps.dat\",\n",
    "                        usecols=[\"userID\",\"movieID\",\"rating\"])\n",
    "df_rate"
   ],
   "metadata": {
    "collapsed": false,
    "pycharm": {
     "name": "#%%\n",
     "is_executing": false
    }
   }
  },
  {
   "cell_type": "code",
   "execution_count": 3,
   "outputs": [
    {
     "name": "stdout",
     "text": [
      "[8207, 8586]\n"
     ],
     "output_type": "stream"
    }
   ],
   "source": [
    "file = open(DATAPATH + 'movieID.txt', 'r')\n",
    "movieID = [int(x) for x in file]\n",
    "file.close()\n",
    "print(movieID)"
   ],
   "metadata": {
    "collapsed": false,
    "pycharm": {
     "name": "#%%\n",
     "is_executing": false
    }
   }
  },
  {
   "cell_type": "code",
   "execution_count": 4,
   "outputs": [
    {
     "data": {
      "text/plain": "       userID movieID  rating\n1608      267    8207     3.5\n4297      533    8207     4.5\n5196      636    8207     3.5\n7149     1122    8207     5.0\n9911     1224    8207     4.0\n30141    2852    8207     4.0\n41865    3853    8207     2.5\n43074    4022    8207     4.0\n44379    4078    8207     4.5\n50160    4827    8207     5.0\n59463    5917    8207     4.5\n71083    6477    8207     4.0\n76503    6757    8207     3.0\n80521    7181    8207     3.0\n82114    7252    8207     4.0\n84938    7461    8207     4.5\n87598    7612    8207     4.0\n90659    7727    8207     4.5\n103067   8651    8207     4.5\n109260   8892    8207     4.0\n113535   9085    8207     5.0\n117502   9470    8207     4.0\n123197  10420    8207     2.5\n124940  10516    8207     4.0\n136915  11554    8207     3.5\n137347  11569    8207     3.5\n137574  11577    8207     3.5\n143436  11937    8207     4.0\n148458  12296    8207     4.0\n153281  12759    8207     4.0\n...       ...     ...     ...\n652748  52806    8207     4.0\n660142  53315    8207     3.0\n664418  54087    8207     4.0\n666561  54371    8207     4.0\n671407  55236    8207     4.0\n672538  55280    8207     3.0\n689653  57018    8207     4.0\n690698  57022    8207     4.0\n697441  57696    8207     3.5\n711169  59219    8207     4.0\n716396  59529    8207     3.5\n719550  60072    8207     4.5\n729610  60693    8207     4.0\n734405  60971    8207     4.0\n739250  61869    8207     4.0\n748242  62394    8207     3.5\n757636  63405    8207     4.0\n758146  63438    8207     4.0\n764350  64344    8207     4.5\n770333  64540    8207     3.0\n771226  64581    8207     3.0\n775548  64969    8207     2.0\n796512  66892    8207     3.5\n797547  67010    8207     5.0\n815321  68773    8207     4.5\n827292  69576    8207     3.0\n854737  71509    8207     4.5\n76561    6757    8586     1.5\n328339  26738    8586     3.5\n611187  50156    8586     3.5\n\n[149 rows x 3 columns]",
      "text/html": "<div>\n<style scoped>\n    .dataframe tbody tr th:only-of-type {\n        vertical-align: middle;\n    }\n\n    .dataframe tbody tr th {\n        vertical-align: top;\n    }\n\n    .dataframe thead th {\n        text-align: right;\n    }\n</style>\n<table border=\"1\" class=\"dataframe\">\n  <thead>\n    <tr style=\"text-align: right;\">\n      <th></th>\n      <th>userID</th>\n      <th>movieID</th>\n      <th>rating</th>\n    </tr>\n  </thead>\n  <tbody>\n    <tr>\n      <th>1608</th>\n      <td>267</td>\n      <td>8207</td>\n      <td>3.5</td>\n    </tr>\n    <tr>\n      <th>4297</th>\n      <td>533</td>\n      <td>8207</td>\n      <td>4.5</td>\n    </tr>\n    <tr>\n      <th>5196</th>\n      <td>636</td>\n      <td>8207</td>\n      <td>3.5</td>\n    </tr>\n    <tr>\n      <th>7149</th>\n      <td>1122</td>\n      <td>8207</td>\n      <td>5.0</td>\n    </tr>\n    <tr>\n      <th>9911</th>\n      <td>1224</td>\n      <td>8207</td>\n      <td>4.0</td>\n    </tr>\n    <tr>\n      <th>30141</th>\n      <td>2852</td>\n      <td>8207</td>\n      <td>4.0</td>\n    </tr>\n    <tr>\n      <th>41865</th>\n      <td>3853</td>\n      <td>8207</td>\n      <td>2.5</td>\n    </tr>\n    <tr>\n      <th>43074</th>\n      <td>4022</td>\n      <td>8207</td>\n      <td>4.0</td>\n    </tr>\n    <tr>\n      <th>44379</th>\n      <td>4078</td>\n      <td>8207</td>\n      <td>4.5</td>\n    </tr>\n    <tr>\n      <th>50160</th>\n      <td>4827</td>\n      <td>8207</td>\n      <td>5.0</td>\n    </tr>\n    <tr>\n      <th>59463</th>\n      <td>5917</td>\n      <td>8207</td>\n      <td>4.5</td>\n    </tr>\n    <tr>\n      <th>71083</th>\n      <td>6477</td>\n      <td>8207</td>\n      <td>4.0</td>\n    </tr>\n    <tr>\n      <th>76503</th>\n      <td>6757</td>\n      <td>8207</td>\n      <td>3.0</td>\n    </tr>\n    <tr>\n      <th>80521</th>\n      <td>7181</td>\n      <td>8207</td>\n      <td>3.0</td>\n    </tr>\n    <tr>\n      <th>82114</th>\n      <td>7252</td>\n      <td>8207</td>\n      <td>4.0</td>\n    </tr>\n    <tr>\n      <th>84938</th>\n      <td>7461</td>\n      <td>8207</td>\n      <td>4.5</td>\n    </tr>\n    <tr>\n      <th>87598</th>\n      <td>7612</td>\n      <td>8207</td>\n      <td>4.0</td>\n    </tr>\n    <tr>\n      <th>90659</th>\n      <td>7727</td>\n      <td>8207</td>\n      <td>4.5</td>\n    </tr>\n    <tr>\n      <th>103067</th>\n      <td>8651</td>\n      <td>8207</td>\n      <td>4.5</td>\n    </tr>\n    <tr>\n      <th>109260</th>\n      <td>8892</td>\n      <td>8207</td>\n      <td>4.0</td>\n    </tr>\n    <tr>\n      <th>113535</th>\n      <td>9085</td>\n      <td>8207</td>\n      <td>5.0</td>\n    </tr>\n    <tr>\n      <th>117502</th>\n      <td>9470</td>\n      <td>8207</td>\n      <td>4.0</td>\n    </tr>\n    <tr>\n      <th>123197</th>\n      <td>10420</td>\n      <td>8207</td>\n      <td>2.5</td>\n    </tr>\n    <tr>\n      <th>124940</th>\n      <td>10516</td>\n      <td>8207</td>\n      <td>4.0</td>\n    </tr>\n    <tr>\n      <th>136915</th>\n      <td>11554</td>\n      <td>8207</td>\n      <td>3.5</td>\n    </tr>\n    <tr>\n      <th>137347</th>\n      <td>11569</td>\n      <td>8207</td>\n      <td>3.5</td>\n    </tr>\n    <tr>\n      <th>137574</th>\n      <td>11577</td>\n      <td>8207</td>\n      <td>3.5</td>\n    </tr>\n    <tr>\n      <th>143436</th>\n      <td>11937</td>\n      <td>8207</td>\n      <td>4.0</td>\n    </tr>\n    <tr>\n      <th>148458</th>\n      <td>12296</td>\n      <td>8207</td>\n      <td>4.0</td>\n    </tr>\n    <tr>\n      <th>153281</th>\n      <td>12759</td>\n      <td>8207</td>\n      <td>4.0</td>\n    </tr>\n    <tr>\n      <th>...</th>\n      <td>...</td>\n      <td>...</td>\n      <td>...</td>\n    </tr>\n    <tr>\n      <th>652748</th>\n      <td>52806</td>\n      <td>8207</td>\n      <td>4.0</td>\n    </tr>\n    <tr>\n      <th>660142</th>\n      <td>53315</td>\n      <td>8207</td>\n      <td>3.0</td>\n    </tr>\n    <tr>\n      <th>664418</th>\n      <td>54087</td>\n      <td>8207</td>\n      <td>4.0</td>\n    </tr>\n    <tr>\n      <th>666561</th>\n      <td>54371</td>\n      <td>8207</td>\n      <td>4.0</td>\n    </tr>\n    <tr>\n      <th>671407</th>\n      <td>55236</td>\n      <td>8207</td>\n      <td>4.0</td>\n    </tr>\n    <tr>\n      <th>672538</th>\n      <td>55280</td>\n      <td>8207</td>\n      <td>3.0</td>\n    </tr>\n    <tr>\n      <th>689653</th>\n      <td>57018</td>\n      <td>8207</td>\n      <td>4.0</td>\n    </tr>\n    <tr>\n      <th>690698</th>\n      <td>57022</td>\n      <td>8207</td>\n      <td>4.0</td>\n    </tr>\n    <tr>\n      <th>697441</th>\n      <td>57696</td>\n      <td>8207</td>\n      <td>3.5</td>\n    </tr>\n    <tr>\n      <th>711169</th>\n      <td>59219</td>\n      <td>8207</td>\n      <td>4.0</td>\n    </tr>\n    <tr>\n      <th>716396</th>\n      <td>59529</td>\n      <td>8207</td>\n      <td>3.5</td>\n    </tr>\n    <tr>\n      <th>719550</th>\n      <td>60072</td>\n      <td>8207</td>\n      <td>4.5</td>\n    </tr>\n    <tr>\n      <th>729610</th>\n      <td>60693</td>\n      <td>8207</td>\n      <td>4.0</td>\n    </tr>\n    <tr>\n      <th>734405</th>\n      <td>60971</td>\n      <td>8207</td>\n      <td>4.0</td>\n    </tr>\n    <tr>\n      <th>739250</th>\n      <td>61869</td>\n      <td>8207</td>\n      <td>4.0</td>\n    </tr>\n    <tr>\n      <th>748242</th>\n      <td>62394</td>\n      <td>8207</td>\n      <td>3.5</td>\n    </tr>\n    <tr>\n      <th>757636</th>\n      <td>63405</td>\n      <td>8207</td>\n      <td>4.0</td>\n    </tr>\n    <tr>\n      <th>758146</th>\n      <td>63438</td>\n      <td>8207</td>\n      <td>4.0</td>\n    </tr>\n    <tr>\n      <th>764350</th>\n      <td>64344</td>\n      <td>8207</td>\n      <td>4.5</td>\n    </tr>\n    <tr>\n      <th>770333</th>\n      <td>64540</td>\n      <td>8207</td>\n      <td>3.0</td>\n    </tr>\n    <tr>\n      <th>771226</th>\n      <td>64581</td>\n      <td>8207</td>\n      <td>3.0</td>\n    </tr>\n    <tr>\n      <th>775548</th>\n      <td>64969</td>\n      <td>8207</td>\n      <td>2.0</td>\n    </tr>\n    <tr>\n      <th>796512</th>\n      <td>66892</td>\n      <td>8207</td>\n      <td>3.5</td>\n    </tr>\n    <tr>\n      <th>797547</th>\n      <td>67010</td>\n      <td>8207</td>\n      <td>5.0</td>\n    </tr>\n    <tr>\n      <th>815321</th>\n      <td>68773</td>\n      <td>8207</td>\n      <td>4.5</td>\n    </tr>\n    <tr>\n      <th>827292</th>\n      <td>69576</td>\n      <td>8207</td>\n      <td>3.0</td>\n    </tr>\n    <tr>\n      <th>854737</th>\n      <td>71509</td>\n      <td>8207</td>\n      <td>4.5</td>\n    </tr>\n    <tr>\n      <th>76561</th>\n      <td>6757</td>\n      <td>8586</td>\n      <td>1.5</td>\n    </tr>\n    <tr>\n      <th>328339</th>\n      <td>26738</td>\n      <td>8586</td>\n      <td>3.5</td>\n    </tr>\n    <tr>\n      <th>611187</th>\n      <td>50156</td>\n      <td>8586</td>\n      <td>3.5</td>\n    </tr>\n  </tbody>\n</table>\n<p>149 rows × 3 columns</p>\n</div>"
     },
     "metadata": {},
     "output_type": "execute_result",
     "execution_count": 4
    }
   ],
   "source": [
    "df_new = pd.DataFrame(columns=[\"userID\",\"movieID\",\"rating\"])\n",
    "for id in movieID:\n",
    "    df_new = df_new.append(df_rate[df_rate.movieID == id])\n",
    "df_new"
   ],
   "metadata": {
    "collapsed": false,
    "pycharm": {
     "name": "#%%\n",
     "is_executing": false
    }
   }
  },
  {
   "cell_type": "code",
   "execution_count": 5,
   "outputs": [],
   "source": [
    "df_new.to_csv(DATAPATH + \"rating.csv\", index=False)"
   ],
   "metadata": {
    "collapsed": false,
    "pycharm": {
     "name": "#%%\n",
     "is_executing": false
    }
   }
  },
  {
   "cell_type": "code",
   "execution_count": 6,
   "outputs": [
    {
     "data": {
      "text/plain": "149"
     },
     "metadata": {},
     "output_type": "execute_result",
     "execution_count": 6
    }
   ],
   "source": [
    "user_list = df_new[\"userID\"].tolist()\n",
    "len(user_list)"
   ],
   "metadata": {
    "collapsed": false,
    "pycharm": {
     "name": "#%%\n",
     "is_executing": false
    }
   }
  },
  {
   "cell_type": "code",
   "execution_count": 7,
   "outputs": [
    {
     "data": {
      "text/plain": "148"
     },
     "metadata": {},
     "output_type": "execute_result",
     "execution_count": 7
    }
   ],
   "source": [
    "user_list = list(set(user_list))\n",
    "user_list.sort()\n",
    "len(user_list)"
   ],
   "metadata": {
    "collapsed": false,
    "pycharm": {
     "name": "#%%\n",
     "is_executing": false
    }
   }
  },
  {
   "cell_type": "code",
   "execution_count": 8,
   "outputs": [],
   "source": [
    "file = open(DATAPATH + \"userID.txt\", \"w\")\n",
    "for value in user_list:\n",
    "    file.write(str(value)+\"\\n\")\n",
    "file.close()"
   ],
   "metadata": {
    "collapsed": false,
    "pycharm": {
     "name": "#%%\n",
     "is_executing": false
    }
   }
  },
  {
   "cell_type": "code",
   "execution_count": 8,
   "outputs": [],
   "source": [
    "\n"
   ],
   "metadata": {
    "collapsed": false,
    "pycharm": {
     "name": "#%%\n",
     "is_executing": false
    }
   }
  }
 ],
 "metadata": {
  "kernelspec": {
   "display_name": "Python 3",
   "language": "python",
   "name": "python3"
  },
  "language_info": {
   "codemirror_mode": {
    "name": "ipython",
    "version": 2
   },
   "file_extension": ".py",
   "mimetype": "text/x-python",
   "name": "python",
   "nbconvert_exporter": "python",
   "pygments_lexer": "ipython2",
   "version": "2.7.6"
  },
  "pycharm": {
   "stem_cell": {
    "cell_type": "raw",
    "source": [],
    "metadata": {
     "collapsed": false
    }
   }
  }
 },
 "nbformat": 4,
 "nbformat_minor": 0
}