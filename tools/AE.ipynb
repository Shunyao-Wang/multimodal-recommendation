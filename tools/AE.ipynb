{
 "cells": [
  {
   "cell_type": "code",
   "execution_count": 4,
   "metadata": {
    "pycharm": {
     "is_executing": false,
     "name": "#%%\n"
    }
   },
   "outputs": [],
   "source": [
    "import numpy as np\n",
    "from keras.datasets import mnist\n",
    "from keras.models import Model\n",
    "from keras.layers import Dense, Input\n",
    "import matplotlib.pyplot as plt\n",
    "import keras\n",
    "\n",
    "# DATAPATH = \"../data/\"\n",
    "DATAPATH = \"F:/data/\"\n",
    "encoding_dim = 20 # 压缩后的维度"
   ]
  },
  {
   "cell_type": "code",
   "execution_count": 5,
   "metadata": {
    "pycharm": {
     "is_executing": false,
     "name": "#%%\n"
    }
   },
   "outputs": [],
   "source": [
    "country_feature = np.load(DATAPATH + \"features/country_feature.npy\")\n",
    "genre_feature = np.load(DATAPATH + \"features/genre_feature.npy\")\n",
    "audio_feature = np.load(DATAPATH + \"features/audio_feature.npy\")\n",
    "video_feature = np.load(DATAPATH + \"features/video_feature.npy\")\n",
    "\n",
    "# 图像特征归一化\n",
    "max = video_feature.max()\n",
    "min = video_feature.min()\n",
    "video_feature = (video_feature-min)/(max-min)"
   ]
  },
  {
   "cell_type": "code",
   "execution_count": 6,
   "outputs": [],
   "source": [
    "# 将nan填充为0\n",
    "audio_feature[np.isnan(audio_feature)] = 0."
   ],
   "metadata": {
    "collapsed": false,
    "pycharm": {
     "name": "#%%\n",
     "is_executing": false
    }
   }
  },
  {
   "cell_type": "code",
   "execution_count": 7,
   "metadata": {
    "pycharm": {
     "is_executing": false,
     "name": "#%%\n"
    }
   },
   "outputs": [],
   "source": [
    "country_input = Input(shape=(country_feature.shape[1],))\n",
    "genre_input = Input(shape=(genre_feature.shape[1],))\n",
    "audio_input = Input(shape=(audio_feature.shape[1],))\n",
    "video_input = Input(shape=(video_feature.shape[1],))"
   ]
  },
  {
   "cell_type": "code",
   "execution_count": 8,
   "metadata": {
    "pycharm": {
     "is_executing": false,
     "name": "#%%\n"
    }
   },
   "outputs": [],
   "source": [
    "input_layer = keras.layers.concatenate([country_input, genre_input, audio_input, video_input])\n",
    "\n",
    "# encoder layers\n",
    "encoded = Dense(128, activation='relu')(input_layer)\n",
    "encoded = Dense(64, activation='relu')(encoded)\n",
    "encoded = Dense(10, activation='relu')(encoded)\n",
    "encoder_output = Dense(encoding_dim)(encoded)\n",
    "\n",
    "# decoder layers\n",
    "decoded = Dense(10, activation='relu')(encoder_output)\n",
    "decoded = Dense(64, activation='relu')(decoded)\n",
    "decoded = Dense(128, activation='relu')(decoded)\n",
    "decoded = Dense(784, activation='relu')(decoded)"
   ]
  },
  {
   "cell_type": "code",
   "execution_count": 9,
   "metadata": {
    "pycharm": {
     "is_executing": false,
     "name": "#%%\n"
    }
   },
   "outputs": [],
   "source": [
    "# output layers\n",
    "'''\n",
    "softmax [0,1]，每一行的和为1\n",
    "sigmoid [0,1]，每一行的元素大小相互独立\n",
    "tanh [-1,1]，每一行的元素大小互相独立\n",
    "'''\n",
    "country_output = Dense(country_feature.shape[1], activation='softmax')(decoded)\n",
    "genre_output = Dense(genre_feature.shape[1], activation='sigmoid')(decoded)\n",
    "audio_output = Dense(audio_feature.shape[1], activation='tanh')(decoded)\n",
    "video_output = Dense(video_feature.shape[1], activation='sigmoid')(decoded)"
   ]
  },
  {
   "cell_type": "code",
   "execution_count": 10,
   "metadata": {
    "pycharm": {
     "is_executing": false,
     "name": "#%%\n"
    }
   },
   "outputs": [
    {
     "name": "stderr",
     "text": [
      "c:\\users\\wang\\appdata\\local\\programs\\python\\python37\\lib\\site-packages\\ipykernel_launcher.py:4: UserWarning: Update your `Model` call to the Keras 2 API: `Model(inputs=[<tf.Tenso..., outputs=[<tf.Tenso...)`\n",
      "  after removing the cwd from sys.path.\n",
      "c:\\users\\wang\\appdata\\local\\programs\\python\\python37\\lib\\site-packages\\ipykernel_launcher.py:7: UserWarning: Update your `Model` call to the Keras 2 API: `Model(inputs=[<tf.Tenso..., outputs=Tensor(\"de...)`\n",
      "  import sys\n"
     ],
     "output_type": "stream"
    },
    {
     "name": "stdout",
     "text": [
      "Epoch 1/5\n",
      "948/948 [==============================] - 5s 5ms/step - loss: 0.4642 - dense_9_loss: 0.0263 - dense_10_loss: 0.2341 - dense_11_loss: 0.0078 - dense_12_loss: 0.1940\b\b\b\b\b\b\b\b\b\b\b\b\b\b\b\b\b\b\b\b\b\b\b\b\b\b\b\b\b\b\b\b\b\b\b\b\b\b\b\b\b\b\b\b\b\b\b\b\b\b\b\b\b\b\b\b\b\b\b\b\b\b\b\b\b\b\b\b\b\b\b\b\b\b\b\b\b\b\b\b\b\b\b\b\b\b\b\b\b\b\b\b\b\b\b\b\b\b\b\b\b\b\b\b\b\b\b\b\b\b\b\b\b\b\b\b\b\b\b\b\b\b\b\b\b\b\b\b\b\b\b\b\b\b\b\b\b\b\b\b\b\b\b\b\b\b\b\b\b\b\b\b\b\b\b\b\b\b\b\b\b\b\b\b\b\b\b\b\b\b\b\b\b\b\b\b\b\b\b\b\b\b\b\b\b\b\b\b\b\b\b\b\b\b\b\b\b\b\b\b\b\b\b\b\b\b\b\b\b\b\b\b\b\b\b\b\b\b\b\b\b\b\b\b\b\b\b\b\b\b\b\b\b\b\b\b\b\b\b\b\b\b\b\b\b\b\b\b\b\b\b\b\b\b\b\b\b\b\b\b\b\b\b\b\b\b\b\b\b\b\b\b\b\b\b\b\b\b\b\b\b\b\b\b\b\b\b\b\b\b\b\b\b\b\b\b\b\b\b\b\b\b\b\b\b\b\b\b\b\b\b\b\b\b\b\b\b\b\b\b\b\b\b\b\b\b\b\b\b\b\b\b\b\b\b\b\b\b\b\b\b\b\b\b\b\b\b\b\b\b\b\b\b\b\b\b\b\b\b\b\b\b\b\b\b\b\b\b\b\b\b\b\b\b\b\b\b\b\b\b\b\b\b\b\b\b\b\b\b\b\b\b\b\b\b\b\b\b\b\b\b\b\b\b\b\b\b\b\b\b\b\b\b\b\b\b\b\b\b\b\b\b\b\b\b\b\b\b\b\b\b\b\b\b\b\b\b\b\b\b\b\b\b\b\b\b\b\b\b\b\b\b\b\b\b\b\b\b\b\b\b\b\b\b\b\b\b\b\b\b\b\b\b\b\b\b\n",
      "Epoch 2/5\n",
      "948/948 [==============================] - 3s 3ms/step - loss: 0.3233 - dense_9_loss: 0.0255 - dense_10_loss: 0.1312 - dense_11_loss: 0.0133 - dense_12_loss: 0.1465\b\b\b\b\b\b\b\b\b\b\b\b\b\b\b\b\b\b\b\b\b\b\b\b\b\b\b\b\b\b\b\b\b\b\b\b\b\b\b\b\b\b\b\b\b\b\b\b\b\b\b\b\b\b\b\b\b\b\b\b\b\b\b\b\b\b\b\b\b\b\b\b\b\b\b\b\b\b\b\b\b\b\b\b\b\b\b\b\b\b\b\b\b\b\b\b\b\b\b\b\b\b\b\b\b\b\b\b\b\b\b\b\b\b\b\b\b\b\b\b\b\b\b\b\b\b\b\b\b\b\b\b\b\b\b\b\b\b\b\b\b\b\b\b\b\b\b\b\b\b\b\b\b\b\b\b\b\b\b\b\b\b\b\b\b\b\b\b\b\b\b\b\b\b\b\b\b\b\b\b\b\b\b\b\b\b\b\b\b\b\b\b\b\b\b\b\b\b\b\b\b\b\b\b\b\b\b\b\b\b\b\b\b\b\b\b\b\b\b\b\b\b\b\b\b\b\b\b\b\b\b\b\b\b\b\b\b\b\b\b\b\b\b\b\b\b\b\b\b\b\b\b\b\b\b\b\b\b\b\b\b\b\b\b\b\b\b\b\b\b\b\b\b\b\b\b\b\b\b\b\b\b\b\b\b\b\b\b\b\b\b\b\b\b\b\b\b\b\b\b\b\b\b\b\b\b\b\b\b\b\b\b\b\b\b\b\b\b\b\b\b\b\b\b\b\b\b\b\b\b\b\b\b\b\b\b\b\b\b\b\b\b\b\b\b\b\b\b\b\b\b\b\b\b\b\b\b\b\b\b\b\b\b\b\b\b\b\b\b\b\b\b\b\b\b\b\b\b\b\b\b\b\b\b\b\b\b\b\b\b\b\b\b\b\b\b\b\b\b\b\b\b\b\b\b\b\b\b\b\b\b\b\b\b\b\b\b\b\b\b\b\b\b\b\b\b\b\b\b\b\b\b\b\b\b\b\b\b\b\b\b\b\b\b\b\b\b\b\b\b\b\b\b\b\b\b\b\b\b\b\b\b\b\b\b\b\b\b\b\b\b\b\b\b\b\b\n",
      "Epoch 3/5\n",
      "948/948 [==============================] - 2s 2ms/step - loss: 0.1529 - dense_9_loss: 0.0180 - dense_10_loss: 0.0881 - dense_11_loss: 0.0187 - dense_12_loss: 0.0265\b\b\b\b\b\b\b\b\b\b\b\b\b\b\b\b\b\b\b\b\b\b\b\b\b\b\b\b\b\b\b\b\b\b\b\b\b\b\b\b\b\b\b\b\b\b\b\b\b\b\b\b\b\b\b\b\b\b\b\b\b\b\b\b\b\b\b\b\b\b\b\b\b\b\b\b\b\b\b\b\b\b\b\b\b\b\b\b\b\b\b\b\b\b\b\b\b\b\b\b\b\b\b\b\b\b\b\b\b\b\b\b\b\b\b\b\b\b\b\b\b\b\b\b\b\b\b\b\b\b\b\b\b\b\b\b\b\b\b\b\b\b\b\b\b\b\b\b\b\b\b\b\b\b\b\b\b\b\b\b\b\b\b\b\b\b\b\b\b\b\b\b\b\b\b\b\b\b\b\b\b\b\b\b\b\b\b\b\b\b\b\b\b\b\b\b\b\b\b\b\b\b\b\b\b\b\b\b\b\b\b\b\b\b\b\b\b\b\b\b\b\b\b\b\b\b\b\b\b\b\b\b\b\b\b\b\b\b\b\b\b\b\b\b\b\b\b\b\b\b\b\b\b\b\b\b\b\b\b\b\b\b\b\b\b\b\b\b\b\b\b\b\b\b\b\b\b\b\b\b\b\b\b\b\b\b\b\b\b\b\b\b\b\b\b\b\b\b\b\b\b\b\b\b\b\b\b\b\b\b\b\b\b\b\b\b\b\b\b\b\b\b\b\b\b\b\b\b\b\b\b\b\b\b\b\b\b\b\b\b\b\b\b\b\b\b\b\b\b\b\b\b\b\b\b\b\b\b\b\b\b\b\b\b\b\b\b\b\b\b\b\b\b\b\b\b\b\b\b\b\b\b\b\b\b\b\b\b\b\b\b\b\b\b\b\b\b\b\b\b\b\b\b\b\b\b\b\b\b\b\b\b\b\b\b\b\b\b\b\b\b\b\b\b\b\b\b\b\b\b\b\b\b\b\b\b\b\b\b\b\b\b\b\b\b\b\b\b\b\b\b\b\b\b\b\b\b\b\b\b\b\b\b\b\b\b\b\b\b\b\b\b\b\b\b\b\n",
      "Epoch 4/5\n",
      "948/948 [==============================] - 2s 2ms/step - loss: 0.1378 - dense_9_loss: 0.0175 - dense_10_loss: 0.0888 - dense_11_loss: 0.0227 - dense_12_loss: 0.0084\b\b\b\b\b\b\b\b\b\b\b\b\b\b\b\b\b\b\b\b\b\b\b\b\b\b\b\b\b\b\b\b\b\b\b\b\b\b\b\b\b\b\b\b\b\b\b\b\b\b\b\b\b\b\b\b\b\b\b\b\b\b\b\b\b\b\b\b\b\b\b\b\b\b\b\b\b\b\b\b\b\b\b\b\b\b\b\b\b\b\b\b\b\b\b\b\b\b\b\b\b\b\b\b\b\b\b\b\b\b\b\b\b\b\b\b\b\b\b\b\b\b\b\b\b\b\b\b\b\b\b\b\b\b\b\b\b\b\b\b\b\b\b\b\b\b\b\b\b\b\b\b\b\b\b\b\b\b\b\b\b\b\b\b\b\b\b\b\b\b\b\b\b\b\b\b\b\b\b\b\b\b\b\b\b\b\b\b\b\b\b\b\b\b\b\b\b\b\b\b\b\b\b\b\b\b\b\b\b\b\b\b\b\b\b\b\b\b\b\b\b\b\b\b\b\b\b\b\b\b\b\b\b\b\b\b\b\b\b\b\b\b\b\b\b\b\b\b\b\b\b\b\b\b\b\b\b\b\b\b\b\b\b\b\b\b\b\b\b\b\b\b\b\b\b\b\b\b\b\b\b\b\b\b\b\b\b\b\b\b\b\b\b\b\b\b\b\b\b\b\b\b\b\b\b\b\b\b\b\b\b\b\b\b\b\b\b\b\b\b\b\b\b\b\b\b\b\b\b\b\b\b\b\b\b\b\b\b\b\b\b\b\b\b\b\b\b\b\b\b\b\b\b\b\b\b\b\b\b\b\b\b\b\b\b\b\b\b\b\b\b\b\b\b\b\b\b\b\b\b\b\b\b\b\b\b\b\b\b\b\b\b\b\b\b\b\b\b\b\b\b\b\b\b\b\b\b\b\b\b\b\b\b\b\b\b\b\b\b\b\b\b\b\b\b\b\b\b\b\b\b\b\b\b\b\b\b\b\b\b\b\b\b\b\b\b\b\b\b\b\b\b\b\b\b\b\b\b\b\b\b\b\b\b\b\b\b\b\b\b\b\b\b\b\b\b\n",
      "Epoch 5/5\n",
      "948/948 [==============================] - 2s 2ms/step - loss: 0.1327 - dense_9_loss: 0.0177 - dense_10_loss: 0.0890 - dense_11_loss: 0.0183 - dense_12_loss: 0.0077\b\b\b\b\b\b\b\b\b\b\b\b\b\b\b\b\b\b\b\b\b\b\b\b\b\b\b\b\b\b\b\b\b\b\b\b\b\b\b\b\b\b\b\b\b\b\b\b\b\b\b\b\b\b\b\b\b\b\b\b\b\b\b\b\b\b\b\b\b\b\b\b\b\b\b\b\b\b\b\b\b\b\b\b\b\b\b\b\b\b\b\b\b\b\b\b\b\b\b\b\b\b\b\b\b\b\b\b\b\b\b\b\b\b\b\b\b\b\b\b\b\b\b\b\b\b\b\b\b\b\b\b\b\b\b\b\b\b\b\b\b\b\b\b\b\b\b\b\b\b\b\b\b\b\b\b\b\b\b\b\b\b\b\b\b\b\b\b\b\b\b\b\b\b\b\b\b\b\b\b\b\b\b\b\b\b\b\b\b\b\b\b\b\b\b\b\b\b\b\b\b\b\b\b\b\b\b\b\b\b\b\b\b\b\b\b\b\b\b\b\b\b\b\b\b\b\b\b\b\b\b\b\b\b\b\b\b\b\b\b\b\b\b\b\b\b\b\b\b\b\b\b\b\b\b\b\b\b\b\b\b\b\b\b\b\b\b\b\b\b\b\b\b\b\b\b\b\b\b\b\b\b\b\b\b\b\b\b\b\b\b\b\b\b\b\b\b\b\b\b\b\b\b\b\b\b\b\b\b\b\b\b\b\b\b\b\b\b\b\b\b\b\b\b\b\b\b\b\b\b\b\b\b\b\b\b\b\b\b\b\b\b\b\b\b\b\b\b\b\b\b\b\b\b\b\b\b\b\b\b\b\b\b\b\b\b\b\b\b\b\b\b\b\b\b\b\b\b\b\b\b\b\b\b\b\b\b\b\b\b\b\b\b\b\b\b\b\b\b\b\b\b\b\b\b\b\b\b\b\b\b\b\b\b\b\b\b\b\b\b\b\b\b\b\b\b\b\b\b\b\b\b\b\b\b\b\b\b\b\b\b\b\b\b\b\b\b\b\b\b\b\b\b\b\b\b\b\b\b\b\b\b\b\b\b\b\b\b\b\b\b\b\b\b\b\b\n"
     ],
     "output_type": "stream"
    },
    {
     "data": {
      "text/plain": "<keras.callbacks.callbacks.History at 0x21d651a1eb8>"
     },
     "metadata": {},
     "output_type": "execute_result",
     "execution_count": 10
    }
   ],
   "source": [
    "# construct the autoencoder model\n",
    "autoencoder = Model(input=[country_input, genre_input, audio_input, video_input],\n",
    "                    output=[country_output, genre_output, audio_output, video_output])\n",
    "\n",
    "# construct the encoder model for plotting\n",
    "encoder = Model(input=[country_input, genre_input, audio_input, video_input], output=encoder_output)\n",
    "\n",
    "# compile autoencoder\n",
    "autoencoder.compile(optimizer='adam', loss='mse')\n",
    "\n",
    "# training\n",
    "autoencoder.fit([country_feature, genre_feature, audio_feature, video_feature],\n",
    "                [country_feature, genre_feature, audio_feature, video_feature],\n",
    "                epochs=5, batch_size=256, shuffle=True, verbose=1)"
   ]
  },
  {
   "cell_type": "code",
   "execution_count": 11,
   "metadata": {
    "pycharm": {
     "is_executing": false,
     "name": "#%%\n"
    }
   },
   "outputs": [
    {
     "data": {
      "text/plain": "[array([[6.92525282e-06, 1.10003266e-05, 1.51139795e-06, ...,\n         9.92160022e-01, 4.15383056e-06, 2.90427192e-06],\n        [6.23453502e-07, 1.09210578e-06, 1.00272274e-07, ...,\n         9.97558594e-01, 3.36583355e-07, 2.20533494e-07],\n        [3.03126879e-09, 6.52572840e-09, 2.45930332e-10, ...,\n         9.99797761e-01, 1.30727829e-09, 7.30020377e-10],\n        ...,\n        [1.51467987e-07, 2.80833262e-07, 2.03698001e-08, ...,\n         9.98754144e-01, 7.66793136e-08, 4.84691753e-08],\n        [1.54409852e-09, 3.41422535e-09, 1.14895642e-10, ...,\n         9.99851584e-01, 6.48472054e-10, 3.54346580e-10],\n        [2.72372302e-09, 5.88447069e-09, 2.17649121e-10, ...,\n         9.99807060e-01, 1.17244892e-09, 6.50444920e-10]], dtype=float32),\n array([[3.6567450e-05, 3.9815903e-05, 2.2053719e-06, ..., 4.0787458e-04,\n         4.6491623e-05, 1.7309189e-04],\n        [4.6491623e-06, 5.1558018e-06, 1.7881393e-07, ..., 8.4042549e-05,\n         6.1690807e-06, 2.9861927e-05],\n        [2.9802322e-08, 8.9406967e-08, 0.0000000e+00, ..., 2.5033951e-06,\n         5.9604645e-08, 5.6624413e-07],\n        ...,\n        [1.3709068e-06, 1.5497208e-06, 1.1920929e-07, ..., 3.3199787e-05,\n         1.8775463e-06, 1.0669231e-05],\n        [5.9604645e-08, 8.9406967e-08, 0.0000000e+00, ..., 1.6093254e-06,\n         8.9406967e-08, 3.2782555e-07],\n        [1.1920929e-07, 2.9802322e-08, 0.0000000e+00, ..., 2.3668933e-06,\n         6.4595532e-08, 5.6883385e-07]], dtype=float32),\n array([[ 0.0382372 ,  0.03342184, -0.01083421, ..., -0.05719879,\n         -0.2540164 ,  0.07046077],\n        [ 0.04965294,  0.04136997, -0.01718382, ..., -0.06737059,\n         -0.30288073,  0.08667606],\n        [ 0.07254694,  0.06422062, -0.02338782, ..., -0.08976036,\n         -0.40248084,  0.11834116],\n        ...,\n        [ 0.05761094,  0.04465126, -0.02258983, ..., -0.07300507,\n         -0.3315389 ,  0.09753846],\n        [ 0.07450326,  0.0680648 , -0.02305254, ..., -0.09288397,\n         -0.41400957,  0.12132439],\n        [ 0.07181756,  0.06630983, -0.02134821, ..., -0.09039231,\n         -0.40368333,  0.11756796]], dtype=float32),\n array([[2.5433600e-03, 1.7012656e-03, 5.6788623e-03, ..., 4.9255490e-03,\n         1.8956065e-03, 1.8982887e-03],\n        [7.5894594e-04, 4.6733022e-04, 2.0032227e-03, ..., 1.6810298e-03,\n         5.3355098e-04, 5.3498149e-04],\n        [5.2183867e-05, 2.6673079e-05, 1.9830465e-04, ..., 1.5571713e-04,\n         3.2037497e-05, 3.2275915e-05],\n        ...,\n        [3.7300587e-04, 2.1898746e-04, 1.0867715e-03, ..., 8.9243054e-04,\n         2.5382638e-04, 2.5463104e-04],\n        [3.7133694e-05, 1.8626451e-05, 1.4787912e-04, ..., 1.1527538e-04,\n         2.2411346e-05, 2.2560358e-05],\n        [4.9382448e-05, 2.5182962e-05, 1.8894672e-04, ..., 1.4853477e-04,\n         3.0219555e-05, 3.0398369e-05]], dtype=float32)]"
     },
     "metadata": {},
     "output_type": "execute_result",
     "execution_count": 11
    }
   ],
   "source": [
    "test = autoencoder.predict([country_feature, genre_feature, audio_feature, video_feature])\n",
    "test"
   ]
  },
  {
   "cell_type": "code",
   "execution_count": 12,
   "outputs": [
    {
     "data": {
      "text/plain": "array([[ -4.55892  ,  -7.8308864,  -2.1602757, ...,   1.6574103,\n         -1.1895219,  -4.938837 ],\n       [ -5.464244 ,  -9.463632 ,  -2.5906794, ...,   1.9835052,\n         -1.3631779,  -5.997165 ],\n       [ -7.5566506, -13.035078 ,  -3.5814118, ...,   2.7458096,\n         -1.9304525,  -8.251015 ],\n       ...,\n       [ -6.02774  , -10.411155 ,  -2.8454287, ...,   2.1982532,\n         -1.5104538,  -6.6507497],\n       [ -7.8010726, -13.4939785,  -3.7082815, ...,   2.8311756,\n         -1.9714314,  -8.511859 ],\n       [ -7.576176 , -13.113962 ,  -3.598633 , ...,   2.7373507,\n         -1.9174386,  -8.264103 ]], dtype=float32)"
     },
     "metadata": {},
     "output_type": "execute_result",
     "execution_count": 12
    }
   ],
   "source": [
    "test_encoder = encoder.predict([country_feature, genre_feature, audio_feature, video_feature])\n",
    "test_encoder\n"
   ],
   "metadata": {
    "collapsed": false,
    "pycharm": {
     "name": "#%%\n",
     "is_executing": false
    }
   }
  }
 ],
 "metadata": {
  "kernelspec": {
   "display_name": "Python 3",
   "language": "python",
   "name": "python3"
  },
  "language_info": {
   "codemirror_mode": {
    "name": "ipython",
    "version": 3
   },
   "file_extension": ".py",
   "mimetype": "text/x-python",
   "name": "python",
   "nbconvert_exporter": "python",
   "pygments_lexer": "ipython3",
   "version": "3.7.1"
  },
  "pycharm": {
   "stem_cell": {
    "cell_type": "raw",
    "source": [],
    "metadata": {
     "collapsed": false
    }
   }
  }
 },
 "nbformat": 4,
 "nbformat_minor": 1
}