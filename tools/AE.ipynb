{
 "cells": [
  {
   "cell_type": "code",
   "execution_count": 1,
   "metadata": {
    "pycharm": {
     "is_executing": false,
     "name": "#%%\n"
    }
   },
   "outputs": [
    {
     "name": "stderr",
     "text": [
      "Using TensorFlow backend.\n"
     ],
     "output_type": "stream"
    }
   ],
   "source": [
    "import numpy as np\n",
    "from keras.datasets import mnist\n",
    "from keras.models import Model\n",
    "from keras.layers import Dense, Input\n",
    "import matplotlib.pyplot as plt\n",
    "import keras\n",
    "\n",
    "DATAPATH = \"../data/\"\n",
    "encoding_dim = 20 # 压缩后的维度"
   ]
  },
  {
   "cell_type": "code",
   "execution_count": 2,
   "metadata": {
    "pycharm": {
     "is_executing": false,
     "name": "#%%\n"
    }
   },
   "outputs": [],
   "source": [
    "country_feature = np.load(DATAPATH + \"features/country_feature.npy\")\n",
    "genre_feature = np.load(DATAPATH + \"features/genre_feature.npy\")\n",
    "audio_feature = np.load(DATAPATH + \"features/audio_feature.npy\")\n",
    "video_feature = np.load(DATAPATH + \"features/video_feature.npy\")\n",
    "\n",
    "# 图像特征归一化\n",
    "max = video_feature.max()\n",
    "min = video_feature.min()\n",
    "video_feature = (video_feature-min)/(max-min)"
   ]
  },
  {
   "cell_type": "code",
   "execution_count": 3,
   "metadata": {
    "pycharm": {
     "is_executing": false,
     "name": "#%%\n"
    }
   },
   "outputs": [],
   "source": [
    "country_input = Input(shape=(country_feature.shape[1],))\n",
    "genre_input = Input(shape=(genre_feature.shape[1],))\n",
    "audio_input = Input(shape=(audio_feature.shape[1],))\n",
    "video_input = Input(shape=(video_feature.shape[1],))"
   ]
  },
  {
   "cell_type": "code",
   "execution_count": 4,
   "metadata": {
    "pycharm": {
     "is_executing": false,
     "name": "#%%\n"
    }
   },
   "outputs": [],
   "source": [
    "input_layer = keras.layers.concatenate([country_input, genre_input, audio_input, video_input])\n",
    "\n",
    "# encoder layers\n",
    "encoded = Dense(128, activation='relu')(input_layer)\n",
    "encoded = Dense(64, activation='relu')(encoded)\n",
    "encoded = Dense(10, activation='relu')(encoded)\n",
    "encoder_output = Dense(encoding_dim)(encoded)\n",
    "\n",
    "# decoder layers\n",
    "decoded = Dense(10, activation='relu')(encoder_output)\n",
    "decoded = Dense(64, activation='relu')(decoded)\n",
    "decoded = Dense(128, activation='relu')(decoded)\n",
    "decoded = Dense(784, activation='relu')(decoded)"
   ]
  },
  {
   "cell_type": "code",
   "execution_count": 5,
   "metadata": {
    "pycharm": {
     "is_executing": false,
     "name": "#%%\n"
    }
   },
   "outputs": [],
   "source": [
    "# output layers\n",
    "'''\n",
    "softmax [0,1]，每一行的和为1\n",
    "sigmoid [0,1]，每一行的元素大小相互独立\n",
    "tanh [-1,1]，每一行的元素大小互相独立\n",
    "'''\n",
    "country_output = Dense(country_feature.shape[1], activation='softmax')(decoded)\n",
    "genre_output = Dense(genre_feature.shape[1], activation='sigmoid')(decoded)\n",
    "audio_output = Dense(audio_feature.shape[1], activation='tanh')(decoded)\n",
    "video_output = Dense(video_feature.shape[1], activation='sigmoid')(decoded)"
   ]
  },
  {
   "cell_type": "code",
   "execution_count": 6,
   "metadata": {
    "pycharm": {
     "is_executing": false,
     "name": "#%%\n"
    }
   },
   "outputs": [
    {
     "name": "stderr",
     "text": [
      "c:\\users\\wang\\appdata\\local\\programs\\python\\python37\\lib\\site-packages\\ipykernel_launcher.py:4: UserWarning: Update your `Model` call to the Keras 2 API: `Model(inputs=[<tf.Tenso..., outputs=[<tf.Tenso...)`\n",
      "  after removing the cwd from sys.path.\n",
      "c:\\users\\wang\\appdata\\local\\programs\\python\\python37\\lib\\site-packages\\ipykernel_launcher.py:7: UserWarning: Update your `Model` call to the Keras 2 API: `Model(inputs=[<tf.Tenso..., outputs=Tensor(\"de...)`\n",
      "  import sys\n"
     ],
     "output_type": "stream"
    },
    {
     "name": "stdout",
     "text": [
      "Epoch 1/100\n",
      "2/2 [==============================] - 1s 541ms/step - loss: 0.4720 - dense_9_loss: 0.0263 - dense_10_loss: 0.2501 - dense_11_loss: 0.0127 - dense_12_loss: 0.1830\n",
      "Epoch 2/100\n",
      "2/2 [==============================] - 0s 75ms/step - loss: 0.4708 - dense_9_loss: 0.0263 - dense_10_loss: 0.2492 - dense_11_loss: 0.0125 - dense_12_loss: 0.1828\n",
      "Epoch 3/100\n",
      "2/2 [==============================] - 0s 146ms/step - loss: 0.4692 - dense_9_loss: 0.0263 - dense_10_loss: 0.2479 - dense_11_loss: 0.0124 - dense_12_loss: 0.1826\n",
      "Epoch 4/100\n",
      "2/2 [==============================] - 0s 68ms/step - loss: 0.4669 - dense_9_loss: 0.0263 - dense_10_loss: 0.2460 - dense_11_loss: 0.0122 - dense_12_loss: 0.1824\n",
      "Epoch 5/100\n",
      "2/2 [==============================] - 0s 64ms/step - loss: 0.4633 - dense_9_loss: 0.0263 - dense_10_loss: 0.2430 - dense_11_loss: 0.0119 - dense_12_loss: 0.1821\n",
      "Epoch 6/100\n",
      "2/2 [==============================] - 0s 56ms/step - loss: 0.4585 - dense_9_loss: 0.0263 - dense_10_loss: 0.2390 - dense_11_loss: 0.0115 - dense_12_loss: 0.1817\n",
      "Epoch 7/100\n",
      "2/2 [==============================] - 0s 59ms/step - loss: 0.4515 - dense_9_loss: 0.0263 - dense_10_loss: 0.2332 - dense_11_loss: 0.0110 - dense_12_loss: 0.1811\n",
      "Epoch 8/100\n",
      "2/2 [==============================] - 0s 56ms/step - loss: 0.4412 - dense_9_loss: 0.0262 - dense_10_loss: 0.2247 - dense_11_loss: 0.0103 - dense_12_loss: 0.1800\n",
      "Epoch 9/100\n",
      "2/2 [==============================] - 0s 54ms/step - loss: 0.4270 - dense_9_loss: 0.0262 - dense_10_loss: 0.2129 - dense_11_loss: 0.0096 - dense_12_loss: 0.1783\n",
      "Epoch 10/100\n",
      "2/2 [==============================] - 0s 77ms/step - loss: 0.4058 - dense_9_loss: 0.0261 - dense_10_loss: 0.1951 - dense_11_loss: 0.0093 - dense_12_loss: 0.1752\n",
      "Epoch 11/100\n",
      "2/2 [==============================] - 0s 168ms/step - loss: 0.3736 - dense_9_loss: 0.0260 - dense_10_loss: 0.1677 - dense_11_loss: 0.0106 - dense_12_loss: 0.1694\n",
      "Epoch 12/100\n",
      "2/2 [==============================] - 0s 66ms/step - loss: 0.3307 - dense_9_loss: 0.0257 - dense_10_loss: 0.1308 - dense_11_loss: 0.0153 - dense_12_loss: 0.1588\n",
      "Epoch 13/100\n",
      "2/2 [==============================] - 0s 61ms/step - loss: 0.2835 - dense_9_loss: 0.0253 - dense_10_loss: 0.0928 - dense_11_loss: 0.0235 - dense_12_loss: 0.1419\n",
      "Epoch 14/100\n",
      "2/2 [==============================] - 0s 92ms/step - loss: 0.2389 - dense_9_loss: 0.0244 - dense_10_loss: 0.0642 - dense_11_loss: 0.0322 - dense_12_loss: 0.1182\n",
      "Epoch 15/100\n",
      "2/2 [==============================] - 0s 81ms/step - loss: 0.1987 - dense_9_loss: 0.0229 - dense_10_loss: 0.0496 - dense_11_loss: 0.0355 - dense_12_loss: 0.0907\n",
      "Epoch 16/100\n",
      "2/2 [==============================] - 0s 69ms/step - loss: 0.1605 - dense_9_loss: 0.0206 - dense_10_loss: 0.0437 - dense_11_loss: 0.0338 - dense_12_loss: 0.0624\n",
      "Epoch 17/100\n",
      "2/2 [==============================] - 0s 76ms/step - loss: 0.1275 - dense_9_loss: 0.0177 - dense_10_loss: 0.0417 - dense_11_loss: 0.0307 - dense_12_loss: 0.0374\n",
      "Epoch 18/100\n",
      "2/2 [==============================] - 0s 107ms/step - loss: 0.1046 - dense_9_loss: 0.0146 - dense_10_loss: 0.0405 - dense_11_loss: 0.0292 - dense_12_loss: 0.0203\n",
      "Epoch 19/100\n",
      "2/2 [==============================] - 0s 69ms/step - loss: 0.0935 - dense_9_loss: 0.0130 - dense_10_loss: 0.0393 - dense_11_loss: 0.0292 - dense_12_loss: 0.0121\n",
      "Epoch 20/100\n",
      "2/2 [==============================] - 0s 129ms/step - loss: 0.0895 - dense_9_loss: 0.0143 - dense_10_loss: 0.0384 - dense_11_loss: 0.0276 - dense_12_loss: 0.0092\n",
      "Epoch 21/100\n",
      "2/2 [==============================] - 0s 68ms/step - loss: 0.0890 - dense_9_loss: 0.0148 - dense_10_loss: 0.0388 - dense_11_loss: 0.0270 - dense_12_loss: 0.0084\n",
      "Epoch 22/100\n",
      "2/2 [==============================] - 0s 71ms/step - loss: 0.0890 - dense_9_loss: 0.0137 - dense_10_loss: 0.0403 - dense_11_loss: 0.0271 - dense_12_loss: 0.0080\n",
      "Epoch 23/100\n",
      "2/2 [==============================] - 0s 54ms/step - loss: 0.0869 - dense_9_loss: 0.0130 - dense_10_loss: 0.0405 - dense_11_loss: 0.0257 - dense_12_loss: 0.0076\n",
      "Epoch 24/100\n",
      "2/2 [==============================] - 0s 72ms/step - loss: 0.0819 - dense_9_loss: 0.0141 - dense_10_loss: 0.0397 - dense_11_loss: 0.0208 - dense_12_loss: 0.0072\n",
      "Epoch 25/100\n",
      "2/2 [==============================] - 0s 62ms/step - loss: 0.0773 - dense_9_loss: 0.0142 - dense_10_loss: 0.0386 - dense_11_loss: 0.0177 - dense_12_loss: 0.0068\n",
      "Epoch 26/100\n",
      "2/2 [==============================] - 0s 131ms/step - loss: 0.0748 - dense_9_loss: 0.0133 - dense_10_loss: 0.0380 - dense_11_loss: 0.0170 - dense_12_loss: 0.0064\n",
      "Epoch 27/100\n",
      "2/2 [==============================] - 0s 77ms/step - loss: 0.0737 - dense_9_loss: 0.0130 - dense_10_loss: 0.0383 - dense_11_loss: 0.0164 - dense_12_loss: 0.0061\n",
      "Epoch 28/100\n",
      "2/2 [==============================] - 0s 81ms/step - loss: 0.0730 - dense_9_loss: 0.0132 - dense_10_loss: 0.0387 - dense_11_loss: 0.0153 - dense_12_loss: 0.0057\n",
      "Epoch 29/100\n",
      "2/2 [==============================] - 0s 69ms/step - loss: 0.0716 - dense_9_loss: 0.0134 - dense_10_loss: 0.0389 - dense_11_loss: 0.0140 - dense_12_loss: 0.0054\n",
      "Epoch 30/100\n",
      "2/2 [==============================] - 0s 89ms/step - loss: 0.0693 - dense_9_loss: 0.0132 - dense_10_loss: 0.0386 - dense_11_loss: 0.0124 - dense_12_loss: 0.0052\n",
      "Epoch 31/100\n",
      "2/2 [==============================] - 0s 120ms/step - loss: 0.0669 - dense_9_loss: 0.0129 - dense_10_loss: 0.0382 - dense_11_loss: 0.0108 - dense_12_loss: 0.0050\n",
      "Epoch 32/100\n",
      "2/2 [==============================] - 0s 73ms/step - loss: 0.0653 - dense_9_loss: 0.0128 - dense_10_loss: 0.0379 - dense_11_loss: 0.0096 - dense_12_loss: 0.0050\n",
      "Epoch 33/100\n",
      "2/2 [==============================] - 0s 136ms/step - loss: 0.0648 - dense_9_loss: 0.0129 - dense_10_loss: 0.0378 - dense_11_loss: 0.0091 - dense_12_loss: 0.0051\n",
      "Epoch 34/100\n",
      "2/2 [==============================] - 0s 65ms/step - loss: 0.0650 - dense_9_loss: 0.0130 - dense_10_loss: 0.0378 - dense_11_loss: 0.0089 - dense_12_loss: 0.0053\n",
      "Epoch 35/100\n",
      "2/2 [==============================] - 0s 61ms/step - loss: 0.0653 - dense_9_loss: 0.0131 - dense_10_loss: 0.0379 - dense_11_loss: 0.0088 - dense_12_loss: 0.0055\n",
      "Epoch 36/100\n",
      "2/2 [==============================] - 0s 53ms/step - loss: 0.0653 - dense_9_loss: 0.0131 - dense_10_loss: 0.0379 - dense_11_loss: 0.0087 - dense_12_loss: 0.0057\n",
      "Epoch 37/100\n",
      "2/2 [==============================] - 0s 59ms/step - loss: 0.0649 - dense_9_loss: 0.0130 - dense_10_loss: 0.0379 - dense_11_loss: 0.0085 - dense_12_loss: 0.0056\n",
      "Epoch 38/100\n",
      "2/2 [==============================] - 0s 61ms/step - loss: 0.0642 - dense_9_loss: 0.0129 - dense_10_loss: 0.0378 - dense_11_loss: 0.0082 - dense_12_loss: 0.0053\n",
      "Epoch 39/100\n",
      "2/2 [==============================] - 0s 93ms/step - loss: 0.0633 - dense_9_loss: 0.0128 - dense_10_loss: 0.0377 - dense_11_loss: 0.0079 - dense_12_loss: 0.0049\n",
      "Epoch 40/100\n",
      "2/2 [==============================] - 0s 123ms/step - loss: 0.0624 - dense_9_loss: 0.0128 - dense_10_loss: 0.0375 - dense_11_loss: 0.0076 - dense_12_loss: 0.0045\n",
      "Epoch 41/100\n",
      "2/2 [==============================] - 0s 82ms/step - loss: 0.0618 - dense_9_loss: 0.0129 - dense_10_loss: 0.0373 - dense_11_loss: 0.0073 - dense_12_loss: 0.0043\n",
      "Epoch 42/100\n",
      "2/2 [==============================] - 0s 104ms/step - loss: 0.0613 - dense_9_loss: 0.0129 - dense_10_loss: 0.0371 - dense_11_loss: 0.0071 - dense_12_loss: 0.0043\n",
      "Epoch 43/100\n",
      "2/2 [==============================] - 0s 78ms/step - loss: 0.0610 - dense_9_loss: 0.0129 - dense_10_loss: 0.0369 - dense_11_loss: 0.0070 - dense_12_loss: 0.0042\n",
      "Epoch 44/100\n",
      "2/2 [==============================] - 0s 91ms/step - loss: 0.0607 - dense_9_loss: 0.0127 - dense_10_loss: 0.0368 - dense_11_loss: 0.0070 - dense_12_loss: 0.0042\n",
      "Epoch 45/100\n",
      "2/2 [==============================] - 0s 57ms/step - loss: 0.0603 - dense_9_loss: 0.0126 - dense_10_loss: 0.0366 - dense_11_loss: 0.0069 - dense_12_loss: 0.0042\n",
      "Epoch 46/100\n",
      "2/2 [==============================] - 0s 97ms/step - loss: 0.0598 - dense_9_loss: 0.0124 - dense_10_loss: 0.0364 - dense_11_loss: 0.0068 - dense_12_loss: 0.0042\n",
      "Epoch 47/100\n",
      "2/2 [==============================] - 0s 65ms/step - loss: 0.0592 - dense_9_loss: 0.0123 - dense_10_loss: 0.0361 - dense_11_loss: 0.0066 - dense_12_loss: 0.0042\n",
      "Epoch 48/100\n",
      "2/2 [==============================] - 0s 82ms/step - loss: 0.0585 - dense_9_loss: 0.0122 - dense_10_loss: 0.0358 - dense_11_loss: 0.0064 - dense_12_loss: 0.0041\n",
      "Epoch 49/100\n",
      "2/2 [==============================] - 0s 87ms/step - loss: 0.0576 - dense_9_loss: 0.0121 - dense_10_loss: 0.0354 - dense_11_loss: 0.0061 - dense_12_loss: 0.0041\n",
      "Epoch 50/100\n",
      "2/2 [==============================] - 0s 144ms/step - loss: 0.0568 - dense_9_loss: 0.0120 - dense_10_loss: 0.0350 - dense_11_loss: 0.0058 - dense_12_loss: 0.0040\n",
      "Epoch 51/100\n",
      "2/2 [==============================] - 0s 92ms/step - loss: 0.0557 - dense_9_loss: 0.0117 - dense_10_loss: 0.0343 - dense_11_loss: 0.0056 - dense_12_loss: 0.0040\n",
      "Epoch 52/100\n",
      "2/2 [==============================] - 0s 81ms/step - loss: 0.0549 - dense_9_loss: 0.0115 - dense_10_loss: 0.0339 - dense_11_loss: 0.0056 - dense_12_loss: 0.0039\n",
      "Epoch 53/100\n",
      "2/2 [==============================] - 0s 94ms/step - loss: 0.0534 - dense_9_loss: 0.0111 - dense_10_loss: 0.0330 - dense_11_loss: 0.0055 - dense_12_loss: 0.0038\n",
      "Epoch 54/100\n",
      "2/2 [==============================] - 0s 59ms/step - loss: 0.0519 - dense_9_loss: 0.0107 - dense_10_loss: 0.0321 - dense_11_loss: 0.0053 - dense_12_loss: 0.0038\n",
      "Epoch 55/100\n",
      "2/2 [==============================] - 0s 71ms/step - loss: 0.0497 - dense_9_loss: 0.0102 - dense_10_loss: 0.0308 - dense_11_loss: 0.0051 - dense_12_loss: 0.0037\n",
      "Epoch 56/100\n",
      "2/2 [==============================] - 0s 97ms/step - loss: 0.0480 - dense_9_loss: 0.0097 - dense_10_loss: 0.0298 - dense_11_loss: 0.0050 - dense_12_loss: 0.0036\n",
      "Epoch 57/100\n",
      "2/2 [==============================] - 0s 140ms/step - loss: 0.0451 - dense_9_loss: 0.0089 - dense_10_loss: 0.0280 - dense_11_loss: 0.0047 - dense_12_loss: 0.0036\n",
      "Epoch 58/100\n",
      "2/2 [==============================] - 0s 63ms/step - loss: 0.0423 - dense_9_loss: 0.0081 - dense_10_loss: 0.0262 - dense_11_loss: 0.0046 - dense_12_loss: 0.0035\n",
      "Epoch 59/100\n",
      "2/2 [==============================] - 0s 135ms/step - loss: 0.0387 - dense_9_loss: 0.0069 - dense_10_loss: 0.0239 - dense_11_loss: 0.0044 - dense_12_loss: 0.0034\n",
      "Epoch 60/100\n",
      "2/2 [==============================] - 0s 70ms/step - loss: 0.0360 - dense_9_loss: 0.0061 - dense_10_loss: 0.0223 - dense_11_loss: 0.0043 - dense_12_loss: 0.0033\n",
      "Epoch 61/100\n",
      "2/2 [==============================] - 0s 175ms/step - loss: 0.0314 - dense_9_loss: 0.0047 - dense_10_loss: 0.0191 - dense_11_loss: 0.0043 - dense_12_loss: 0.0033\n",
      "Epoch 62/100\n",
      "2/2 [==============================] - 0s 64ms/step - loss: 0.0284 - dense_9_loss: 0.0038 - dense_10_loss: 0.0168 - dense_11_loss: 0.0046 - dense_12_loss: 0.0032\n",
      "Epoch 63/100\n",
      "2/2 [==============================] - 0s 79ms/step - loss: 0.0242 - dense_9_loss: 0.0027 - dense_10_loss: 0.0138 - dense_11_loss: 0.0046 - dense_12_loss: 0.0031\n",
      "Epoch 64/100\n",
      "2/2 [==============================] - 0s 58ms/step - loss: 0.0210 - dense_9_loss: 0.0020 - dense_10_loss: 0.0115 - dense_11_loss: 0.0046 - dense_12_loss: 0.0029\n",
      "Epoch 65/100\n",
      "2/2 [==============================] - 0s 103ms/step - loss: 0.0175 - dense_9_loss: 0.0013 - dense_10_loss: 0.0089 - dense_11_loss: 0.0046 - dense_12_loss: 0.0028\n",
      "Epoch 66/100\n",
      "2/2 [==============================] - 0s 75ms/step - loss: 0.0145 - dense_9_loss: 7.2730e-04 - dense_10_loss: 0.0065 - dense_11_loss: 0.0047 - dense_12_loss: 0.0026\n",
      "Epoch 67/100\n",
      "2/2 [==============================] - 0s 90ms/step - loss: 0.0120 - dense_9_loss: 4.3606e-04 - dense_10_loss: 0.0048 - dense_11_loss: 0.0044 - dense_12_loss: 0.0024\n",
      "Epoch 68/100\n",
      "2/2 [==============================] - 0s 82ms/step - loss: 0.0095 - dense_9_loss: 2.6791e-04 - dense_10_loss: 0.0034 - dense_11_loss: 0.0036 - dense_12_loss: 0.0022\n",
      "Epoch 69/100\n",
      "2/2 [==============================] - 0s 113ms/step - loss: 0.0077 - dense_9_loss: 1.6855e-04 - dense_10_loss: 0.0024 - dense_11_loss: 0.0031 - dense_12_loss: 0.0020\n",
      "Epoch 70/100\n",
      "2/2 [==============================] - 0s 59ms/step - loss: 0.0062 - dense_9_loss: 1.0774e-04 - dense_10_loss: 0.0017 - dense_11_loss: 0.0026 - dense_12_loss: 0.0018\n",
      "Epoch 71/100\n",
      "2/2 [==============================] - 0s 78ms/step - loss: 0.0053 - dense_9_loss: 7.2240e-05 - dense_10_loss: 0.0012 - dense_11_loss: 0.0025 - dense_12_loss: 0.0016\n",
      "Epoch 72/100\n",
      "2/2 [==============================] - 0s 74ms/step - loss: 0.0048 - dense_9_loss: 5.1507e-05 - dense_10_loss: 8.3528e-04 - dense_11_loss: 0.0025 - dense_12_loss: 0.0014\n",
      "Epoch 73/100\n",
      "2/2 [==============================] - 0s 72ms/step - loss: 0.0043 - dense_9_loss: 3.8285e-05 - dense_10_loss: 6.0775e-04 - dense_11_loss: 0.0025 - dense_12_loss: 0.0012\n",
      "Epoch 74/100\n",
      "2/2 [==============================] - 0s 130ms/step - loss: 0.0038 - dense_9_loss: 2.8921e-05 - dense_10_loss: 4.5225e-04 - dense_11_loss: 0.0022 - dense_12_loss: 0.0011\n",
      "Epoch 75/100\n",
      "2/2 [==============================] - 0s 56ms/step - loss: 0.0032 - dense_9_loss: 2.2020e-05 - dense_10_loss: 3.4204e-04 - dense_11_loss: 0.0019 - dense_12_loss: 9.8972e-04\n",
      "Epoch 76/100\n",
      "2/2 [==============================] - 0s 58ms/step - loss: 0.0029 - dense_9_loss: 1.6687e-05 - dense_10_loss: 2.6236e-04 - dense_11_loss: 0.0017 - dense_12_loss: 9.0703e-04\n",
      "Epoch 77/100\n",
      "2/2 [==============================] - 0s 93ms/step - loss: 0.0026 - dense_9_loss: 1.2676e-05 - dense_10_loss: 2.0362e-04 - dense_11_loss: 0.0015 - dense_12_loss: 8.3982e-04\n",
      "Epoch 78/100\n",
      "2/2 [==============================] - 0s 100ms/step - loss: 0.0024 - dense_9_loss: 9.6270e-06 - dense_10_loss: 1.6529e-04 - dense_11_loss: 0.0014 - dense_12_loss: 7.8295e-04\n",
      "Epoch 79/100\n",
      "2/2 [==============================] - 0s 109ms/step - loss: 0.0022 - dense_9_loss: 7.3653e-06 - dense_10_loss: 1.3724e-04 - dense_11_loss: 0.0013 - dense_12_loss: 7.3903e-04\n",
      "Epoch 80/100\n",
      "2/2 [==============================] - 0s 99ms/step - loss: 0.0020 - dense_9_loss: 5.8514e-06 - dense_10_loss: 1.1689e-04 - dense_11_loss: 0.0011 - dense_12_loss: 7.0718e-04\n",
      "Epoch 81/100\n",
      "2/2 [==============================] - 0s 92ms/step - loss: 0.0018 - dense_9_loss: 4.9895e-06 - dense_10_loss: 1.0448e-04 - dense_11_loss: 0.0010 - dense_12_loss: 6.8009e-04\n",
      "Epoch 82/100\n",
      "2/2 [==============================] - 0s 80ms/step - loss: 0.0016 - dense_9_loss: 4.5563e-06 - dense_10_loss: 9.7482e-05 - dense_11_loss: 8.7812e-04 - dense_12_loss: 6.5583e-04\n",
      "Epoch 83/100\n",
      "2/2 [==============================] - 0s 78ms/step - loss: 0.0015 - dense_9_loss: 4.3617e-06 - dense_10_loss: 9.3911e-05 - dense_11_loss: 7.6764e-04 - dense_12_loss: 6.3267e-04\n",
      "Epoch 84/100\n",
      "2/2 [==============================] - 0s 67ms/step - loss: 0.0014 - dense_9_loss: 4.3147e-06 - dense_10_loss: 9.2443e-05 - dense_11_loss: 6.7040e-04 - dense_12_loss: 6.0998e-04\n",
      "Epoch 85/100\n",
      "2/2 [==============================] - 0s 63ms/step - loss: 0.0013 - dense_9_loss: 4.3625e-06 - dense_10_loss: 9.2592e-05 - dense_11_loss: 6.3548e-04 - dense_12_loss: 5.8688e-04\n",
      "Epoch 86/100\n",
      "2/2 [==============================] - 0s 58ms/step - loss: 0.0013 - dense_9_loss: 4.4726e-06 - dense_10_loss: 9.3883e-05 - dense_11_loss: 5.9430e-04 - dense_12_loss: 5.6309e-04\n",
      "Epoch 87/100\n",
      "2/2 [==============================] - 0s 92ms/step - loss: 0.0012 - dense_9_loss: 4.6455e-06 - dense_10_loss: 9.6010e-05 - dense_11_loss: 5.3389e-04 - dense_12_loss: 5.3850e-04\n",
      "Epoch 88/100\n",
      "2/2 [==============================] - 0s 94ms/step - loss: 0.0011 - dense_9_loss: 4.8422e-06 - dense_10_loss: 9.8039e-05 - dense_11_loss: 4.5317e-04 - dense_12_loss: 5.1340e-04\n",
      "Epoch 89/100\n",
      "2/2 [==============================] - 0s 73ms/step - loss: 9.6364e-04 - dense_9_loss: 5.0951e-06 - dense_10_loss: 9.9790e-05 - dense_11_loss: 3.7090e-04 - dense_12_loss: 4.8786e-04\n",
      "Epoch 90/100\n",
      "2/2 [==============================] - 0s 83ms/step - loss: 9.1866e-04 - dense_9_loss: 5.3238e-06 - dense_10_loss: 1.0126e-04 - dense_11_loss: 3.4820e-04 - dense_12_loss: 4.6387e-04\n",
      "Epoch 91/100\n",
      "2/2 [==============================] - 0s 84ms/step - loss: 8.7280e-04 - dense_9_loss: 5.5596e-06 - dense_10_loss: 1.0316e-04 - dense_11_loss: 3.2337e-04 - dense_12_loss: 4.4071e-04\n",
      "Epoch 92/100\n",
      "2/2 [==============================] - 0s 76ms/step - loss: 8.3441e-04 - dense_9_loss: 5.8100e-06 - dense_10_loss: 1.0503e-04 - dense_11_loss: 3.0531e-04 - dense_12_loss: 4.1826e-04\n",
      "Epoch 93/100\n",
      "2/2 [==============================] - 0s 66ms/step - loss: 7.7173e-04 - dense_9_loss: 5.9985e-06 - dense_10_loss: 1.0522e-04 - dense_11_loss: 2.6352e-04 - dense_12_loss: 3.9699e-04\n",
      "Epoch 94/100\n",
      "2/2 [==============================] - 0s 65ms/step - loss: 7.0944e-04 - dense_9_loss: 6.1446e-06 - dense_10_loss: 1.0380e-04 - dense_11_loss: 2.2212e-04 - dense_12_loss: 3.7737e-04\n",
      "Epoch 95/100\n",
      "2/2 [==============================] - 0s 84ms/step - loss: 6.5717e-04 - dense_9_loss: 6.2993e-06 - dense_10_loss: 1.0236e-04 - dense_11_loss: 1.8884e-04 - dense_12_loss: 3.5966e-04\n",
      "Epoch 96/100\n",
      "2/2 [==============================] - 0s 66ms/step - loss: 6.2249e-04 - dense_9_loss: 6.4840e-06 - dense_10_loss: 1.0158e-04 - dense_11_loss: 1.7037e-04 - dense_12_loss: 3.4406e-04\n",
      "Epoch 97/100\n",
      "2/2 [==============================] - 0s 64ms/step - loss: 5.8825e-04 - dense_9_loss: 6.6493e-06 - dense_10_loss: 1.0041e-04 - dense_11_loss: 1.5063e-04 - dense_12_loss: 3.3056e-04\n",
      "Epoch 98/100\n",
      "2/2 [==============================] - 0s 78ms/step - loss: 5.6193e-04 - dense_9_loss: 6.7258e-06 - dense_10_loss: 9.7798e-05 - dense_11_loss: 1.3849e-04 - dense_12_loss: 3.1892e-04\n",
      "Epoch 99/100\n",
      "2/2 [==============================] - 0s 79ms/step - loss: 5.3559e-04 - dense_9_loss: 6.7390e-06 - dense_10_loss: 9.4333e-05 - dense_11_loss: 1.2601e-04 - dense_12_loss: 3.0851e-04\n",
      "Epoch 100/100\n",
      "2/2 [==============================] - 0s 76ms/step - loss: 5.1471e-04 - dense_9_loss: 6.6883e-06 - dense_10_loss: 9.0719e-05 - dense_11_loss: 1.1856e-04 - dense_12_loss: 2.9874e-04\n"
     ],
     "output_type": "stream"
    },
    {
     "data": {
      "text/plain": "<keras.callbacks.callbacks.History at 0x20e0c5e1e10>"
     },
     "metadata": {},
     "output_type": "execute_result",
     "execution_count": 6
    }
   ],
   "source": [
    "# construct the autoencoder model\n",
    "autoencoder = Model(input=[country_input, genre_input, audio_input, video_input],\n",
    "                    output=[country_output, genre_output, audio_output, video_output])\n",
    "\n",
    "# construct the encoder model for plotting\n",
    "encoder = Model(input=[country_input, genre_input, audio_input, video_input], output=encoder_output)\n",
    "\n",
    "# compile autoencoder\n",
    "autoencoder.compile(optimizer='adam', loss='mse')\n",
    "\n",
    "# training\n",
    "autoencoder.fit([country_feature, genre_feature, audio_feature, video_feature],\n",
    "                [country_feature, genre_feature, audio_feature, video_feature],\n",
    "                epochs=100, batch_size=256, shuffle=True, verbose=1)"
   ]
  },
  {
   "cell_type": "code",
   "execution_count": 7,
   "metadata": {
    "pycharm": {
     "is_executing": false,
     "name": "#%%\n"
    }
   },
   "outputs": [
    {
     "data": {
      "text/plain": "[array([[1.72446980e-05, 4.15435352e-05, 1.31135515e-04, 9.03740292e-05,\n         3.81150749e-05, 1.64745477e-04, 2.05788936e-04, 5.56637569e-05,\n         7.61421979e-05, 7.08383159e-05, 3.59833975e-05, 6.37029734e-05,\n         7.34239802e-05, 1.00473597e-04, 5.72171230e-05, 6.52783565e-05,\n         2.83385798e-05, 1.01175516e-04, 2.75479106e-05, 3.50991249e-05,\n         1.24962908e-05, 1.50923333e-05, 4.59184630e-05, 8.11661957e-05,\n         3.19339597e-05, 4.20388096e-05, 3.66497006e-05, 7.43155470e-05,\n         6.04571942e-05, 4.35349284e-05, 8.22700968e-05, 2.10582602e-05,\n         9.85454917e-01, 4.42112250e-05, 1.23785455e-02, 4.31843982e-05,\n         5.23743038e-05],\n        [1.56140891e-06, 5.24199640e-06, 4.25736289e-06, 7.93640356e-06,\n         8.19492129e-07, 6.41141150e-06, 9.03252385e-06, 8.01886983e-07,\n         6.37344965e-06, 3.37057895e-06, 8.23987250e-07, 1.29056082e-06,\n         1.91299796e-06, 2.57783631e-06, 3.46539923e-06, 5.21271886e-06,\n         1.51485676e-06, 1.40723466e-06, 1.09976452e-06, 3.04467812e-06,\n         8.48620516e-07, 5.33777722e-07, 2.19897220e-06, 5.62842342e-06,\n         1.97503709e-06, 4.87018895e-07, 7.99467216e-07, 4.79656092e-06,\n         1.27467160e-06, 1.68018391e-06, 3.27015937e-06, 1.08548090e-06,\n         7.77265336e-03, 1.21439939e-06, 9.92129624e-01, 2.59108674e-06,\n         1.15395221e-06]], dtype=float32),\n array([[3.4686923e-04, 1.2033880e-03, 8.4358454e-04, 8.5845590e-04,\n         1.7581135e-02, 9.7597301e-01, 1.3245940e-03, 1.1525154e-03,\n         6.7719817e-04, 6.2394142e-04, 1.4472008e-03, 1.6249120e-03,\n         1.1951923e-03, 1.1442602e-03, 8.3202124e-04, 7.9137087e-04,\n         9.7062373e-01, 1.8817484e-03, 8.5148215e-04],\n        [3.6895275e-05, 1.4680624e-04, 1.8471479e-04, 2.9870868e-04,\n         9.8297417e-01, 2.4323642e-02, 3.5971403e-04, 1.3172626e-04,\n         6.1750412e-05, 3.7550926e-05, 1.4078617e-04, 8.4638596e-05,\n         7.5599551e-04, 2.9368879e-04, 1.6873318e-04, 1.3301848e-04,\n         2.5794819e-02, 3.1009450e-04, 1.3764558e-04]], dtype=float32),\n array([[-1.35006830e-01, -6.80182040e-01,  7.44350135e-01,\n         -2.29746457e-02,  8.16057029e-04,  3.12112346e-02,\n          4.67899330e-02, -3.85370292e-02, -2.95365881e-02,\n         -3.34306732e-02,  3.58050019e-02,  8.48874357e-03,\n          4.36785966e-02, -2.69779675e-02, -1.66090799e-03,\n         -4.60842922e-02,  5.29920822e-03, -2.12407280e-02,\n         -3.59004214e-02,  5.16097993e-02, -1.36304898e-02,\n         -1.91101618e-02, -4.28047627e-02,  3.79800424e-02,\n          8.53342190e-03, -9.14388394e-04, -3.01309060e-02,\n          2.21026465e-02, -4.26635146e-02,  8.54376983e-03,\n         -8.54940061e-03, -4.42743190e-02,  1.33759677e-02,\n          1.05642593e-02, -5.09369783e-02, -4.94863428e-02,\n         -5.89707913e-03,  3.35711450e-03,  1.33877154e-02,\n          9.69542563e-03,  2.19391454e-02,  1.27771394e-02,\n         -4.34458070e-02,  1.16554104e-01,  8.41577798e-02,\n         -1.61332786e-01, -1.34488776e-01,  4.50700670e-02,\n         -8.77630115e-02, -1.09699346e-01, -1.90003943e-02,\n         -9.81556997e-02, -1.24345578e-01, -6.80715069e-02,\n          6.09084740e-02, -2.50810266e-01,  1.79945856e-01,\n          1.51291758e-01, -7.13957548e-02, -7.42023587e-02,\n          5.15387952e-02,  7.01612756e-02,  1.30006000e-02,\n         -6.49693012e-02, -4.14435975e-02, -1.86563935e-03,\n         -8.30637813e-02,  7.68905738e-04, -2.69247115e-01,\n          1.69605821e-01,  1.58914849e-01, -9.92171839e-02,\n         -1.14611328e-01, -4.80900072e-02,  3.05858552e-02,\n         -9.92252976e-02, -1.15200728e-01, -6.43247366e-02,\n         -2.89870985e-02, -1.03276996e-02,  9.28185582e-02,\n          1.24117859e-01, -2.01479480e-01, -1.96652159e-01,\n          1.52137205e-01,  1.79248169e-01, -1.34968579e-01,\n          7.49535784e-02,  1.24789260e-01, -6.84307665e-02,\n          9.59883630e-02,  1.69873551e-01,  2.90153194e-02,\n         -1.10917263e-01,  1.97673187e-01, -1.45679012e-01,\n         -1.08842783e-01,  5.51916920e-02,  6.19733110e-02,\n         -5.48331589e-02, -4.00141925e-02, -3.09427213e-02,\n          6.52084649e-02,  5.57350740e-02,  2.80581247e-02,\n          7.95371458e-02,  1.12750232e-02,  1.98973358e-01,\n         -1.65961057e-01, -1.15222476e-01,  1.04621768e-01,\n          9.66544300e-02,  4.29036506e-02, -5.35275228e-02,\n          7.58626685e-02,  9.56617370e-02,  5.77349961e-02,\n          2.28565242e-02,  3.59303020e-02, -9.32389945e-02,\n          5.55645602e-05,  5.53689199e-04, -3.52660902e-02,\n         -1.79133657e-02, -4.91194427e-02, -1.04392944e-02,\n         -7.12169160e-04,  1.68210268e-02, -1.33828456e-02,\n         -5.40541578e-03, -1.79057531e-02, -2.93079037e-02,\n         -1.42192962e-02,  1.61534641e-02, -3.84163707e-02,\n          3.14630978e-02, -1.06400978e-02, -1.08604068e-02,\n         -1.11254174e-02,  8.48530978e-03, -9.28326417e-03,\n          1.08371684e-02,  1.76828541e-02,  1.40790753e-02,\n         -5.05424244e-03, -3.43427472e-02,  1.70549583e-02,\n         -2.82707289e-02, -4.72795265e-03,  1.43329706e-02,\n         -3.05530243e-03, -3.34433094e-02, -2.36073397e-02,\n         -1.85235795e-02,  1.04718935e-02,  2.55138669e-02,\n         -4.79826145e-02, -2.05028336e-02, -2.11190283e-02,\n         -3.46349925e-02, -7.31302947e-02,  7.02175945e-02,\n         -1.65691465e-01,  2.25321744e-02,  7.88322166e-02,\n         -5.15594184e-02,  6.31643645e-03,  3.33975703e-02,\n          8.02777708e-02,  4.99447398e-02,  5.09538352e-02,\n          5.75851351e-02, -3.96554530e-01, -1.63682684e-01,\n         -1.51742116e-01,  5.12242950e-02, -2.79291943e-02,\n         -5.63047081e-02,  9.66015738e-03,  6.52692541e-02,\n          4.28937338e-02,  4.13587242e-02,  5.90391532e-02,\n         -3.00425701e-02, -9.16961059e-02, -3.80617410e-01,\n         -2.25746825e-01, -2.64251024e-01, -8.98616239e-02,\n         -9.66775417e-02, -2.08045579e-02, -5.52834682e-02,\n         -1.22596897e-01, -1.12656124e-01,  1.99079346e-02,\n          2.92855445e-02, -2.75984164e-02, -7.15945810e-02,\n          7.43148774e-02,  2.05842003e-01,  1.65681407e-01,\n          8.38441476e-02,  1.17266700e-01,  2.17666980e-02,\n         -5.16186245e-02, -7.74529502e-02, -6.53019398e-02,\n         -8.63052681e-02,  8.92497376e-02, -6.66151941e-02,\n         -6.29432723e-02,  1.99775994e-01,  1.22728087e-01,\n          8.40487927e-02, -7.96679631e-02, -3.41782644e-02,\n          7.85044953e-02, -6.12532943e-02, -6.87186643e-02,\n         -6.84128329e-02, -8.66189525e-02, -6.40583336e-02,\n         -2.19052061e-02,  5.75282834e-02,  2.30339289e-01,\n          1.89734221e-01,  1.23188667e-01, -5.23733646e-02,\n          1.65406391e-02, -5.65587692e-02, -2.27798056e-02,\n          4.27776799e-02, -1.09522808e-02, -7.69016966e-02,\n         -7.80924112e-02, -4.00670655e-02,  2.15436821e-03],\n        [ 6.03098750e-01, -5.76134682e-01,  5.61976135e-01,\n          4.08378094e-02,  7.75579438e-02, -2.71215905e-02,\n         -8.00305605e-02,  5.85591272e-02, -5.98399788e-02,\n          2.28378959e-02, -1.03607014e-01,  3.60244215e-02,\n         -9.63565707e-02,  1.05451262e-02, -8.06404799e-02,\n          2.65907962e-02, -2.92813741e-02, -7.22611099e-02,\n         -4.29920144e-02,  1.23632820e-02, -8.08809027e-02,\n         -8.60637650e-02, -8.18292424e-02,  3.39972451e-02,\n         -4.02260050e-02,  7.48864934e-02,  2.20825002e-02,\n         -1.95561536e-02, -6.34008050e-02, -1.20555768e-02,\n          6.54963329e-02, -1.89612359e-02, -3.01538594e-02,\n          9.64751616e-02, -1.96690839e-02,  7.59100169e-02,\n          8.54525119e-02,  8.49711746e-02,  3.16952774e-03,\n          6.81658387e-02,  5.95037565e-02,  1.21053876e-02,\n         -2.52505720e-01,  1.79480612e-01,  2.66338587e-01,\n          1.25209615e-01,  1.21766798e-01, -1.09976240e-01,\n          2.45075338e-02, -8.73283446e-02,  8.90605673e-02,\n          6.94578886e-02,  9.53603610e-02, -5.67330420e-02,\n          8.85427967e-02,  6.15631491e-02, -4.90469299e-02,\n         -5.92844598e-02, -5.51194735e-02,  8.38535652e-02,\n         -7.84819946e-03, -1.07610047e-01, -4.58801650e-02,\n          8.19836631e-02,  5.21398596e-02,  2.83939596e-02,\n          1.12342834e-01,  8.93129036e-02,  1.33622229e-01,\n          1.80367008e-02, -9.32549536e-02, -7.06741288e-02,\n          1.17367640e-01, -8.49297047e-02, -7.77587220e-02,\n         -4.02222686e-02,  8.04785639e-02, -1.29479840e-01,\n         -1.21892937e-01,  6.51751906e-02,  6.47560805e-02,\n          2.40853593e-01, -1.92946851e-01, -2.73733199e-01,\n         -1.19995184e-01, -1.19105190e-01,  1.11490317e-01,\n         -3.12292967e-02,  8.28641579e-02, -9.74194184e-02,\n          2.68072095e-02, -1.10262677e-01,  7.70944729e-02,\n         -1.03120990e-01, -8.64407867e-02,  4.94211577e-02,\n          7.96240345e-02,  5.35445027e-02, -6.62618428e-02,\n          3.56247015e-02,  1.01735078e-01,  5.03772348e-02,\n         -8.08159038e-02, -7.87340254e-02, -3.91926952e-02,\n         -1.26990229e-01, -7.99698234e-02, -1.33184791e-01,\n         -4.77466881e-02,  1.02564692e-01,  7.45883584e-02,\n         -1.18609034e-01,  9.78449658e-02,  1.07558116e-01,\n          3.40134390e-02, -8.07023048e-02,  1.39356419e-01,\n          1.15870260e-01, -8.92068148e-02, -6.76172152e-02,\n         -1.75556224e-02,  6.20772764e-02, -2.57403646e-02,\n          5.42497411e-02, -1.26128392e-02, -3.81916352e-02,\n         -3.47887389e-02,  1.11317076e-01, -1.77811962e-02,\n          7.02736378e-02, -3.78805138e-02,  7.70553946e-02,\n         -2.67825443e-02, -3.42810974e-02,  3.32740173e-02,\n         -8.39304458e-03, -2.69312207e-02,  2.69716419e-02,\n          5.27531393e-02,  3.64900269e-02, -3.79905589e-02,\n         -3.35460342e-02, -2.28616372e-02, -2.04468854e-02,\n         -2.03865208e-02, -1.55757805e-02, -3.40551399e-02,\n          2.73595750e-02, -4.54296097e-02, -3.75682078e-02,\n          9.35216770e-02, -2.07878929e-02,  1.56466644e-02,\n          3.62238437e-02,  5.63772954e-02, -4.54362705e-02,\n          6.11476414e-02,  3.09520625e-02, -3.36174108e-02,\n          3.38835448e-01,  1.17133602e-01,  2.40453690e-01,\n          1.49587661e-01,  1.21535659e-01,  6.31025806e-02,\n          4.60684374e-02,  9.00174603e-02,  9.24227238e-02,\n          8.02714080e-02,  5.91935664e-02,  7.16728643e-02,\n          9.13290959e-03,  1.19934149e-01, -1.60900429e-01,\n          1.09904021e-01, -1.29669160e-01, -1.59862846e-01,\n         -1.55326620e-01, -7.31984973e-02, -6.93434924e-02,\n         -1.04980044e-01, -8.27076137e-02, -7.97941461e-02,\n          9.23451930e-02,  1.33893996e-01,  1.38653323e-01,\n         -2.05738703e-03,  1.52047321e-01,  6.74878880e-02,\n          6.07157350e-02,  8.10193121e-02,  8.79490972e-02,\n          8.43407288e-02,  9.21430588e-02,  7.39551783e-02,\n          6.45797774e-02,  6.91030100e-02,  1.10980801e-01,\n         -1.32326856e-01,  1.11744896e-01, -2.23954931e-01,\n         -1.34356126e-01, -3.57945003e-02,  3.73661704e-02,\n         -6.55053481e-02, -7.17828423e-02, -6.24202229e-02,\n         -1.00746930e-01, -5.45719154e-02, -8.60547721e-02,\n         -1.18541010e-02, -1.23351097e-01,  1.39163658e-01,\n         -1.13882758e-01,  1.10286534e-01,  1.17611788e-01,\n          9.21954662e-02,  7.94552118e-02,  6.93905056e-02,\n          1.00159153e-01,  9.36563984e-02,  8.21499303e-02,\n         -1.05248824e-01, -1.40274644e-01, -1.43443599e-01,\n         -3.01248692e-02, -1.42182752e-01, -6.03806898e-02,\n         -4.76032160e-02, -8.33133683e-02, -9.00476798e-02,\n         -1.02145486e-01, -1.11286856e-01, -7.48034716e-02,\n         -6.12225793e-02, -9.01341960e-02, -1.25757545e-01]], dtype=float32),\n array([[0.00948262, 0.01012504, 0.00881422, ..., 0.17228177, 0.2892177 ,\n         0.01088244],\n        [0.00194994, 0.00215515, 0.00260946, ..., 0.25062686, 0.38896763,\n         0.0031158 ]], dtype=float32)]"
     },
     "metadata": {},
     "output_type": "execute_result",
     "execution_count": 7
    }
   ],
   "source": [
    "test = autoencoder.predict([country_feature, genre_feature, audio_feature, video_feature])\n",
    "test"
   ]
  },
  {
   "cell_type": "code",
   "execution_count": 8,
   "outputs": [
    {
     "data": {
      "text/plain": "array([[-3.2792664 ,  2.0777001 , -2.4550774 ,  2.7520745 ,  1.3064508 ,\n         1.7742621 ,  1.7763183 , -1.0036951 , -1.279995  ,  2.253398  ,\n         0.77858496, -1.4887658 ,  1.212124  ,  5.802516  , -1.4556428 ,\n         2.2429197 , -3.9404824 , -1.9668274 ,  1.964121  ,  4.5578527 ],\n       [-4.738972  ,  4.089715  , -6.016193  ,  2.5938637 ,  3.7600367 ,\n         3.591629  ,  2.3513103 , -1.4433155 , -2.1614428 ,  3.0630052 ,\n        -2.3878677 , -2.8513517 ,  1.0529511 ,  9.858205  ,  0.02260466,\n         1.7538059 , -7.7236524 , -1.7231075 ,  2.596217  ,  5.5566773 ]],\n      dtype=float32)"
     },
     "metadata": {},
     "output_type": "execute_result",
     "execution_count": 8
    }
   ],
   "source": [
    "test_encoder = encoder.predict([country_feature, genre_feature, audio_feature, video_feature])\n",
    "test_encoder\n"
   ],
   "metadata": {
    "collapsed": false,
    "pycharm": {
     "name": "#%%\n",
     "is_executing": false
    }
   }
  }
 ],
 "metadata": {
  "kernelspec": {
   "display_name": "Python 3",
   "language": "python",
   "name": "python3"
  },
  "language_info": {
   "codemirror_mode": {
    "name": "ipython",
    "version": 3
   },
   "file_extension": ".py",
   "mimetype": "text/x-python",
   "name": "python",
   "nbconvert_exporter": "python",
   "pygments_lexer": "ipython3",
   "version": "3.7.1"
  },
  "pycharm": {
   "stem_cell": {
    "cell_type": "raw",
    "source": [],
    "metadata": {
     "collapsed": false
    }
   }
  }
 },
 "nbformat": 4,
 "nbformat_minor": 1
}