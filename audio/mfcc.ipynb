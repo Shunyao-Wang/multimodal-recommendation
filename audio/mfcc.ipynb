{
 "cells": [
  {
   "cell_type": "code",
   "execution_count": 1,
   "metadata": {
    "collapsed": true,
    "pycharm": {
     "is_executing": false
    }
   },
   "outputs": [
    {
     "name": "stderr",
     "text": [
      "                                                                   \r"
     ],
     "output_type": "stream"
    },
    {
     "name": "stdout",
     "text": [
      "MoviePy - Writing audio in ../data/audios/test.wav\n",
      "MoviePy - Done.\n"
     ],
     "output_type": "stream"
    }
   ],
   "source": [
    "from moviepy.editor import *\n",
    "# 从视频中提取音频\n",
    "video = VideoFileClip('../data/videos/8207_video.mp4')\n",
    "audio = video.audio\n",
    "audio.write_audiofile('../data/audios/test.wav')"
   ]
  },
  {
   "cell_type": "code",
   "execution_count": 2,
   "outputs": [
    {
     "name": "stderr",
     "text": [
      "WARNING:root:frame length (1103) is greater than FFT size (512), frame will be truncated. Increase NFFT to avoid.\n"
     ],
     "output_type": "stream"
    }
   ],
   "source": [
    "# 从wav中提取mfcc特征\n",
    "from python_speech_features import *\n",
    "import scipy.io.wavfile as wav\n",
    "import numpy as np\n",
    "filepath = \"../data/audios/test.wav\"\n",
    "fs, signal = wav.read(filepath)\n",
    "wav_feature =  mfcc(signal, fs)\n",
    "d_mfcc_feat = delta(wav_feature, 1)\n",
    "d_mfcc_feat2 = delta(wav_feature, 2)\n",
    "feature = np.hstack((wav_feature, d_mfcc_feat, d_mfcc_feat2))"
   ],
   "metadata": {
    "collapsed": false,
    "pycharm": {
     "name": "#%%\n",
     "is_executing": false
    }
   }
  },
  {
   "cell_type": "code",
   "execution_count": 3,
   "outputs": [
    {
     "name": "stdout",
     "text": [
      "(6023, 39)\n"
     ],
     "output_type": "stream"
    }
   ],
   "source": [
    "print(feature.shape)"
   ],
   "metadata": {
    "collapsed": false,
    "pycharm": {
     "name": "#%%\n",
     "is_executing": false
    }
   }
  },
  {
   "cell_type": "code",
   "execution_count": 3,
   "outputs": [],
   "source": [
    "\n"
   ],
   "metadata": {
    "collapsed": false,
    "pycharm": {
     "name": "#%%\n",
     "is_executing": false
    }
   }
  }
 ],
 "metadata": {
  "kernelspec": {
   "display_name": "Python 3",
   "language": "python",
   "name": "python3"
  },
  "language_info": {
   "codemirror_mode": {
    "name": "ipython",
    "version": 2
   },
   "file_extension": ".py",
   "mimetype": "text/x-python",
   "name": "python",
   "nbconvert_exporter": "python",
   "pygments_lexer": "ipython2",
   "version": "2.7.6"
  },
  "pycharm": {
   "stem_cell": {
    "cell_type": "raw",
    "source": [],
    "metadata": {
     "collapsed": false
    }
   }
  }
 },
 "nbformat": 4,
 "nbformat_minor": 0
}