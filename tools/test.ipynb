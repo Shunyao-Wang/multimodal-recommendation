{
 "cells": [
  {
   "cell_type": "code",
   "execution_count": 1,
   "metadata": {
    "collapsed": true,
    "pycharm": {
     "is_executing": false
    }
   },
   "outputs": [],
   "source": [
    "import numpy as np"
   ]
  },
  {
   "cell_type": "code",
   "execution_count": 2,
   "outputs": [
    {
     "traceback": [
      "\u001b[1;31m---------------------------------------------------------------------------\u001b[0m",
      "\u001b[1;31mValueError\u001b[0m                                Traceback (most recent call last)",
      "\u001b[1;32m<ipython-input-2-8bbe66f2aafc>\u001b[0m in \u001b[0;36m<module>\u001b[1;34m\u001b[0m\n\u001b[0;32m      7\u001b[0m \u001b[0mlis\u001b[0m\u001b[1;33m.\u001b[0m\u001b[0mappend\u001b[0m\u001b[1;33m(\u001b[0m\u001b[0mb\u001b[0m\u001b[1;33m)\u001b[0m\u001b[1;33m\u001b[0m\u001b[1;33m\u001b[0m\u001b[0m\n\u001b[0;32m      8\u001b[0m \u001b[0mhaha\u001b[0m\u001b[1;33m[\u001b[0m\u001b[1;36m0\u001b[0m\u001b[1;33m]\u001b[0m \u001b[1;33m=\u001b[0m \u001b[0ma\u001b[0m\u001b[1;33m\u001b[0m\u001b[1;33m\u001b[0m\u001b[0m\n\u001b[1;32m----> 9\u001b[1;33m \u001b[0mhaha\u001b[0m\u001b[1;33m[\u001b[0m\u001b[1;36m1\u001b[0m\u001b[1;33m]\u001b[0m \u001b[1;33m=\u001b[0m \u001b[0mb\u001b[0m\u001b[1;33m\u001b[0m\u001b[1;33m\u001b[0m\u001b[0m\n\u001b[0m\u001b[0;32m     10\u001b[0m \u001b[0mprint\u001b[0m\u001b[1;33m(\u001b[0m\u001b[0mhaha\u001b[0m\u001b[1;33m)\u001b[0m\u001b[1;33m\u001b[0m\u001b[1;33m\u001b[0m\u001b[0m\n\u001b[0;32m     11\u001b[0m \u001b[1;33m\u001b[0m\u001b[0m\n",
      "\u001b[1;31mValueError\u001b[0m: could not broadcast input array from shape (5,5) into shape (5,6)"
     ],
     "ename": "ValueError",
     "evalue": "could not broadcast input array from shape (5,5) into shape (5,6)",
     "output_type": "error"
    }
   ],
   "source": [
    "haha = np.zeros((3,5,6))\n",
    "a = np.zeros((5,6))\n",
    "b = np.ones((5,5))\n",
    "lis = []\n",
    "lis.append(a)\n",
    "lis.append(b)\n",
    "haha[0] = a\n",
    "haha[1] = b\n",
    "print(haha)"
   ],
   "metadata": {
    "collapsed": false,
    "pycharm": {
     "name": "#%%\n",
     "is_executing": false
    }
   }
  },
  {
   "cell_type": "code",
   "execution_count": null,
   "outputs": [],
   "source": [
    "aaa = np.load(\"../data/features/audio_feature.npy\")"
   ],
   "metadata": {
    "collapsed": false,
    "pycharm": {
     "name": "#%%\n",
     "is_executing": false
    }
   }
  },
  {
   "cell_type": "code",
   "execution_count": null,
   "outputs": [],
   "source": [
    "import random\n",
    "a = random.sample(set([1, 2]), 2)\n",
    "print(a)"
   ],
   "metadata": {
    "collapsed": false,
    "pycharm": {
     "name": "#%%\n",
     "is_executing": false
    }
   }
  },
  {
   "cell_type": "code",
   "execution_count": null,
   "outputs": [],
   "source": [
    "print(random.randint(0,10))"
   ],
   "metadata": {
    "collapsed": false,
    "pycharm": {
     "name": "#%%\n",
     "is_executing": false
    }
   }
  },
  {
   "cell_type": "code",
   "execution_count": 9,
   "outputs": [
    {
     "name": "stdout",
     "text": [
      "[[[[[ 23  25  26]\n",
      "    [ 23  25  26]\n",
      "    [ 25  25  25]\n",
      "    ...\n",
      "    [ 27  25  25]\n",
      "    [ 25  25  25]\n",
      "    [ 25  25  25]]\n",
      "\n",
      "   [[ 23  25  26]\n",
      "    [ 23  25  26]\n",
      "    [ 25  25  25]\n",
      "    ...\n",
      "    [ 27  25  25]\n",
      "    [ 25  25  25]\n",
      "    [ 25  25  25]]\n",
      "\n",
      "   [[ 23  25  26]\n",
      "    [ 23  25  26]\n",
      "    [ 25  25  25]\n",
      "    ...\n",
      "    [ 27  25  25]\n",
      "    [ 25  25  25]\n",
      "    [ 25  25  25]]\n",
      "\n",
      "   ...\n",
      "\n",
      "   [[ 25  25  25]\n",
      "    [ 25  25  25]\n",
      "    [ 25  25  25]\n",
      "    ...\n",
      "    [ 25  25  25]\n",
      "    [ 25  25  25]\n",
      "    [ 25  25  25]]\n",
      "\n",
      "   [[ 25  25  25]\n",
      "    [ 25  25  25]\n",
      "    [ 25  25  25]\n",
      "    ...\n",
      "    [ 25  25  25]\n",
      "    [ 25  26  24]\n",
      "    [ 25  26  24]]\n",
      "\n",
      "   [[ 25  25  25]\n",
      "    [ 25  25  25]\n",
      "    [ 25  25  25]\n",
      "    ...\n",
      "    [ 25  25  25]\n",
      "    [ 25  26  24]\n",
      "    [ 25  26  24]]]\n",
      "\n",
      "\n",
      "  [[[ 25  25  25]\n",
      "    [ 25  25  25]\n",
      "    [ 25  25  25]\n",
      "    ...\n",
      "    [ 25  25  25]\n",
      "    [ 25  25  25]\n",
      "    [ 25  25  25]]\n",
      "\n",
      "   [[ 25  25  25]\n",
      "    [ 25  25  25]\n",
      "    [ 25  25  25]\n",
      "    ...\n",
      "    [ 25  25  25]\n",
      "    [ 25  25  25]\n",
      "    [ 25  25  25]]\n",
      "\n",
      "   [[ 25  25  25]\n",
      "    [ 25  25  25]\n",
      "    [ 25  25  25]\n",
      "    ...\n",
      "    [ 25  25  25]\n",
      "    [ 25  25  25]\n",
      "    [ 25  25  25]]\n",
      "\n",
      "   ...\n",
      "\n",
      "   [[ 25  25  25]\n",
      "    [ 25  25  25]\n",
      "    [ 25  25  25]\n",
      "    ...\n",
      "    [ 25  25  25]\n",
      "    [ 25  25  25]\n",
      "    [ 25  25  25]]\n",
      "\n",
      "   [[ 25  25  25]\n",
      "    [ 25  25  25]\n",
      "    [ 25  25  25]\n",
      "    ...\n",
      "    [ 25  25  25]\n",
      "    [ 25  25  25]\n",
      "    [ 25  25  25]]\n",
      "\n",
      "   [[ 25  25  25]\n",
      "    [ 25  25  25]\n",
      "    [ 25  25  25]\n",
      "    ...\n",
      "    [ 25  25  25]\n",
      "    [ 25  25  25]\n",
      "    [ 25  25  25]]]\n",
      "\n",
      "\n",
      "  [[[ 25  25  25]\n",
      "    [ 25  25  25]\n",
      "    [ 25  25  25]\n",
      "    ...\n",
      "    [ 25  25  25]\n",
      "    [ 25  26  24]\n",
      "    [ 25  26  24]]\n",
      "\n",
      "   [[ 25  25  25]\n",
      "    [ 25  25  25]\n",
      "    [ 25  25  25]\n",
      "    ...\n",
      "    [ 25  25  25]\n",
      "    [ 25  26  24]\n",
      "    [ 25  26  24]]\n",
      "\n",
      "   [[ 25  25  25]\n",
      "    [ 25  25  25]\n",
      "    [ 25  25  25]\n",
      "    ...\n",
      "    [ 25  25  25]\n",
      "    [ 25  26  24]\n",
      "    [ 25  26  24]]\n",
      "\n",
      "   ...\n",
      "\n",
      "   [[ 25  25  25]\n",
      "    [ 25  25  25]\n",
      "    [ 25  25  25]\n",
      "    ...\n",
      "    [ 25  25  25]\n",
      "    [ 27  25  25]\n",
      "    [ 27  25  25]]\n",
      "\n",
      "   [[ 25  25  25]\n",
      "    [ 25  25  25]\n",
      "    [ 25  25  25]\n",
      "    ...\n",
      "    [ 25  25  25]\n",
      "    [ 27  25  25]\n",
      "    [ 27  25  25]]\n",
      "\n",
      "   [[ 25  25  25]\n",
      "    [ 25  25  25]\n",
      "    [ 25  25  25]\n",
      "    ...\n",
      "    [ 25  25  25]\n",
      "    [ 27  25  25]\n",
      "    [ 27  25  25]]]\n",
      "\n",
      "\n",
      "  ...\n",
      "\n",
      "\n",
      "  [[[ 25  25  25]\n",
      "    [ 25  25  25]\n",
      "    [ 25  25  25]\n",
      "    ...\n",
      "    [ 24  25  23]\n",
      "    [ 24  25  23]\n",
      "    [ 24  25  23]]\n",
      "\n",
      "   [[ 25  25  25]\n",
      "    [ 25  25  25]\n",
      "    [ 25  25  25]\n",
      "    ...\n",
      "    [ 24  25  23]\n",
      "    [ 24  25  23]\n",
      "    [ 24  25  23]]\n",
      "\n",
      "   [[ 25  25  25]\n",
      "    [ 25  25  25]\n",
      "    [ 25  25  25]\n",
      "    ...\n",
      "    [ 24  25  23]\n",
      "    [ 24  25  23]\n",
      "    [ 24  25  23]]\n",
      "\n",
      "   ...\n",
      "\n",
      "   [[ 25  25  25]\n",
      "    [ 25  25  25]\n",
      "    [ 25  25  25]\n",
      "    ...\n",
      "    [ 25  25  25]\n",
      "    [ 23  25  25]\n",
      "    [ 23  25  25]]\n",
      "\n",
      "   [[ 25  25  25]\n",
      "    [ 25  25  25]\n",
      "    [ 25  25  25]\n",
      "    ...\n",
      "    [ 25  25  25]\n",
      "    [ 23  25  25]\n",
      "    [ 23  25  25]]\n",
      "\n",
      "   [[ 25  25  25]\n",
      "    [ 25  25  25]\n",
      "    [ 25  25  25]\n",
      "    ...\n",
      "    [ 25  25  25]\n",
      "    [ 23  25  25]\n",
      "    [ 23  25  25]]]\n",
      "\n",
      "\n",
      "  [[[ 25  26  24]\n",
      "    [ 25  26  24]\n",
      "    [ 25  25  25]\n",
      "    ...\n",
      "    [ 27  25  25]\n",
      "    [ 25  25  25]\n",
      "    [ 25  25  25]]\n",
      "\n",
      "   [[ 25  26  24]\n",
      "    [ 25  26  24]\n",
      "    [ 25  25  25]\n",
      "    ...\n",
      "    [ 27  25  25]\n",
      "    [ 25  25  25]\n",
      "    [ 25  25  25]]\n",
      "\n",
      "   [[ 25  25  25]\n",
      "    [ 25  25  25]\n",
      "    [ 25  25  25]\n",
      "    ...\n",
      "    [ 27  25  25]\n",
      "    [ 25  25  25]\n",
      "    [ 25  25  25]]\n",
      "\n",
      "   ...\n",
      "\n",
      "   [[ 14  48  91]\n",
      "    [ 33  66 112]\n",
      "    [ 32  63 118]\n",
      "    ...\n",
      "    [ 30  64 107]\n",
      "    [ 30  62 105]\n",
      "    [ 26  58  99]]\n",
      "\n",
      "   [[ 15  49  92]\n",
      "    [ 34  67 113]\n",
      "    [ 32  63 118]\n",
      "    ...\n",
      "    [ 30  64 107]\n",
      "    [ 30  62 105]\n",
      "    [ 26  58  99]]\n",
      "\n",
      "   [[ 15  49  92]\n",
      "    [ 34  67 113]\n",
      "    [ 32  63 118]\n",
      "    ...\n",
      "    [ 29  63 106]\n",
      "    [ 30  62 105]\n",
      "    [ 26  58  99]]]\n",
      "\n",
      "\n",
      "  [[[ 25  25  25]\n",
      "    [ 25  25  25]\n",
      "    [ 25  25  25]\n",
      "    ...\n",
      "    [ 25  25  25]\n",
      "    [ 25  25  25]\n",
      "    [ 25  25  25]]\n",
      "\n",
      "   [[ 25  25  25]\n",
      "    [ 25  25  25]\n",
      "    [ 25  25  25]\n",
      "    ...\n",
      "    [ 25  25  25]\n",
      "    [ 25  25  25]\n",
      "    [ 25  25  25]]\n",
      "\n",
      "   [[ 25  25  25]\n",
      "    [ 25  25  25]\n",
      "    [ 25  25  25]\n",
      "    ...\n",
      "    [ 25  25  25]\n",
      "    [ 25  25  25]\n",
      "    [ 25  25  25]]\n",
      "\n",
      "   ...\n",
      "\n",
      "   [[ 15  69 132]\n",
      "    [ 43 101 167]\n",
      "    [ 34  98 176]\n",
      "    ...\n",
      "    [ 32  99 174]\n",
      "    [ 39 101 172]\n",
      "    [ 29  90 158]]\n",
      "\n",
      "   [[ 14  69 130]\n",
      "    [ 42 100 166]\n",
      "    [ 35  97 175]\n",
      "    ...\n",
      "    [ 32  99 174]\n",
      "    [ 40 102 173]\n",
      "    [ 29  90 158]]\n",
      "\n",
      "   [[ 13  68 129]\n",
      "    [ 41  99 165]\n",
      "    [ 35  97 173]\n",
      "    ...\n",
      "    [ 33 100 175]\n",
      "    [ 40 102 173]\n",
      "    [ 30  91 159]]]]]\n"
     ],
     "output_type": "stream"
    }
   ],
   "source": [
    "import cv2\n",
    "a = np.zeros((1,16,112,112,3),dtype=np.uint8)\n",
    "path = \"../data/extract_result/8207_keyframe_\"\n",
    "for i in range(16):\n",
    "    ttt = cv2.imread(path + str(i) + \".jpg\")\n",
    "    a[0][i]=ttt\n",
    "print(a)\n"
   ],
   "metadata": {
    "collapsed": false,
    "pycharm": {
     "name": "#%%\n",
     "is_executing": false
    }
   }
  },
  {
   "cell_type": "code",
   "execution_count": 37,
   "outputs": [
    {
     "data": {
      "text/plain": "(2, 4096)"
     },
     "metadata": {},
     "output_type": "execute_result",
     "execution_count": 37
    }
   ],
   "source": [
    "nn = np.load(\"../data/features/video_feature.npy\")\n",
    "nn.shape"
   ],
   "metadata": {
    "collapsed": false,
    "pycharm": {
     "name": "#%%\n",
     "is_executing": false
    }
   }
  },
  {
   "cell_type": "code",
   "execution_count": 16,
   "outputs": [
    {
     "data": {
      "text/plain": "array([[0.92239142, 0.63752168, 0.8723046 , 0.37586822, 0.93240077,\n        0.13643338, 0.57266884, 0.47965237, 0.98768857, 0.19399802],\n       [0.28671036, 0.8570478 , 0.41872389, 0.84081027, 0.5489653 ,\n        0.53462023, 0.06055276, 0.55193522, 0.04404968, 0.24397932],\n       [0.22475283, 0.89794029, 0.67683918, 0.71362958, 0.16101695,\n        0.14222469, 0.87278751, 0.72553141, 0.88456263, 0.78012264],\n       [0.0885636 , 0.25815897, 0.48260497, 0.80369285, 0.0016321 ,\n        0.13279885, 0.38027498, 0.58788636, 0.45497192, 0.33269169],\n       [0.4120131 , 0.93486401, 0.94549515, 0.22424986, 0.51513926,\n        0.78120743, 0.91905125, 0.09966209, 0.51028826, 0.68104843]])"
     },
     "metadata": {},
     "output_type": "execute_result",
     "execution_count": 16
    }
   ],
   "source": [
    "haha = np.random.random((5,10))\n",
    "haha"
   ],
   "metadata": {
    "collapsed": false,
    "pycharm": {
     "name": "#%%\n",
     "is_executing": false
    }
   }
  },
  {
   "cell_type": "code",
   "execution_count": null,
   "outputs": [],
   "source": [
    "\n"
   ],
   "metadata": {
    "collapsed": false,
    "pycharm": {
     "name": "#%%\n"
    }
   }
  }
 ],
 "metadata": {
  "kernelspec": {
   "display_name": "Python 3",
   "language": "python",
   "name": "python3"
  },
  "language_info": {
   "codemirror_mode": {
    "name": "ipython",
    "version": 2
   },
   "file_extension": ".py",
   "mimetype": "text/x-python",
   "name": "python",
   "nbconvert_exporter": "python",
   "pygments_lexer": "ipython2",
   "version": "2.7.6"
  },
  "pycharm": {
   "stem_cell": {
    "cell_type": "raw",
    "source": [],
    "metadata": {
     "collapsed": false
    }
   }
  }
 },
 "nbformat": 4,
 "nbformat_minor": 0
}