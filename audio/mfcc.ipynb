{
 "cells": [
  {
   "cell_type": "code",
   "execution_count": 3,
   "metadata": {
    "collapsed": true,
    "pycharm": {
     "is_executing": false
    }
   },
   "outputs": [
    {
     "name": "stderr",
     "text": [
      "chunk:   4%|▍         | 28/665 [00:13<02:11,  4.83it/s, now=None]\n",
      "chunk:   0%|          | 0/665 [00:00<?, ?it/s, now=None]\u001b[A\n",
      "chunk:   0%|          | 3/665 [00:00<01:59,  5.55it/s, now=None]\u001b[A\n",
      "chunk:  10%|█         | 69/665 [00:00<01:15,  7.89it/s, now=None]\u001b[A\n",
      "chunk:  15%|█▌        | 102/665 [00:00<00:50, 11.16it/s, now=None]\u001b[A\n",
      "chunk:  21%|██▏       | 142/665 [00:00<00:33, 15.75it/s, now=None]\u001b[A\n",
      "chunk:  26%|██▌       | 171/665 [00:00<00:22, 21.98it/s, now=None]\u001b[A\n",
      "chunk:  31%|███       | 204/665 [00:01<00:15, 30.41it/s, now=None]\u001b[A\n",
      "chunk:  38%|███▊      | 251/665 [00:01<00:09, 42.26it/s, now=None]\u001b[A\n",
      "chunk:  45%|████▍     | 297/665 [00:01<00:06, 57.58it/s, now=None]\u001b[A\n",
      "chunk:  51%|█████     | 337/665 [00:01<00:04, 77.39it/s, now=None]\u001b[A\n",
      "chunk:  58%|█████▊    | 385/665 [00:01<00:02, 103.35it/s, now=None]\u001b[A\n",
      "chunk:  64%|██████▍   | 425/665 [00:01<00:01, 129.45it/s, now=None]\u001b[A\n",
      "chunk:  71%|███████▏  | 475/665 [00:01<00:01, 166.31it/s, now=None]\u001b[A\n",
      "chunk:  78%|███████▊  | 516/665 [00:01<00:00, 188.42it/s, now=None]\u001b[A\n",
      "chunk:  87%|████████▋ | 576/665 [00:01<00:00, 237.23it/s, now=None]\u001b[A\n",
      "chunk:  98%|█████████▊| 652/665 [00:02<00:00, 298.57it/s, now=None]\u001b[A\n",
      "chunk:   4%|▍         | 28/665 [00:16<02:11,  4.83it/s, now=None]  \u001b[A"
     ],
     "output_type": "stream"
    },
    {
     "name": "stdout",
     "text": [
      "MoviePy - Writing audio in ../data/audios/test.wav\n",
      "MoviePy - Done.\n"
     ],
     "output_type": "stream"
    }
   ],
   "source": [
    "from moviepy.editor import *\n",
    "# 从视频中提取音频\n",
    "video = VideoFileClip('../data/videos/8207_video.mp4')\n",
    "audio = video.audio\n",
    "audio.write_audiofile('../data/audios/test.wav')"
   ]
  },
  {
   "cell_type": "code",
   "execution_count": 4,
   "outputs": [
    {
     "name": "stderr",
     "text": [
      "WARNING:root:frame length (1103) is greater than FFT size (512), frame will be truncated. Increase NFFT to avoid.\n"
     ],
     "output_type": "stream"
    }
   ],
   "source": [
    "# 从wav中提取mfcc特征\n",
    "from python_speech_features import *\n",
    "import scipy.io.wavfile as wav\n",
    "import numpy as np\n",
    "filepath = \"../data/audios/test.wav\"\n",
    "fs, signal = wav.read(filepath)\n",
    "wav_feature =  mfcc(signal, fs)\n",
    "d_mfcc_feat = delta(wav_feature, 1)\n",
    "d_mfcc_feat2 = delta(wav_feature, 2)\n",
    "feature = np.hstack((wav_feature, d_mfcc_feat, d_mfcc_feat2))"
   ],
   "metadata": {
    "collapsed": false,
    "pycharm": {
     "name": "#%%\n",
     "is_executing": false
    }
   }
  },
  {
   "cell_type": "code",
   "execution_count": 5,
   "outputs": [
    {
     "name": "stdout",
     "text": [
      "(6023, 39)\n"
     ],
     "output_type": "stream"
    }
   ],
   "source": [
    "print(feature.shape)"
   ],
   "metadata": {
    "collapsed": false,
    "pycharm": {
     "name": "#%%\n",
     "is_executing": false
    }
   }
  },
  {
   "cell_type": "code",
   "execution_count": null,
   "outputs": [],
   "source": [
    "\n"
   ],
   "metadata": {
    "collapsed": false,
    "pycharm": {
     "name": "#%%\n"
    }
   }
  }
 ],
 "metadata": {
  "kernelspec": {
   "display_name": "Python 3",
   "language": "python",
   "name": "python3"
  },
  "language_info": {
   "codemirror_mode": {
    "name": "ipython",
    "version": 2
   },
   "file_extension": ".py",
   "mimetype": "text/x-python",
   "name": "python",
   "nbconvert_exporter": "python",
   "pygments_lexer": "ipython2",
   "version": "2.7.6"
  },
  "pycharm": {
   "stem_cell": {
    "cell_type": "raw",
    "source": [],
    "metadata": {
     "collapsed": false
    }
   }
  }
 },
 "nbformat": 4,
 "nbformat_minor": 0
}